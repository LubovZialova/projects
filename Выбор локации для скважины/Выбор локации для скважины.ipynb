{
 "cells": [
  {
   "cell_type": "markdown",
   "metadata": {},
   "source": [
    "# Выбор локации для скважины"
   ]
  },
  {
   "cell_type": "markdown",
   "metadata": {},
   "source": [
    "Для добывающей компании «ГлавРосГосНефть» нужно решить, где бурить новую скважину.\n",
    "\n",
    "Предоставлены пробы нефти в трёх регионах: в каждом 10 000 месторождений, где измерили качество нефти и объём её запасов.\n",
    "\n",
    "Цель: определить наиболее прибыльный регион\n",
    "\n",
    "Задачи:\n",
    "- Построить модель и оценить объём запасов;\n",
    "- Рассмотреть каждый регион и выбрать месторождения с самым высокими оценками значений;\n",
    "- Оценить прибыльность каждого региона;\n",
    "- Определить риски каждого региона техникой *Bootstrap*;\n",
    "- Выбрать наиболее прибыльный регион техникой *Bootstrap*.\n",
    "\n",
    "\n"
   ]
  },
  {
   "cell_type": "markdown",
   "metadata": {},
   "source": [
    "## Загрузка и подготовка данных"
   ]
  },
  {
   "cell_type": "code",
   "execution_count": 39,
   "metadata": {},
   "outputs": [],
   "source": [
    "import pandas as pd\n",
    "import numpy as np\n",
    "import seaborn as sns\n",
    "import matplotlib.pyplot as plt\n",
    "from scipy import stats\n",
    "from tqdm.notebook import tqdm\n",
    "\n",
    "from sklearn.metrics import mean_squared_error\n",
    "\n",
    "from sklearn.model_selection import train_test_split\n",
    "\n",
    "import scipy.stats as st\n",
    "\n",
    "from sklearn.linear_model import LinearRegression#линейная регрессия\n",
    "\n",
    "import warnings\n",
    "warnings.filterwarnings(\"ignore\")\n",
    "\n",
    "BUDGET = 10000000 #Бюджет на разработку скважин в регионе, тыс.руб\n",
    "INCOME_PER_BARREL = 450#Доход с каждой единицы продукта, тыс.руб \n",
    "PROBABILITY_of_LOSSES = 2.5/100 # вероятность убытков 2.5%\n",
    "COUNT_BOREHOLE = 200#выбираю 200 лучших для разработки скважин"
   ]
  },
  {
   "cell_type": "code",
   "execution_count": 40,
   "metadata": {},
   "outputs": [],
   "source": [
    "try:\n",
    "    df0 = pd.read_csv('C:/Users/Lubov/jupyter/ds/geo_data_0.csv' or '/datasets/geo_data_0.csv')\n",
    "    \n",
    "except:\n",
    "    df0 = pd.read_csv('https://code.s3.yandex.net/datasets/geo_data_0.csv')\n",
    "\n",
    "try:\n",
    "    df1 = pd.read_csv('C:/Users/Lubov/jupyter/ds/geo_data_1.csv' or '/datasets/geo_data_1.csv')\n",
    "    \n",
    "except:\n",
    "    df1 = pd.read_csv('https://code.s3.yandex.net/datasets/geo_data_1.csv')\n",
    "    \n",
    "try:\n",
    "    df2 = pd.read_csv('C:/Users/Lubov/jupyter/ds/geo_data_2.csv' or '/datasets/geo_data_2.csv')\n",
    "    \n",
    "except:\n",
    "    df2 = pd.read_csv('https://code.s3.yandex.net/datasets/geo_data_2.csv')"
   ]
  },
  {
   "cell_type": "code",
   "execution_count": 41,
   "metadata": {},
   "outputs": [
    {
     "data": {
      "text/html": [
       "<div>\n",
       "<style scoped>\n",
       "    .dataframe tbody tr th:only-of-type {\n",
       "        vertical-align: middle;\n",
       "    }\n",
       "\n",
       "    .dataframe tbody tr th {\n",
       "        vertical-align: top;\n",
       "    }\n",
       "\n",
       "    .dataframe thead th {\n",
       "        text-align: right;\n",
       "    }\n",
       "</style>\n",
       "<table border=\"1\" class=\"dataframe\">\n",
       "  <thead>\n",
       "    <tr style=\"text-align: right;\">\n",
       "      <th></th>\n",
       "      <th>id</th>\n",
       "      <th>f0</th>\n",
       "      <th>f1</th>\n",
       "      <th>f2</th>\n",
       "      <th>product</th>\n",
       "    </tr>\n",
       "  </thead>\n",
       "  <tbody>\n",
       "    <tr>\n",
       "      <th>0</th>\n",
       "      <td>txEyH</td>\n",
       "      <td>0.705745</td>\n",
       "      <td>-0.497823</td>\n",
       "      <td>1.221170</td>\n",
       "      <td>105.280062</td>\n",
       "    </tr>\n",
       "    <tr>\n",
       "      <th>1</th>\n",
       "      <td>2acmU</td>\n",
       "      <td>1.334711</td>\n",
       "      <td>-0.340164</td>\n",
       "      <td>4.365080</td>\n",
       "      <td>73.037750</td>\n",
       "    </tr>\n",
       "    <tr>\n",
       "      <th>2</th>\n",
       "      <td>409Wp</td>\n",
       "      <td>1.022732</td>\n",
       "      <td>0.151990</td>\n",
       "      <td>1.419926</td>\n",
       "      <td>85.265647</td>\n",
       "    </tr>\n",
       "    <tr>\n",
       "      <th>3</th>\n",
       "      <td>iJLyR</td>\n",
       "      <td>-0.032172</td>\n",
       "      <td>0.139033</td>\n",
       "      <td>2.978566</td>\n",
       "      <td>168.620776</td>\n",
       "    </tr>\n",
       "    <tr>\n",
       "      <th>4</th>\n",
       "      <td>Xdl7t</td>\n",
       "      <td>1.988431</td>\n",
       "      <td>0.155413</td>\n",
       "      <td>4.751769</td>\n",
       "      <td>154.036647</td>\n",
       "    </tr>\n",
       "  </tbody>\n",
       "</table>\n",
       "</div>"
      ],
      "text/plain": [
       "      id        f0        f1        f2     product\n",
       "0  txEyH  0.705745 -0.497823  1.221170  105.280062\n",
       "1  2acmU  1.334711 -0.340164  4.365080   73.037750\n",
       "2  409Wp  1.022732  0.151990  1.419926   85.265647\n",
       "3  iJLyR -0.032172  0.139033  2.978566  168.620776\n",
       "4  Xdl7t  1.988431  0.155413  4.751769  154.036647"
      ]
     },
     "execution_count": 41,
     "metadata": {},
     "output_type": "execute_result"
    }
   ],
   "source": [
    "df0.head()"
   ]
  },
  {
   "cell_type": "code",
   "execution_count": 42,
   "metadata": {},
   "outputs": [
    {
     "data": {
      "text/html": [
       "<div>\n",
       "<style scoped>\n",
       "    .dataframe tbody tr th:only-of-type {\n",
       "        vertical-align: middle;\n",
       "    }\n",
       "\n",
       "    .dataframe tbody tr th {\n",
       "        vertical-align: top;\n",
       "    }\n",
       "\n",
       "    .dataframe thead th {\n",
       "        text-align: right;\n",
       "    }\n",
       "</style>\n",
       "<table border=\"1\" class=\"dataframe\">\n",
       "  <thead>\n",
       "    <tr style=\"text-align: right;\">\n",
       "      <th></th>\n",
       "      <th>id</th>\n",
       "      <th>f0</th>\n",
       "      <th>f1</th>\n",
       "      <th>f2</th>\n",
       "      <th>product</th>\n",
       "    </tr>\n",
       "  </thead>\n",
       "  <tbody>\n",
       "    <tr>\n",
       "      <th>0</th>\n",
       "      <td>kBEdx</td>\n",
       "      <td>-15.001348</td>\n",
       "      <td>-8.276000</td>\n",
       "      <td>-0.005876</td>\n",
       "      <td>3.179103</td>\n",
       "    </tr>\n",
       "    <tr>\n",
       "      <th>1</th>\n",
       "      <td>62mP7</td>\n",
       "      <td>14.272088</td>\n",
       "      <td>-3.475083</td>\n",
       "      <td>0.999183</td>\n",
       "      <td>26.953261</td>\n",
       "    </tr>\n",
       "    <tr>\n",
       "      <th>2</th>\n",
       "      <td>vyE1P</td>\n",
       "      <td>6.263187</td>\n",
       "      <td>-5.948386</td>\n",
       "      <td>5.001160</td>\n",
       "      <td>134.766305</td>\n",
       "    </tr>\n",
       "    <tr>\n",
       "      <th>3</th>\n",
       "      <td>KcrkZ</td>\n",
       "      <td>-13.081196</td>\n",
       "      <td>-11.506057</td>\n",
       "      <td>4.999415</td>\n",
       "      <td>137.945408</td>\n",
       "    </tr>\n",
       "    <tr>\n",
       "      <th>4</th>\n",
       "      <td>AHL4O</td>\n",
       "      <td>12.702195</td>\n",
       "      <td>-8.147433</td>\n",
       "      <td>5.004363</td>\n",
       "      <td>134.766305</td>\n",
       "    </tr>\n",
       "  </tbody>\n",
       "</table>\n",
       "</div>"
      ],
      "text/plain": [
       "      id         f0         f1        f2     product\n",
       "0  kBEdx -15.001348  -8.276000 -0.005876    3.179103\n",
       "1  62mP7  14.272088  -3.475083  0.999183   26.953261\n",
       "2  vyE1P   6.263187  -5.948386  5.001160  134.766305\n",
       "3  KcrkZ -13.081196 -11.506057  4.999415  137.945408\n",
       "4  AHL4O  12.702195  -8.147433  5.004363  134.766305"
      ]
     },
     "execution_count": 42,
     "metadata": {},
     "output_type": "execute_result"
    }
   ],
   "source": [
    "df1.head()"
   ]
  },
  {
   "cell_type": "code",
   "execution_count": 43,
   "metadata": {},
   "outputs": [
    {
     "data": {
      "text/html": [
       "<div>\n",
       "<style scoped>\n",
       "    .dataframe tbody tr th:only-of-type {\n",
       "        vertical-align: middle;\n",
       "    }\n",
       "\n",
       "    .dataframe tbody tr th {\n",
       "        vertical-align: top;\n",
       "    }\n",
       "\n",
       "    .dataframe thead th {\n",
       "        text-align: right;\n",
       "    }\n",
       "</style>\n",
       "<table border=\"1\" class=\"dataframe\">\n",
       "  <thead>\n",
       "    <tr style=\"text-align: right;\">\n",
       "      <th></th>\n",
       "      <th>id</th>\n",
       "      <th>f0</th>\n",
       "      <th>f1</th>\n",
       "      <th>f2</th>\n",
       "      <th>product</th>\n",
       "    </tr>\n",
       "  </thead>\n",
       "  <tbody>\n",
       "    <tr>\n",
       "      <th>0</th>\n",
       "      <td>fwXo0</td>\n",
       "      <td>-1.146987</td>\n",
       "      <td>0.963328</td>\n",
       "      <td>-0.828965</td>\n",
       "      <td>27.758673</td>\n",
       "    </tr>\n",
       "    <tr>\n",
       "      <th>1</th>\n",
       "      <td>WJtFt</td>\n",
       "      <td>0.262778</td>\n",
       "      <td>0.269839</td>\n",
       "      <td>-2.530187</td>\n",
       "      <td>56.069697</td>\n",
       "    </tr>\n",
       "    <tr>\n",
       "      <th>2</th>\n",
       "      <td>ovLUW</td>\n",
       "      <td>0.194587</td>\n",
       "      <td>0.289035</td>\n",
       "      <td>-5.586433</td>\n",
       "      <td>62.871910</td>\n",
       "    </tr>\n",
       "    <tr>\n",
       "      <th>3</th>\n",
       "      <td>q6cA6</td>\n",
       "      <td>2.236060</td>\n",
       "      <td>-0.553760</td>\n",
       "      <td>0.930038</td>\n",
       "      <td>114.572842</td>\n",
       "    </tr>\n",
       "    <tr>\n",
       "      <th>4</th>\n",
       "      <td>WPMUX</td>\n",
       "      <td>-0.515993</td>\n",
       "      <td>1.716266</td>\n",
       "      <td>5.899011</td>\n",
       "      <td>149.600746</td>\n",
       "    </tr>\n",
       "  </tbody>\n",
       "</table>\n",
       "</div>"
      ],
      "text/plain": [
       "      id        f0        f1        f2     product\n",
       "0  fwXo0 -1.146987  0.963328 -0.828965   27.758673\n",
       "1  WJtFt  0.262778  0.269839 -2.530187   56.069697\n",
       "2  ovLUW  0.194587  0.289035 -5.586433   62.871910\n",
       "3  q6cA6  2.236060 -0.553760  0.930038  114.572842\n",
       "4  WPMUX -0.515993  1.716266  5.899011  149.600746"
      ]
     },
     "execution_count": 43,
     "metadata": {},
     "output_type": "execute_result"
    }
   ],
   "source": [
    "df2.head()"
   ]
  },
  {
   "cell_type": "markdown",
   "metadata": {},
   "source": [
    "Рассмотрим первый датасет"
   ]
  },
  {
   "cell_type": "code",
   "execution_count": 44,
   "metadata": {},
   "outputs": [
    {
     "name": "stdout",
     "output_type": "stream",
     "text": [
      "<class 'pandas.core.frame.DataFrame'>\n",
      "RangeIndex: 100000 entries, 0 to 99999\n",
      "Data columns (total 5 columns):\n",
      " #   Column   Non-Null Count   Dtype  \n",
      "---  ------   --------------   -----  \n",
      " 0   id       100000 non-null  object \n",
      " 1   f0       100000 non-null  float64\n",
      " 2   f1       100000 non-null  float64\n",
      " 3   f2       100000 non-null  float64\n",
      " 4   product  100000 non-null  float64\n",
      "dtypes: float64(4), object(1)\n",
      "memory usage: 3.8+ MB\n"
     ]
    }
   ],
   "source": [
    "df0.info()"
   ]
  },
  {
   "cell_type": "code",
   "execution_count": 45,
   "metadata": {},
   "outputs": [
    {
     "data": {
      "text/plain": [
       "id         0\n",
       "f0         0\n",
       "f1         0\n",
       "f2         0\n",
       "product    0\n",
       "dtype: int64"
      ]
     },
     "execution_count": 45,
     "metadata": {},
     "output_type": "execute_result"
    }
   ],
   "source": [
    "df0.isna().sum()"
   ]
  },
  {
   "cell_type": "code",
   "execution_count": 46,
   "metadata": {},
   "outputs": [
    {
     "data": {
      "text/plain": [
       "0"
      ]
     },
     "execution_count": 46,
     "metadata": {},
     "output_type": "execute_result"
    }
   ],
   "source": [
    "df0.duplicated().sum()"
   ]
  },
  {
   "cell_type": "code",
   "execution_count": 47,
   "metadata": {},
   "outputs": [
    {
     "data": {
      "image/png": "[encoded data removed]",
      "text/plain": [
       "<Figure size 500x500 with 2 Axes>"
      ]
     },
     "metadata": {},
     "output_type": "display_data"
    }
   ],
   "source": [
    "plt.figure(figsize=(5, 5))\n",
    "sns.heatmap(df0.corr(), annot=True, square=True);"
   ]
  },
  {
   "cell_type": "markdown",
   "metadata": {},
   "source": [
    "Рассмотрим второй датасет"
   ]
  },
  {
   "cell_type": "code",
   "execution_count": 48,
   "metadata": {},
   "outputs": [
    {
     "name": "stdout",
     "output_type": "stream",
     "text": [
      "<class 'pandas.core.frame.DataFrame'>\n",
      "RangeIndex: 100000 entries, 0 to 99999\n",
      "Data columns (total 5 columns):\n",
      " #   Column   Non-Null Count   Dtype  \n",
      "---  ------   --------------   -----  \n",
      " 0   id       100000 non-null  object \n",
      " 1   f0       100000 non-null  float64\n",
      " 2   f1       100000 non-null  float64\n",
      " 3   f2       100000 non-null  float64\n",
      " 4   product  100000 non-null  float64\n",
      "dtypes: float64(4), object(1)\n",
      "memory usage: 3.8+ MB\n"
     ]
    }
   ],
   "source": [
    "df1.info()"
   ]
  },
  {
   "cell_type": "code",
   "execution_count": 49,
   "metadata": {},
   "outputs": [
    {
     "data": {
      "text/plain": [
       "id         0\n",
       "f0         0\n",
       "f1         0\n",
       "f2         0\n",
       "product    0\n",
       "dtype: int64"
      ]
     },
     "execution_count": 49,
     "metadata": {},
     "output_type": "execute_result"
    }
   ],
   "source": [
    "df1.isna().sum()"
   ]
  },
  {
   "cell_type": "code",
   "execution_count": 50,
   "metadata": {},
   "outputs": [
    {
     "data": {
      "text/plain": [
       "0"
      ]
     },
     "execution_count": 50,
     "metadata": {},
     "output_type": "execute_result"
    }
   ],
   "source": [
    "df1.duplicated().sum()"
   ]
  },
  {
   "cell_type": "code",
   "execution_count": 51,
   "metadata": {},
   "outputs": [
    {
     "data": {
      "image/png": "[encoded data removed]",
      "text/plain": [
       "<Figure size 500x500 with 2 Axes>"
      ]
     },
     "metadata": {},
     "output_type": "display_data"
    }
   ],
   "source": [
    "plt.figure(figsize=(5, 5))\n",
    "sns.heatmap(df1.corr(), annot=True, square=True);"
   ]
  },
  {
   "cell_type": "markdown",
   "metadata": {},
   "source": [
    "Рассмотрим третий датасет"
   ]
  },
  {
   "cell_type": "code",
   "execution_count": 52,
   "metadata": {},
   "outputs": [
    {
     "name": "stdout",
     "output_type": "stream",
     "text": [
      "<class 'pandas.core.frame.DataFrame'>\n",
      "RangeIndex: 100000 entries, 0 to 99999\n",
      "Data columns (total 5 columns):\n",
      " #   Column   Non-Null Count   Dtype  \n",
      "---  ------   --------------   -----  \n",
      " 0   id       100000 non-null  object \n",
      " 1   f0       100000 non-null  float64\n",
      " 2   f1       100000 non-null  float64\n",
      " 3   f2       100000 non-null  float64\n",
      " 4   product  100000 non-null  float64\n",
      "dtypes: float64(4), object(1)\n",
      "memory usage: 3.8+ MB\n"
     ]
    }
   ],
   "source": [
    "df2.info()"
   ]
  },
  {
   "cell_type": "code",
   "execution_count": 53,
   "metadata": {},
   "outputs": [
    {
     "data": {
      "text/plain": [
       "id         0\n",
       "f0         0\n",
       "f1         0\n",
       "f2         0\n",
       "product    0\n",
       "dtype: int64"
      ]
     },
     "execution_count": 53,
     "metadata": {},
     "output_type": "execute_result"
    }
   ],
   "source": [
    "df2.isna().sum()"
   ]
  },
  {
   "cell_type": "code",
   "execution_count": 54,
   "metadata": {},
   "outputs": [
    {
     "data": {
      "text/plain": [
       "0"
      ]
     },
     "execution_count": 54,
     "metadata": {},
     "output_type": "execute_result"
    }
   ],
   "source": [
    "df2.duplicated().sum()"
   ]
  },
  {
   "cell_type": "code",
   "execution_count": 55,
   "metadata": {},
   "outputs": [
    {
     "data": {
      "image/png": "[encoded data removed]",
      "text/plain": [
       "<Figure size 500x500 with 2 Axes>"
      ]
     },
     "metadata": {},
     "output_type": "display_data"
    }
   ],
   "source": [
    "plt.figure(figsize=(5, 5))\n",
    "sns.heatmap(df2.corr(), annot=True, square=True);"
   ]
  },
  {
   "cell_type": "markdown",
   "metadata": {},
   "source": [
    "В каждом из регионов посмотрю на распределние запасов нефти"
   ]
  },
  {
   "cell_type": "code",
   "execution_count": 56,
   "metadata": {},
   "outputs": [
    {
     "data": {
      "image/png": "[encoded data removed]",
      "text/plain": [
       "<Figure size 600x400 with 1 Axes>"
      ]
     },
     "metadata": {},
     "output_type": "display_data"
    }
   ],
   "source": [
    "\n",
    "df0['product'].plot(kind='hist',figsize=(6,4),grid=True, legend=True, alpha=0.7, histtype='step', label='1 регион')\n",
    "df1['product'].plot(kind='hist',figsize=(6,4),grid=True, legend=True, alpha=0.7,histtype='step', label='2 регион')\n",
    "df2['product'].plot(kind='hist',figsize=(6,4),grid=True, legend=True, alpha=0.7,histtype='step', label='3 регион')\n",
    "\n",
    "\n",
    "plt.xlabel('Распределение данных')\n",
    "plt.ylabel('Объем запасов сырья, тыс.баррелей')\n",
    "plt.title('Графики распределения  объёма запасов в скважине в регионах, тыс. баррелей')\n",
    "plt.show()"
   ]
  },
  {
   "cell_type": "markdown",
   "metadata": {},
   "source": [
    "### Вывод:"
   ]
  },
  {
   "cell_type": "markdown",
   "metadata": {},
   "source": [
    "Предобработки данных не требуются (пропуски и дупликаты отсутствуют). Для второго региона стоит отметить сильную зависимость (коэф. корр.= 1) целевого показателя 'profit' от 'f2'. По распределнию запасов сырья в скважине можно сказать, что распределение во втором регионе отличается от распределений в 1 и 3 регионах."
   ]
  },
  {
   "cell_type": "code",
   "execution_count": 57,
   "metadata": {},
   "outputs": [
    {
     "data": {
      "text/plain": [
       "array([  3.17910258,  26.95326103, 134.76630516, 137.94540774,\n",
       "        84.03888568, 110.99214671,  53.90652206,   0.        ,\n",
       "       107.81304413,  57.08562465,  30.13236361,  80.85978309])"
      ]
     },
     "execution_count": 57,
     "metadata": {},
     "output_type": "execute_result"
    }
   ],
   "source": [
    "df1['product'].unique()"
   ]
  },
  {
   "cell_type": "code",
   "execution_count": 58,
   "metadata": {},
   "outputs": [
    {
     "data": {
      "text/plain": [
       "53.906522     8472\n",
       "26.953261     8468\n",
       "84.038886     8431\n",
       "57.085625     8390\n",
       "3.179103      8337\n",
       "80.859783     8320\n",
       "30.132364     8306\n",
       "134.766305    8304\n",
       "110.992147    8303\n",
       "0.000000      8235\n",
       "137.945408    8233\n",
       "107.813044    8201\n",
       "Name: product, dtype: int64"
      ]
     },
     "execution_count": 58,
     "metadata": {},
     "output_type": "execute_result"
    }
   ],
   "source": [
    "df1['product'].value_counts()"
   ]
  },
  {
   "cell_type": "code",
   "execution_count": 59,
   "metadata": {},
   "outputs": [
    {
     "data": {
      "text/plain": [
       "wt4Uk    2\n",
       "bfPNe    2\n",
       "LHZR0    2\n",
       "5ltQ6    2\n",
       "E01aS    1\n",
       "        ..\n",
       "xA3Ts    1\n",
       "nNoo1    1\n",
       "Ef0cS    1\n",
       "5mc0Y    1\n",
       "NbXZD    1\n",
       "Name: id, Length: 99996, dtype: int64"
      ]
     },
     "execution_count": 59,
     "metadata": {},
     "output_type": "execute_result"
    }
   ],
   "source": [
    "df1['id'].value_counts()"
   ]
  },
  {
   "cell_type": "code",
   "execution_count": 60,
   "metadata": {},
   "outputs": [
    {
     "data": {
      "text/plain": [
       "bsk9y    2\n",
       "AGS9W    2\n",
       "QcMuo    2\n",
       "TtcGQ    2\n",
       "bxg6G    2\n",
       "        ..\n",
       "3q9mH    1\n",
       "XZyWG    1\n",
       "bTne4    1\n",
       "UYsU9    1\n",
       "uOTFR    1\n",
       "Name: id, Length: 99990, dtype: int64"
      ]
     },
     "execution_count": 60,
     "metadata": {},
     "output_type": "execute_result"
    }
   ],
   "source": [
    "df0['id'].value_counts()"
   ]
  },
  {
   "cell_type": "code",
   "execution_count": 61,
   "metadata": {},
   "outputs": [
    {
     "data": {
      "text/plain": [
       "xCHr8    2\n",
       "VF7Jo    2\n",
       "KUPhW    2\n",
       "Vcm5J    2\n",
       "nU7DM    1\n",
       "        ..\n",
       "vLdee    1\n",
       "SN3dY    1\n",
       "Uk4jx    1\n",
       "JRILt    1\n",
       "ES7PV    1\n",
       "Name: id, Length: 99996, dtype: int64"
      ]
     },
     "execution_count": 61,
     "metadata": {},
     "output_type": "execute_result"
    }
   ],
   "source": [
    "df2['id'].value_counts()"
   ]
  },
  {
   "cell_type": "markdown",
   "metadata": {},
   "source": [
    "## Обучение и проверка модели"
   ]
  },
  {
   "cell_type": "code",
   "execution_count": 62,
   "metadata": {},
   "outputs": [],
   "source": [
    "# Для каждого региона объявлю две переменные features — признаки и target — целевой признак. Удаляю столбец \"id\", \n",
    "#так как по условиям задачи нам нет необходимости определять конкретные id скважин\n",
    "\n",
    "features_0 = df0.drop(['product',\"id\"], axis = 1)\n",
    "target_0 = df0['product']\n",
    "\n",
    "features_1 = df1.drop(['product',\"id\"], axis = 1)\n",
    "target_1 = df1['product']\n",
    "\n",
    "features_2 = df2.drop(['product',\"id\"], axis = 1)\n",
    "target_2 = df2['product']\n",
    "\n",
    "features_train_0, features_valid_0, target_train_0, target_valid_0 = train_test_split(\n",
    "    features_0, target_0, test_size = 0.25, random_state = 12345)\n",
    "\n",
    "features_train_1, features_valid_1, target_train_1, target_valid_1 = train_test_split(\n",
    "    features_1, target_1, test_size = 0.25, random_state = 12345)\n",
    "\n",
    "features_train_2, features_valid_2, target_train_2, target_valid_2 = train_test_split(\n",
    "    features_2, target_2, test_size = 0.25, random_state = 12345)"
   ]
  },
  {
   "cell_type": "code",
   "execution_count": 63,
   "metadata": {},
   "outputs": [
    {
     "name": "stdout",
     "output_type": "stream",
     "text": [
      "(75000,) (25000,)\n",
      "(75000,) (25000,)\n",
      "(75000,) (25000,)\n"
     ]
    }
   ],
   "source": [
    "print(target_train_0.shape, target_valid_0.shape)#посмотрю размеры выборок\n",
    "print(target_train_1.shape, target_valid_1.shape)\n",
    "print(target_train_2.shape, target_valid_2.shape)"
   ]
  },
  {
   "cell_type": "markdown",
   "metadata": {},
   "source": [
    "Обучу модель (по условиям задачи логистическая регрессия) и сделаю предсказания на валидационной выборке, оценю качество модели техникой RMSE и посчитаю средний запас сырья для каждого региона по предсказаниям. Для дальнейшего использования подготовлю массивы с выборками по регионам."
   ]
  },
  {
   "cell_type": "code",
   "execution_count": 64,
   "metadata": {},
   "outputs": [
    {
     "name": "stdout",
     "output_type": "stream",
     "text": [
      "RMSE для региона №1 37.5794217150813\n",
      "Cредний запас сырья для региона по предсказаниям 92.59 \n",
      "\n",
      "RMSE для региона №2 0.8930992867756167\n",
      "Cредний запас сырья для региона по предсказаниям 68.73 \n",
      "\n",
      "RMSE для региона №3 40.02970873393434\n",
      "Cредний запас сырья для региона по предсказаниям 94.97 \n",
      "\n"
     ]
    }
   ],
   "source": [
    "mass_train_features = [features_train_0, features_train_1, features_train_2]#тренировочный массив\n",
    "mass_train_targets = [target_train_0, target_train_1, target_train_2]\n",
    "\n",
    "mass_valid_features = [features_valid_0, features_valid_1, features_valid_2]#валидационный массив\n",
    "mass_valid_targets = [target_valid_0, target_valid_1, target_valid_2]\n",
    "\n",
    "mass_predictions = []#создаем массив с предсказаниями\n",
    "\n",
    "for i in range(len(mass_train_features)):\n",
    "    model = LinearRegression()\n",
    "    model.fit(mass_train_features[i], mass_train_targets[i])\n",
    "    predictions = model.predict(mass_valid_features[i])\n",
    "    mass_predictions.append(pd.Series(predictions))\n",
    "    print('RMSE для региона №' + str(i + 1), mean_squared_error(mass_valid_targets[i], predictions) ** 0.5)\n",
    "    print('Cредний запас сырья для региона по предсказаниям', predictions.mean().round(2), '\\n')"
   ]
  },
  {
   "cell_type": "markdown",
   "metadata": {},
   "source": [
    "Посмотрю средние запасы сырья по регионам исходя из данных"
   ]
  },
  {
   "cell_type": "code",
   "execution_count": 65,
   "metadata": {},
   "outputs": [
    {
     "name": "stdout",
     "output_type": "stream",
     "text": [
      "Cредний запас сырья в 1 регионе: 92.50 млн.баррелей\n",
      "Cредний запас сырья в 2 регионе: 68.83 млн.баррелей\n",
      "Cредний запас сырья в 3 регионе: 95.00 млн.баррелей\n"
     ]
    }
   ],
   "source": [
    "product_mean_0 = df0['product'].mean()\n",
    "product_mean_1 = df1['product'].mean()\n",
    "product_mean_2 = df2['product'].mean()\n",
    "print('Cредний запас сырья в 1 регионе: %.2f млн.баррелей'%product_mean_0)\n",
    "print('Cредний запас сырья в 2 регионе: %.2f млн.баррелей'%product_mean_1)\n",
    "print('Cредний запас сырья в 3 регионе: %.2f млн.баррелей'%product_mean_2)"
   ]
  },
  {
   "cell_type": "markdown",
   "metadata": {},
   "source": [
    "### Вывод:"
   ]
  },
  {
   "cell_type": "markdown",
   "metadata": {},
   "source": [
    "Самый большой средний запас сырья по предсказаниям - в 3 регионе, самый маленький - во втором. Средние данные по предсказаниям модели довольно близки к реальным средним данным.\n",
    "RMSE определяет среднеквадратичную ошибку в предсказании модели, RMSE во 2 регионе сильно отличается от 3 и 1 региона, можно предположить, что модель обучилась на данных очень близких к данным 2 региона.  "
   ]
  },
  {
   "cell_type": "markdown",
   "metadata": {},
   "source": [
    "## Подготовка к расчёту прибыли"
   ]
  },
  {
   "cell_type": "markdown",
   "metadata": {},
   "source": [
    "При разведке региона исследуют 500 точек, из которых с помощью машинного обучения выбирают 200 лучших для разработки.\n",
    "Бюджет на разработку скважин в регионе — 10 млрд рублей.\n",
    "При нынешних ценах один баррель сырья приносит 450 рублей дохода. Доход с каждой единицы продукта составляет 450 тыс. рублей, поскольку объём указан в тысячах баррелей.\n",
    "После оценки рисков нужно оставить лишь те регионы, в которых вероятность убытков меньше 2.5%. "
   ]
  },
  {
   "cell_type": "code",
   "execution_count": 67,
   "metadata": {},
   "outputs": [
    {
     "name": "stdout",
     "output_type": "stream",
     "text": [
      "Бюджет на разработку одной скважины: 50.0 млн.руб\n"
     ]
    }
   ],
   "source": [
    "budg_1=(BUDGET/200)# тыс.руб\n",
    "print('Бюджет на разработку одной скважины:', budg_1/1000,'млн.руб')"
   ]
  },
  {
   "cell_type": "code",
   "execution_count": 68,
   "metadata": {},
   "outputs": [
    {
     "name": "stdout",
     "output_type": "stream",
     "text": [
      "Точка безубыточности: 22222 тыс. баррелей\n"
     ]
    }
   ],
   "source": [
    "n = BUDGET/INCOME_PER_BARREL\n",
    "print(\"Точка безубыточности: {0:.0f} тыс. баррелей\".format(n))"
   ]
  },
  {
   "cell_type": "code",
   "execution_count": 69,
   "metadata": {},
   "outputs": [
    {
     "name": "stdout",
     "output_type": "stream",
     "text": [
      "Средний объем нефти в скважине для безубыточного функционирования: 111.11111111111111 тыс. баррелей\n"
     ]
    }
   ],
   "source": [
    "print(\"Средний объем нефти в скважине для безубыточного функционирования:\", n/count_borehole, 'тыс. баррелей')"
   ]
  },
  {
   "cell_type": "markdown",
   "metadata": {},
   "source": [
    "Регион 1. Средний запас сырья: 92.59 тыс. баррелей \n",
    "\n",
    "Регион 2. Средний запас сырья: 68.73 тыс. баррелей \n",
    "\n",
    "Регион 3. Средний запас сырья: 94.97 тыс. баррелей \n",
    "\n",
    "Объём сырья для безубыточной разработки новой скважины равен 111,1 тыс.баррелей, но в среднем каждый из регионов имеет меньшие значения. Так как средние данные меньше, то попробуем определить будет ли прибыль при разработке лучших 200 скважин."
   ]
  },
  {
   "cell_type": "code",
   "execution_count": 70,
   "metadata": {},
   "outputs": [
    {
     "data": {
      "text/plain": [
       "36.583"
      ]
     },
     "execution_count": 70,
     "metadata": {},
     "output_type": "execute_result"
    }
   ],
   "source": [
    "a=(df0['product']>111.111).mean()*100\n",
    "\n",
    "a#процент скважин, превышающих безубыточный объем для 1 региона"
   ]
  },
  {
   "cell_type": "code",
   "execution_count": 71,
   "metadata": {},
   "outputs": [
    {
     "data": {
      "text/plain": [
       "16.537"
      ]
     },
     "execution_count": 71,
     "metadata": {},
     "output_type": "execute_result"
    }
   ],
   "source": [
    "b=(df1['product']>111.111).mean()*100\n",
    "\n",
    "b#процент скважин, превышающих безубыточный объем для 2 региона"
   ]
  },
  {
   "cell_type": "code",
   "execution_count": 72,
   "metadata": {},
   "outputs": [
    {
     "data": {
      "text/plain": [
       "38.178"
      ]
     },
     "execution_count": 72,
     "metadata": {},
     "output_type": "execute_result"
    }
   ],
   "source": [
    "c=(df2['product']>111.111).mean()*100\n",
    "\n",
    "c#процент скважин, превышающих безубыточный объем для 3 региона"
   ]
  },
  {
   "cell_type": "markdown",
   "metadata": {},
   "source": [
    "## Расчёт прибыли и рисков "
   ]
  },
  {
   "cell_type": "markdown",
   "metadata": {},
   "source": [
    "Выполним привязку индексов скважин к предсказаниям модели и отсорируем список по убыванию"
   ]
  },
  {
   "cell_type": "code",
   "execution_count": 73,
   "metadata": {},
   "outputs": [
    {
     "data": {
      "text/plain": [
       "23388    173.299686\n",
       "7120     166.647830\n",
       "9610     166.586642\n",
       "19118    164.746455\n",
       "3694     163.352610\n",
       "            ...    \n",
       "7009     135.148071\n",
       "24625    135.110254\n",
       "20224    135.029240\n",
       "11167    135.026549\n",
       "4825     135.021708\n",
       "Length: 200, dtype: float64"
      ]
     },
     "execution_count": 73,
     "metadata": {},
     "output_type": "execute_result"
    }
   ],
   "source": [
    "probs_sorted_0 = pd.Series(mass_predictions[0], index=mass_valid_targets[0].index).sort_values(ascending=False)\n",
    "top200 = probs_sorted_0[:200]\n",
    "top200"
   ]
  },
  {
   "cell_type": "code",
   "execution_count": 74,
   "metadata": {},
   "outputs": [
    {
     "name": "stdout",
     "output_type": "stream",
     "text": [
      "Суммарный запас сырья в 200 лучших скважинах: 28695.27 тыс.баррелей\n"
     ]
    }
   ],
   "source": [
    "top200_sum_0 = top200.sum()\n",
    "print('Суммарный запас сырья в 200 лучших скважинах: %.2f тыс.баррелей'%top200_sum_0)"
   ]
  },
  {
   "cell_type": "code",
   "execution_count": 75,
   "metadata": {},
   "outputs": [
    {
     "name": "stdout",
     "output_type": "stream",
     "text": [
      "Прибыль для полученного объёма сырья составит 2912872.26 тыс.рублей\n"
     ]
    }
   ],
   "source": [
    "\n",
    "\n",
    "profit_0=(top200_sum_0*income_per_barrel)-budget \n",
    "print('Прибыль для полученного объёма сырья составит %.2f тыс.рублей'%profit_0)"
   ]
  },
  {
   "cell_type": "code",
   "execution_count": 76,
   "metadata": {},
   "outputs": [],
   "source": [
    "def profit_for_top200(predict,target,count):\n",
    "    probs_sorted = pd.Series(predict, index=target.index).sort_values(ascending=False)\n",
    "    selected_200_sum = probs_sorted[:count].sum()\n",
    "    profit_top200=(selected_200_sum*income_per_barrel)-budget\n",
    "    print('Запас сырья в 200 лучших скважинах: %.2f тыс.баррелей'%selected_200_sum)\n",
    "    print('Прибыль %.2f млн.рублей'%(profit_top200/1000))"
   ]
  },
  {
   "cell_type": "code",
   "execution_count": 77,
   "metadata": {},
   "outputs": [
    {
     "name": "stdout",
     "output_type": "stream",
     "text": [
      "Прибыль региона №1\n",
      "Запас сырья в 200 лучших скважинах: 28695.27 тыс.баррелей\n",
      "Прибыль 2912.87 млн.рублей\n",
      "\n",
      "Прибыль региона №2\n",
      "Запас сырья в 200 лучших скважинах: 27625.77 тыс.баррелей\n",
      "Прибыль 2431.60 млн.рублей\n",
      "\n",
      "Прибыль региона №3\n",
      "Запас сырья в 200 лучших скважинах: 27768.90 тыс.баррелей\n",
      "Прибыль 2496.01 млн.рублей\n",
      "\n"
     ]
    }
   ],
   "source": [
    "i=0\n",
    "for i in range(3):\n",
    "    print('Прибыль региона №' +  str(i + 1))\n",
    "    profit_for_top200(mass_predictions[i], mass_valid_targets[i], 200)\n",
    "    print('')"
   ]
  },
  {
   "cell_type": "markdown",
   "metadata": {},
   "source": [
    "Получилось, что все три региона потенциально прибыльные, далее определю наиболее выгодный регион и риски убытков."
   ]
  },
  {
   "cell_type": "code",
   "execution_count": 78,
   "metadata": {},
   "outputs": [],
   "source": [
    "def profit_for_top200_2(predict,target,count):\n",
    "    probs_sorted = pd.Series(predict).sort_values(ascending=False)\n",
    "    selected_200_sum = target[probs_sorted.index][:count]\n",
    "    product = selected_200_sum.sum()\n",
    "    revenue = product * income_per_barrel\n",
    "    return revenue - budget"
   ]
  },
  {
   "cell_type": "code",
   "execution_count": 83,
   "metadata": {},
   "outputs": [],
   "source": [
    "def bootstap_1000(target,predict):\n",
    "    values = []\n",
    "    count=0\n",
    "    state = np.random.RandomState(12345)\n",
    "    \n",
    "    for i in tqdm(range(1000)):\n",
    "        target_subsample = target.reset_index(drop=True).sample(n=500,replace=True, random_state=state)\n",
    "        probs_subsample = predict[target_subsample.index]\n",
    "        values.append(profit_for_top200_2(probs_subsample,target_subsample, 200))  \n",
    "    for i in values:\n",
    "        if i < 0:\n",
    "            count +=1\n",
    "            \n",
    "    values = pd.Series(values)\n",
    "    \n",
    "    mean = values.mean()\n",
    "    confidence_interval = st.t.interval(0.95, len(values)-1, values.mean(), values.sem())\n",
    "    \n",
    "    plt.title('Распределение прибыли')\n",
    "    values.plot(kind=\"hist\", grid=True, figsize=(5,3))\n",
    "    plt.xlabel('Прибыль, тыс.руб')\n",
    "    plt.ylabel('Количество')\n",
    "    plt.show()\n",
    "    \n",
    "    low_95 = values.quantile(0.025)\n",
    "    high_95 = values.quantile(0.975)\n",
    "    \n",
    "    print(\"Средняя прибыль: {:.2f} млн.руб\".format(mean/1000))\n",
    "    print('С вероятностью 95% прибыль в данном регионе будет составлять от: {:.2f} млн.руб до: {:.2f} млн.руб'.format((low_95/1000),(high_95/1000)))\n",
    "    print(\"95%-ый доверительный интервал: от {:.2f} млн.руб до {:.2f} млн.руб\". format((confidence_interval[0]/1000),(confidence_interval[1]/1000)))\n",
    "    print ('Процент вероятности убытка {:.1%}'.format(count/1000))"
   ]
  },
  {
   "cell_type": "code",
   "execution_count": 84,
   "metadata": {
    "scrolled": false
   },
   "outputs": [
    {
     "name": "stdout",
     "output_type": "stream",
     "text": [
      "Регион №1\n"
     ]
    },
    {
     "data": {
      "application/vnd.jupyter.widget-view+json": {
       "model_id": "2dd0b29b7e604b16806e38605bf32a6a",
       "version_major": 2,
       "version_minor": 0
      },
      "text/plain": [
       "  0%|          | 0/1000 [00:00<?, ?it/s]"
      ]
     },
     "metadata": {},
     "output_type": "display_data"
    },
    {
     "data": {
      "image/png": "[encoded data removed]",
      "text/plain": [
       "<Figure size 500x300 with 1 Axes>"
      ]
     },
     "metadata": {},
     "output_type": "display_data"
    },
    {
     "name": "stdout",
     "output_type": "stream",
     "text": [
      "Средняя прибыль: 425.94 млн.руб\n",
      "С вероятностью 95% прибыль в данном регионе будет составлять от: -102.09 млн.руб до: 947.98 млн.руб\n",
      "95%-ый доверительный интервал: от 408.73 млн.руб до 443.14 млн.руб\n",
      "Процент вероятности убытка 6.0%\n",
      "\n",
      "Регион №2\n"
     ]
    },
    {
     "data": {
      "application/vnd.jupyter.widget-view+json": {
       "model_id": "f24c8e4c38ac4082be08d1dc2e328d3e",
       "version_major": 2,
       "version_minor": 0
      },
      "text/plain": [
       "  0%|          | 0/1000 [00:00<?, ?it/s]"
      ]
     },
     "metadata": {},
     "output_type": "display_data"
    },
    {
     "data": {
      "image/png": "[encoded data removed]",
      "text/plain": [
       "<Figure size 500x300 with 1 Axes>"
      ]
     },
     "metadata": {},
     "output_type": "display_data"
    },
    {
     "name": "stdout",
     "output_type": "stream",
     "text": [
      "Средняя прибыль: 515.22 млн.руб\n",
      "С вероятностью 95% прибыль в данном регионе будет составлять от: 68.87 млн.руб до: 931.55 млн.руб\n",
      "95%-ый доверительный интервал: от 501.62 млн.руб до 528.82 млн.руб\n",
      "Процент вероятности убытка 1.0%\n",
      "\n",
      "Регион №3\n"
     ]
    },
    {
     "data": {
      "application/vnd.jupyter.widget-view+json": {
       "model_id": "bf7df376c369427fb6355cc8e4e234a8",
       "version_major": 2,
       "version_minor": 0
      },
      "text/plain": [
       "  0%|          | 0/1000 [00:00<?, ?it/s]"
      ]
     },
     "metadata": {},
     "output_type": "display_data"
    },
    {
     "data": {
      "image/png": "[encoded data removed]",
      "text/plain": [
       "<Figure size 500x300 with 1 Axes>"
      ]
     },
     "metadata": {},
     "output_type": "display_data"
    },
    {
     "name": "stdout",
     "output_type": "stream",
     "text": [
      "Средняя прибыль: 435.01 млн.руб\n",
      "С вероятностью 95% прибыль в данном регионе будет составлять от: -128.88 млн.руб до: 969.71 млн.руб\n",
      "95%-ый доверительный интервал: от 417.45 млн.руб до 452.56 млн.руб\n",
      "Процент вероятности убытка 6.4%\n",
      "\n"
     ]
    }
   ],
   "source": [
    "i=0\n",
    "for i in range(3):\n",
    "    print('Регион №' +  str(i + 1))\n",
    "    bootstap_1000(mass_valid_targets[i], mass_predictions[i])\n",
    "    print('')"
   ]
  },
  {
   "cell_type": "markdown",
   "metadata": {},
   "source": [
    "### Вывод"
   ]
  },
  {
   "cell_type": "markdown",
   "metadata": {},
   "source": [
    "Регион №1 \n",
    "Средняя прибыль: 425.94 млн.руб\n",
    "Процент вероятности убытка 6.0%\n",
    "\n",
    "Регион №2 \n",
    "Средняя прибыль: 515.22 млн.руб\n",
    "Процент вероятности убытка 1%\n",
    "\n",
    "Регион №3\n",
    "Средняя прибыль: 435.01 млн.руб\n",
    "Процент вероятности убытка 6.4%\n",
    "\n",
    "Все три региона потенциально прибыльные, самый прибыльный регион №2, также регион №2 имеет самый низкий процент вероятности убытка - 1%, что удовлетворят порог условий задачи - 2,5%.\n",
    "\n",
    "Выше мы видим, что средний запас сырья во 2 регионе был наименьший - 68.73 тыс. баррелей, но по итогам исследования, по 200 лучшим скважинам 2 регион лидирует по прибыльности."
   ]
  },
  {
   "cell_type": "markdown",
   "metadata": {},
   "source": [
    "## Вывод"
   ]
  },
  {
   "cell_type": "markdown",
   "metadata": {},
   "source": [
    "В результате исследования было рассмотрено 3 региона, в каждом регионе - 10000 скважин. При подсчете средних запасов по скважинам, я пришла к выводу, что запасов недостаточно для безубыточного функционирования (даже для окупаемости), далее проанализировала лучшие 200 скважин, обучила модель линейной регрессии и выполнила предсказания, а так же применили технологию bootstrap (с разделением на 1000 выборок).\n",
    "\n",
    "По условиям задачи доверительный интервал получения прибыли определен в 95%, вероятность убытка - менее 2,5%, условиям удовлетворяет только 2 регион.\n",
    "\n",
    "Несмотря на наименьший по сравнению с другими средний запас сырья во 2 регионе - 68.73 тыс. баррелей, по итогам исследования, по 200 лучшим скважинам 2 регион лидирует по прибыльности - средняя прибыль: 515.22 млн.руб, процент вероятности убытка 1%."
   ]
  }
 ],
 "metadata": {
  "ExecuteTimeLog": [
   {
    "duration": 2360,
    "start_time": "2023-03-24T04:20:38.634Z"
   },
   {
    "duration": 1250,
    "start_time": "2023-03-24T04:20:40.995Z"
   },
   {
    "duration": 11,
    "start_time": "2023-03-24T04:20:42.247Z"
   },
   {
    "duration": 8,
    "start_time": "2023-03-24T04:20:42.260Z"
   },
   {
    "duration": 43,
    "start_time": "2023-03-24T04:20:42.278Z"
   },
   {
    "duration": 19,
    "start_time": "2023-03-24T04:20:42.324Z"
   },
   {
    "duration": 9,
    "start_time": "2023-03-24T04:20:42.344Z"
   },
   {
    "duration": 72,
    "start_time": "2023-03-24T04:20:42.354Z"
   },
   {
    "duration": 365,
    "start_time": "2023-03-24T04:20:42.428Z"
   },
   {
    "duration": 21,
    "start_time": "2023-03-24T04:20:42.795Z"
   },
   {
    "duration": 18,
    "start_time": "2023-03-24T04:20:42.817Z"
   },
   {
    "duration": 32,
    "start_time": "2023-03-24T04:20:42.837Z"
   },
   {
    "duration": 318,
    "start_time": "2023-03-24T04:20:42.871Z"
   },
   {
    "duration": 23,
    "start_time": "2023-03-24T04:20:43.190Z"
   },
   {
    "duration": 14,
    "start_time": "2023-03-24T04:20:43.215Z"
   },
   {
    "duration": 37,
    "start_time": "2023-03-24T04:20:43.230Z"
   },
   {
    "duration": 287,
    "start_time": "2023-03-24T04:20:43.268Z"
   },
   {
    "duration": 248,
    "start_time": "2023-03-24T04:20:43.557Z"
   },
   {
    "duration": 37,
    "start_time": "2023-03-24T04:20:43.806Z"
   },
   {
    "duration": 4,
    "start_time": "2023-03-24T04:20:43.845Z"
   },
   {
    "duration": 267,
    "start_time": "2023-03-24T04:20:43.850Z"
   },
   {
    "duration": 62,
    "start_time": "2023-03-24T04:20:44.119Z"
   },
   {
    "duration": 94,
    "start_time": "2023-03-24T04:20:44.183Z"
   },
   {
    "duration": 10,
    "start_time": "2023-03-24T04:20:44.279Z"
   },
   {
    "duration": 38,
    "start_time": "2023-03-24T04:20:44.290Z"
   },
   {
    "duration": 12,
    "start_time": "2023-03-24T04:20:44.330Z"
   },
   {
    "duration": 8,
    "start_time": "2023-03-24T04:20:44.344Z"
   },
   {
    "duration": 3,
    "start_time": "2023-03-24T04:20:44.354Z"
   },
   {
    "duration": 139,
    "start_time": "2023-03-24T04:20:44.358Z"
   },
   {
    "duration": 0,
    "start_time": "2023-03-24T04:20:44.498Z"
   },
   {
    "duration": 0,
    "start_time": "2023-03-24T04:20:44.499Z"
   },
   {
    "duration": 0,
    "start_time": "2023-03-24T04:20:44.500Z"
   },
   {
    "duration": 0,
    "start_time": "2023-03-24T04:20:44.500Z"
   },
   {
    "duration": 0,
    "start_time": "2023-03-24T04:20:44.501Z"
   },
   {
    "duration": 7,
    "start_time": "2023-03-24T04:21:15.202Z"
   },
   {
    "duration": 4,
    "start_time": "2023-03-24T04:21:17.932Z"
   },
   {
    "duration": 13,
    "start_time": "2023-03-24T04:21:21.252Z"
   },
   {
    "duration": 3,
    "start_time": "2023-03-24T04:21:23.749Z"
   },
   {
    "duration": 9,
    "start_time": "2023-03-24T04:21:26.130Z"
   },
   {
    "duration": 4776,
    "start_time": "2023-03-24T04:21:29.868Z"
   },
   {
    "duration": 94,
    "start_time": "2023-03-24T05:25:17.575Z"
   },
   {
    "duration": 1909,
    "start_time": "2023-03-24T05:25:40.262Z"
   },
   {
    "duration": 1492,
    "start_time": "2023-03-24T05:25:42.174Z"
   },
   {
    "duration": 18,
    "start_time": "2023-03-24T05:25:43.668Z"
   },
   {
    "duration": 15,
    "start_time": "2023-03-24T05:25:43.688Z"
   },
   {
    "duration": 12,
    "start_time": "2023-03-24T05:25:43.705Z"
   },
   {
    "duration": 31,
    "start_time": "2023-03-24T05:25:43.719Z"
   },
   {
    "duration": 32,
    "start_time": "2023-03-24T05:25:43.754Z"
   },
   {
    "duration": 46,
    "start_time": "2023-03-24T05:25:43.788Z"
   },
   {
    "duration": 412,
    "start_time": "2023-03-24T05:25:43.983Z"
   },
   {
    "duration": 17,
    "start_time": "2023-03-24T05:25:44.469Z"
   },
   {
    "duration": 11,
    "start_time": "2023-03-24T05:25:44.630Z"
   },
   {
    "duration": 78,
    "start_time": "2023-03-24T05:25:44.837Z"
   },
   {
    "duration": 357,
    "start_time": "2023-03-24T05:25:45.023Z"
   },
   {
    "duration": 21,
    "start_time": "2023-03-24T05:25:45.631Z"
   },
   {
    "duration": 12,
    "start_time": "2023-03-24T05:25:46.006Z"
   },
   {
    "duration": 67,
    "start_time": "2023-03-24T05:25:46.309Z"
   },
   {
    "duration": 382,
    "start_time": "2023-03-24T05:25:46.695Z"
   },
   {
    "duration": 307,
    "start_time": "2023-03-24T05:25:47.427Z"
   },
   {
    "duration": 95,
    "start_time": "2023-03-24T05:25:50.305Z"
   },
   {
    "duration": 196,
    "start_time": "2023-03-24T05:26:19.583Z"
   },
   {
    "duration": 8,
    "start_time": "2023-03-24T05:28:10.993Z"
   },
   {
    "duration": 9,
    "start_time": "2023-03-24T05:29:16.799Z"
   },
   {
    "duration": 320,
    "start_time": "2023-03-24T05:29:49.858Z"
   },
   {
    "duration": 180,
    "start_time": "2023-03-24T05:30:03.870Z"
   },
   {
    "duration": 278,
    "start_time": "2023-03-24T05:30:08.668Z"
   },
   {
    "duration": 122,
    "start_time": "2023-03-24T05:49:47.973Z"
   },
   {
    "duration": 139,
    "start_time": "2023-03-24T05:50:06.000Z"
   },
   {
    "duration": 13,
    "start_time": "2023-03-24T05:50:16.004Z"
   },
   {
    "duration": 115,
    "start_time": "2023-03-24T05:50:25.270Z"
   },
   {
    "duration": 15,
    "start_time": "2023-03-24T06:03:26.390Z"
   },
   {
    "duration": 3,
    "start_time": "2023-03-24T06:04:12.773Z"
   },
   {
    "duration": 6,
    "start_time": "2023-03-24T06:04:16.965Z"
   },
   {
    "duration": 10,
    "start_time": "2023-03-24T06:04:36.825Z"
   },
   {
    "duration": 10,
    "start_time": "2023-03-24T06:04:46.227Z"
   },
   {
    "duration": 6,
    "start_time": "2023-03-24T06:04:54.696Z"
   },
   {
    "duration": 6,
    "start_time": "2023-03-24T06:05:09.408Z"
   },
   {
    "duration": 9,
    "start_time": "2023-03-24T06:22:40.894Z"
   },
   {
    "duration": 8,
    "start_time": "2023-03-24T06:24:04.285Z"
   },
   {
    "duration": 10,
    "start_time": "2023-03-24T06:24:17.270Z"
   },
   {
    "duration": 11,
    "start_time": "2023-03-24T06:24:57.268Z"
   }
  ],
  "kernelspec": {
   "display_name": "Python 3 (ipykernel)",
   "language": "python",
   "name": "python3"
  },
  "language_info": {
   "codemirror_mode": {
    "name": "ipython",
    "version": 3
   },
   "file_extension": ".py",
   "mimetype": "text/x-python",
   "name": "python",
   "nbconvert_exporter": "python",
   "pygments_lexer": "ipython3",
   "version": "3.9.15"
  },
  "toc": {
   "base_numbering": 1,
   "nav_menu": {},
   "number_sections": true,
   "sideBar": true,
   "skip_h1_title": true,
   "title_cell": "Table of Contents",
   "title_sidebar": "Contents",
   "toc_cell": false,
   "toc_position": {},
   "toc_section_display": true,
   "toc_window_display": true
  }
 },
 "nbformat": 4,
 "nbformat_minor": 2
}
