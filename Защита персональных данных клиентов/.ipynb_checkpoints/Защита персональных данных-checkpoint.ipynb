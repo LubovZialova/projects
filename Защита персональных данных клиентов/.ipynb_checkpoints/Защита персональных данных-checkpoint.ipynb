{
 "cells": [
  {
   "cell_type": "markdown",
   "metadata": {},
   "source": [
    "# Защита персональных данных клиентов"
   ]
  },
  {
   "cell_type": "markdown",
   "metadata": {},
   "source": [
    "В распоряжении данные клиентов страховой компании «Хоть потоп». \n",
    "\n",
    "Цель: защитить данные, чтобы при преобразовании качество моделей машинного обучения не ухудшилось.\n",
    "\n",
    "Задачи:\n",
    "\n",
    "1. Преобразовать данные, чтобы по ним было сложно восстановить персональную информацию. \n",
    "2. Обосновать корректность  работы метода."
   ]
  },
  {
   "cell_type": "markdown",
   "metadata": {},
   "source": [
    "## 1. Загрузка данных"
   ]
  },
  {
   "cell_type": "code",
   "execution_count": 18,
   "metadata": {},
   "outputs": [],
   "source": [
    "import pandas as pd\n",
    "import numpy as np\n",
    "\n",
    "import seaborn as sns\n",
    "import matplotlib.pyplot as plt\n",
    "\n",
    "from sklearn.metrics import r2_score"
   ]
  },
  {
   "cell_type": "code",
   "execution_count": 19,
   "metadata": {},
   "outputs": [],
   "source": [
    "df = pd.read_csv('C:/Users/Lubov/jupyter/ds/insurance.csv')"
   ]
  },
  {
   "cell_type": "code",
   "execution_count": 20,
   "metadata": {},
   "outputs": [
    {
     "data": {
      "text/html": [
       "<div>\n",
       "<style scoped>\n",
       "    .dataframe tbody tr th:only-of-type {\n",
       "        vertical-align: middle;\n",
       "    }\n",
       "\n",
       "    .dataframe tbody tr th {\n",
       "        vertical-align: top;\n",
       "    }\n",
       "\n",
       "    .dataframe thead th {\n",
       "        text-align: right;\n",
       "    }\n",
       "</style>\n",
       "<table border=\"1\" class=\"dataframe\">\n",
       "  <thead>\n",
       "    <tr style=\"text-align: right;\">\n",
       "      <th></th>\n",
       "      <th>Пол</th>\n",
       "      <th>Возраст</th>\n",
       "      <th>Зарплата</th>\n",
       "      <th>Члены семьи</th>\n",
       "      <th>Страховые выплаты</th>\n",
       "    </tr>\n",
       "  </thead>\n",
       "  <tbody>\n",
       "    <tr>\n",
       "      <th>0</th>\n",
       "      <td>1</td>\n",
       "      <td>41.0</td>\n",
       "      <td>49600.0</td>\n",
       "      <td>1</td>\n",
       "      <td>0</td>\n",
       "    </tr>\n",
       "    <tr>\n",
       "      <th>1</th>\n",
       "      <td>0</td>\n",
       "      <td>46.0</td>\n",
       "      <td>38000.0</td>\n",
       "      <td>1</td>\n",
       "      <td>1</td>\n",
       "    </tr>\n",
       "    <tr>\n",
       "      <th>2</th>\n",
       "      <td>0</td>\n",
       "      <td>29.0</td>\n",
       "      <td>21000.0</td>\n",
       "      <td>0</td>\n",
       "      <td>0</td>\n",
       "    </tr>\n",
       "    <tr>\n",
       "      <th>3</th>\n",
       "      <td>0</td>\n",
       "      <td>21.0</td>\n",
       "      <td>41700.0</td>\n",
       "      <td>2</td>\n",
       "      <td>0</td>\n",
       "    </tr>\n",
       "    <tr>\n",
       "      <th>4</th>\n",
       "      <td>1</td>\n",
       "      <td>28.0</td>\n",
       "      <td>26100.0</td>\n",
       "      <td>0</td>\n",
       "      <td>0</td>\n",
       "    </tr>\n",
       "  </tbody>\n",
       "</table>\n",
       "</div>"
      ],
      "text/plain": [
       "   Пол  Возраст  Зарплата  Члены семьи  Страховые выплаты\n",
       "0    1     41.0   49600.0            1                  0\n",
       "1    0     46.0   38000.0            1                  1\n",
       "2    0     29.0   21000.0            0                  0\n",
       "3    0     21.0   41700.0            2                  0\n",
       "4    1     28.0   26100.0            0                  0"
      ]
     },
     "metadata": {},
     "output_type": "display_data"
    },
    {
     "data": {
      "text/plain": [
       "'Кол-во пропусков:'"
      ]
     },
     "metadata": {},
     "output_type": "display_data"
    },
    {
     "data": {
      "text/plain": [
       "Пол                  0\n",
       "Возраст              0\n",
       "Зарплата             0\n",
       "Члены семьи          0\n",
       "Страховые выплаты    0\n",
       "dtype: int64"
      ]
     },
     "metadata": {},
     "output_type": "display_data"
    },
    {
     "data": {
      "text/html": [
       "<div>\n",
       "<style scoped>\n",
       "    .dataframe tbody tr th:only-of-type {\n",
       "        vertical-align: middle;\n",
       "    }\n",
       "\n",
       "    .dataframe tbody tr th {\n",
       "        vertical-align: top;\n",
       "    }\n",
       "\n",
       "    .dataframe thead th {\n",
       "        text-align: right;\n",
       "    }\n",
       "</style>\n",
       "<table border=\"1\" class=\"dataframe\">\n",
       "  <thead>\n",
       "    <tr style=\"text-align: right;\">\n",
       "      <th></th>\n",
       "      <th>Пол</th>\n",
       "      <th>Возраст</th>\n",
       "      <th>Зарплата</th>\n",
       "      <th>Члены семьи</th>\n",
       "      <th>Страховые выплаты</th>\n",
       "    </tr>\n",
       "  </thead>\n",
       "  <tbody>\n",
       "    <tr>\n",
       "      <th>count</th>\n",
       "      <td>5000.000000</td>\n",
       "      <td>5000.000000</td>\n",
       "      <td>5000.000000</td>\n",
       "      <td>5000.000000</td>\n",
       "      <td>5000.000000</td>\n",
       "    </tr>\n",
       "    <tr>\n",
       "      <th>mean</th>\n",
       "      <td>0.499000</td>\n",
       "      <td>30.952800</td>\n",
       "      <td>39916.360000</td>\n",
       "      <td>1.194200</td>\n",
       "      <td>0.148000</td>\n",
       "    </tr>\n",
       "    <tr>\n",
       "      <th>std</th>\n",
       "      <td>0.500049</td>\n",
       "      <td>8.440807</td>\n",
       "      <td>9900.083569</td>\n",
       "      <td>1.091387</td>\n",
       "      <td>0.463183</td>\n",
       "    </tr>\n",
       "    <tr>\n",
       "      <th>min</th>\n",
       "      <td>0.000000</td>\n",
       "      <td>18.000000</td>\n",
       "      <td>5300.000000</td>\n",
       "      <td>0.000000</td>\n",
       "      <td>0.000000</td>\n",
       "    </tr>\n",
       "    <tr>\n",
       "      <th>25%</th>\n",
       "      <td>0.000000</td>\n",
       "      <td>24.000000</td>\n",
       "      <td>33300.000000</td>\n",
       "      <td>0.000000</td>\n",
       "      <td>0.000000</td>\n",
       "    </tr>\n",
       "    <tr>\n",
       "      <th>50%</th>\n",
       "      <td>0.000000</td>\n",
       "      <td>30.000000</td>\n",
       "      <td>40200.000000</td>\n",
       "      <td>1.000000</td>\n",
       "      <td>0.000000</td>\n",
       "    </tr>\n",
       "    <tr>\n",
       "      <th>75%</th>\n",
       "      <td>1.000000</td>\n",
       "      <td>37.000000</td>\n",
       "      <td>46600.000000</td>\n",
       "      <td>2.000000</td>\n",
       "      <td>0.000000</td>\n",
       "    </tr>\n",
       "    <tr>\n",
       "      <th>max</th>\n",
       "      <td>1.000000</td>\n",
       "      <td>65.000000</td>\n",
       "      <td>79000.000000</td>\n",
       "      <td>6.000000</td>\n",
       "      <td>5.000000</td>\n",
       "    </tr>\n",
       "  </tbody>\n",
       "</table>\n",
       "</div>"
      ],
      "text/plain": [
       "               Пол      Возраст      Зарплата  Члены семьи  Страховые выплаты\n",
       "count  5000.000000  5000.000000   5000.000000  5000.000000        5000.000000\n",
       "mean      0.499000    30.952800  39916.360000     1.194200           0.148000\n",
       "std       0.500049     8.440807   9900.083569     1.091387           0.463183\n",
       "min       0.000000    18.000000   5300.000000     0.000000           0.000000\n",
       "25%       0.000000    24.000000  33300.000000     0.000000           0.000000\n",
       "50%       0.000000    30.000000  40200.000000     1.000000           0.000000\n",
       "75%       1.000000    37.000000  46600.000000     2.000000           0.000000\n",
       "max       1.000000    65.000000  79000.000000     6.000000           5.000000"
      ]
     },
     "metadata": {},
     "output_type": "display_data"
    }
   ],
   "source": [
    "display(df.head())\n",
    "display('Кол-во пропусков:', df.isna().sum())\n",
    "display(df.describe())"
   ]
  },
  {
   "cell_type": "code",
   "execution_count": 21,
   "metadata": {},
   "outputs": [
    {
     "name": "stdout",
     "output_type": "stream",
     "text": [
      "Кол-во дубликатов = 153\n",
      "\n"
     ]
    }
   ],
   "source": [
    "print('Кол-во дубликатов =', df.duplicated().sum())\n",
    "print()"
   ]
  },
  {
   "cell_type": "code",
   "execution_count": 22,
   "metadata": {},
   "outputs": [
    {
     "name": "stdout",
     "output_type": "stream",
     "text": [
      "Кол-во дубликатов = 0\n",
      "\n"
     ]
    }
   ],
   "source": [
    "#удалю дубликаты\n",
    "df = df.drop_duplicates()\n",
    "print('Кол-во дубликатов =', df.duplicated().sum())#проверка\n",
    "print()"
   ]
  },
  {
   "cell_type": "code",
   "execution_count": 23,
   "metadata": {},
   "outputs": [
    {
     "data": {
      "image/png": "[encoded data removed]",
      "text/plain": [
       "<Figure size 500x500 with 2 Axes>"
      ]
     },
     "metadata": {},
     "output_type": "display_data"
    }
   ],
   "source": [
    "#посмотрю корреляцию\n",
    "plt.figure(figsize=(5, 5))\n",
    "sns.heatmap(df.corr(), annot=True, square=True);"
   ]
  },
  {
   "cell_type": "markdown",
   "metadata": {},
   "source": [
    "В основном корреляция слабая, заметная корреляция прослеживается у признаков возраст и страховые выплаты (корр.=0,65), считаю эту зависимость логичной, но так как корреляция не высокая, столбцы признаков удалять не буду."
   ]
  },
  {
   "cell_type": "markdown",
   "metadata": {},
   "source": [
    "Рассмотрю распределения некоторых признаков"
   ]
  },
  {
   "cell_type": "code",
   "execution_count": 24,
   "metadata": {},
   "outputs": [
    {
     "data": {
      "image/png": "[encoded data removed]",
      "text/plain": [
       "<Figure size 300x300 with 1 Axes>"
      ]
     },
     "metadata": {},
     "output_type": "display_data"
    }
   ],
   "source": [
    "df['Возраст'].plot(kind='hist',figsize=(3,3),grid=True, legend=True, alpha=0.7);\n",
    "plt.xlabel('Возраст')\n",
    "plt.ylabel('Количество клиентов')\n",
    "plt.title('Графики распределения  клиентов по возрастам')\n",
    "plt.show()"
   ]
  },
  {
   "cell_type": "code",
   "execution_count": 25,
   "metadata": {},
   "outputs": [
    {
     "data": {
      "image/png": "[encoded data removed]",
      "text/plain": [
       "<Figure size 300x300 with 1 Axes>"
      ]
     },
     "metadata": {},
     "output_type": "display_data"
    }
   ],
   "source": [
    "df['Члены семьи'].plot(kind='hist',figsize=(3,3),grid=True, legend=True, alpha=0.7)\n",
    "plt.xlabel('Количество членов семьи')\n",
    "plt.ylabel('Количество клиентов')\n",
    "plt.title('Графики распределения  клиентов по количеству членов семьи')\n",
    "plt.show()"
   ]
  },
  {
   "cell_type": "code",
   "execution_count": 26,
   "metadata": {},
   "outputs": [
    {
     "data": {
      "image/png": "[encoded data removed]",
      "text/plain": [
       "<Figure size 400x400 with 1 Axes>"
      ]
     },
     "metadata": {},
     "output_type": "display_data"
    }
   ],
   "source": [
    "df['Зарплата'].plot(kind='hist',figsize=(4,4),grid=True, legend=True, alpha=0.7)\n",
    "plt.xlabel('Зарплата')\n",
    "plt.ylabel('Количество клиентов')\n",
    "plt.title('Графики распределения  клиентов по зарплате')\n",
    "plt.show()"
   ]
  },
  {
   "cell_type": "code",
   "execution_count": 27,
   "metadata": {},
   "outputs": [
    {
     "data": {
      "image/png": "[encoded data removed]",
      "text/plain": [
       "<Figure size 400x400 with 1 Axes>"
      ]
     },
     "metadata": {},
     "output_type": "display_data"
    }
   ],
   "source": [
    "df['Страховые выплаты'].plot(kind='hist',figsize=(4,4),grid=True, legend=True, alpha=0.7)\n",
    "plt.xlabel('Страховые выплаты')\n",
    "plt.ylabel('Количество клиентов')\n",
    "plt.title('Графики распределения  клиентов по страховым выплатам')\n",
    "plt.show()"
   ]
  },
  {
   "cell_type": "markdown",
   "metadata": {},
   "source": [
    "### 1.1 Вывод:"
   ]
  },
  {
   "cell_type": "markdown",
   "metadata": {},
   "source": [
    "Данные рассмотрела, пропуски отсутствуют, дупликаты удалила, дополнительная пердобработка данных не требуется."
   ]
  },
  {
   "cell_type": "markdown",
   "metadata": {},
   "source": [
    "## 2. Умножение матриц"
   ]
  },
  {
   "cell_type": "markdown",
   "metadata": {},
   "source": [
    "**Доказать:** Изменится ли качество линейной регрессии, если признаки умножить на обратимую матрицу. \n"
   ]
  },
  {
   "cell_type": "markdown",
   "metadata": {},
   "source": [
    "**Дано:**\n",
    "Обозначения:\n",
    "\n",
    "- $X$ — матрица признаков (нулевой столбец состоит из единиц)\n",
    "\n",
    "- $y$ — вектор целевого признака\n",
    "\n",
    "- $P$ — матрица, на которую умножаются признаки\n",
    "\n",
    "- $w$ — вектор весов линейной регрессии (нулевой элемент равен сдвигу)"
   ]
  },
  {
   "cell_type": "markdown",
   "metadata": {},
   "source": [
    "Предсказания:\n",
    "\n",
    "$$\n",
    "a = Xw\n",
    "$$\n",
    "\n",
    "Задача обучения:\n",
    "\n",
    "$$\n",
    "w = \\arg\\min_w MSE(Xw, y)\n",
    "$$\n",
    "\n",
    "Формула обучения:\n",
    "\n",
    "$$\n",
    "w = (X^T X)^{-1} X^T y\n",
    "$$"
   ]
  },
  {
   "cell_type": "markdown",
   "metadata": {},
   "source": [
    "**Доказательство:** \n",
    "$$\n",
    "a1 = X*Р*w1\n",
    "$$\n",
    "$$\n",
    "w1 = ((X*Р)^T * X*Р)^{-1} (X*Р)^T*y\n",
    "$$\n",
    "$$\n",
    "a1 = X*Р*((X*Р)^T*X*Р)^{-1} (X*Р)^T*y\n",
    "$$\n",
    "$$\n",
    "a1 = X*Р*(Р^T*Х^T*X*Р)^{-1} (X*Р)^T*y\n",
    "$$\n",
    "$$\n",
    "a1 = X*Р*(Р^T*(Х^T*X)*Р)^{-1} * Р^T*X^T*y\n",
    "$$\n",
    "$$\n",
    "a1 = X*Р*Р^{-1}*(Х^T*X)^{-1}*(Р^T)^{-1}* Р^T*X^T*y\n",
    "$$\n",
    "$$\n",
    "P*P{-1}=E \n",
    "$$\n",
    "$$\n",
    "(Р^T)^{-1}* Р^T=E\n",
    "$$\n",
    "$$\n",
    "a1 = X*E*(Х^T*X)^{-1}*E*X^T*y\n",
    "$$\n",
    "Сокращаем единичную матрицу:\n",
    "$$\n",
    "a1 = X*(Х^T*X)^{-1}*X^T*y=Х*w\n",
    "$$\n",
    "$$\n",
    "а=a1 \n",
    "$$"
   ]
  },
  {
   "cell_type": "markdown",
   "metadata": {},
   "source": [
    "**Нужно уточнить, что обратная матрица (Р) существует только для квадратных матриц определитель которых не равен нулю.**"
   ]
  },
  {
   "cell_type": "markdown",
   "metadata": {},
   "source": [
    "## 3. Алгоритм преобразования"
   ]
  },
  {
   "cell_type": "markdown",
   "metadata": {},
   "source": [
    "Проверю доказательство:"
   ]
  },
  {
   "cell_type": "code",
   "execution_count": 28,
   "metadata": {},
   "outputs": [],
   "source": [
    "train_features = df.drop('Страховые выплаты', axis=1)\n",
    "train_target = df['Страховые выплаты']"
   ]
  },
  {
   "cell_type": "code",
   "execution_count": 29,
   "metadata": {},
   "outputs": [
    {
     "data": {
      "text/plain": [
       "array([[1.00e+00, 4.10e+01, 4.96e+04, 1.00e+00],\n",
       "       [0.00e+00, 4.60e+01, 3.80e+04, 1.00e+00],\n",
       "       [0.00e+00, 2.90e+01, 2.10e+04, 0.00e+00],\n",
       "       ...,\n",
       "       [0.00e+00, 2.00e+01, 3.39e+04, 2.00e+00],\n",
       "       [1.00e+00, 2.20e+01, 3.27e+04, 3.00e+00],\n",
       "       [1.00e+00, 2.80e+01, 4.06e+04, 1.00e+00]])"
      ]
     },
     "execution_count": 29,
     "metadata": {},
     "output_type": "execute_result"
    }
   ],
   "source": [
    "X = train_features.values\n",
    "X"
   ]
  },
  {
   "cell_type": "code",
   "execution_count": 30,
   "metadata": {},
   "outputs": [
    {
     "data": {
      "text/plain": [
       "array([0, 1, 0, ..., 0, 0, 0], dtype=int64)"
      ]
     },
     "execution_count": 30,
     "metadata": {},
     "output_type": "execute_result"
    }
   ],
   "source": [
    "y = train_target.values\n",
    "y"
   ]
  },
  {
   "cell_type": "code",
   "execution_count": 31,
   "metadata": {},
   "outputs": [
    {
     "data": {
      "text/plain": [
       "array([[0.61, 2.15, 3.94, 3.04],\n",
       "       [4.91, 1.93, 3.57, 3.01],\n",
       "       [3.37, 4.32, 2.97, 3.04],\n",
       "       [1.81, 3.41, 3.5 , 2.59]])"
      ]
     },
     "execution_count": 31,
     "metadata": {},
     "output_type": "execute_result"
    }
   ],
   "source": [
    "#Создам матрицу (которая может быть обратной)\n",
    "P = np.round (np.random.normal(3, size=(4, 4)), 2)\n",
    "P\n"
   ]
  },
  {
   "cell_type": "code",
   "execution_count": 32,
   "metadata": {},
   "outputs": [
    {
     "data": {
      "text/plain": [
       "array([[-0.27198439,  0.23786786, -0.06381867,  0.1177062 ],\n",
       "       [-0.28327635, -0.21270565,  0.13483472,  0.42143111],\n",
       "       [-0.37668722,  0.20097323, -0.91087444,  1.2777058 ],\n",
       "       [ 1.07207312, -0.15776868,  1.09798686, -1.97764425]])"
      ]
     },
     "execution_count": 32,
     "metadata": {},
     "output_type": "execute_result"
    }
   ],
   "source": [
    "np.linalg.inv(P)#проверка обратимости матрицы"
   ]
  },
  {
   "cell_type": "code",
   "execution_count": 33,
   "metadata": {},
   "outputs": [
    {
     "name": "stdout",
     "output_type": "stream",
     "text": [
      "Матрица обратима\n"
     ]
    }
   ],
   "source": [
    "#проверка обратимости 2\n",
    "if np.linalg.det(P) == 0:\n",
    "    print('Матрица необратима')\n",
    "else:\n",
    "    print('Матрица обратима')"
   ]
  },
  {
   "cell_type": "code",
   "execution_count": 34,
   "metadata": {},
   "outputs": [
    {
     "data": {
      "text/plain": [
       "array([ 0.28879544,  0.5881911 ,  0.43556558, ..., -0.023962  ,\n",
       "       -0.0536288 ,  0.08863884])"
      ]
     },
     "execution_count": 34,
     "metadata": {},
     "output_type": "execute_result"
    }
   ],
   "source": [
    "w = np.dot((np.linalg.inv(X.T @ X) @ X.T), y)\n",
    "a = X @ w\n",
    "a"
   ]
  },
  {
   "cell_type": "code",
   "execution_count": 35,
   "metadata": {},
   "outputs": [
    {
     "data": {
      "text/plain": [
       "array([ 0.28879596,  0.58819142,  0.43556582, ..., -0.02396187,\n",
       "       -0.05362869,  0.08863926])"
      ]
     },
     "execution_count": 35,
     "metadata": {},
     "output_type": "execute_result"
    }
   ],
   "source": [
    "X1= X @ P\n",
    "w1 = np.dot((np.linalg.inv(X1.T @ X1) @ X1.T), y)\n",
    "a1 = X1 @ w1\n",
    "a1"
   ]
  },
  {
   "cell_type": "code",
   "execution_count": 36,
   "metadata": {},
   "outputs": [
    {
     "data": {
      "text/plain": [
       "array([-5.24792460e-07, -3.21279866e-07, -2.43415962e-07, ...,\n",
       "       -1.38267489e-07, -1.10860405e-07, -4.19798204e-07])"
      ]
     },
     "execution_count": 36,
     "metadata": {},
     "output_type": "execute_result"
    }
   ],
   "source": [
    "c = a - a1\n",
    "c"
   ]
  },
  {
   "cell_type": "code",
   "execution_count": 38,
   "metadata": {},
   "outputs": [
    {
     "data": {
      "text/plain": [
       "True"
      ]
     },
     "execution_count": 38,
     "metadata": {},
     "output_type": "execute_result"
    }
   ],
   "source": [
    "np.allclose(a, a1, atol=1e-04)"
   ]
  },
  {
   "cell_type": "markdown",
   "metadata": {},
   "source": [
    "Разница между предсказаниями и предсказаниями с использованием обратимой матрицы мала - 0,0002"
   ]
  },
  {
   "cell_type": "markdown",
   "metadata": {},
   "source": [
    "### 3.1 Вывод:"
   ]
  },
  {
   "cell_type": "markdown",
   "metadata": {},
   "source": [
    "Данный метод может быть применим, так как различие минимально."
   ]
  },
  {
   "cell_type": "markdown",
   "metadata": {},
   "source": [
    "## 4. Проверка алгоритма"
   ]
  },
  {
   "cell_type": "markdown",
   "metadata": {},
   "source": [
    "Создам модель по исходным формулам для предсказания значений по неизменённым признакам"
   ]
  },
  {
   "cell_type": "code",
   "execution_count": 39,
   "metadata": {},
   "outputs": [],
   "source": [
    "class LinearRegression:\n",
    "    def fit(self, train_features, train_target):\n",
    "        X = np.concatenate((np.ones((train_features.shape[0], 1)), train_features), axis=1)#добавляю в исходную \n",
    "#матрицу train_features столбец из единиц размера матрицы train_features для учета свободного члена.\n",
    "        y = train_target.values\n",
    "        w = np.dot((np.linalg.inv(X.T @ X) @ X.T), y) \n",
    "        self.w = w[1:]#веса для каждого признака, но без свободного члена\n",
    "        self.w0 = w[0]#свободный член\n",
    "    def predict(self, test_features):\n",
    "        return test_features.dot(self.w) + self.w0"
   ]
  },
  {
   "cell_type": "markdown",
   "metadata": {},
   "source": [
    "Вычислю результат метрики для исходных признаков"
   ]
  },
  {
   "cell_type": "code",
   "execution_count": 40,
   "metadata": {},
   "outputs": [
    {
     "name": "stdout",
     "output_type": "stream",
     "text": [
      "0.4302010044852068\n"
     ]
    }
   ],
   "source": [
    "model = LinearRegression()\n",
    "model.fit(train_features, train_target)\n",
    "predictions = model.predict(train_features)\n",
    "r2_score_0 = r2_score(train_target, predictions)\n",
    "print(r2_score_0)"
   ]
  },
  {
   "cell_type": "markdown",
   "metadata": {},
   "source": [
    "Создам модель по исходным формулам для предсказания значений по изменённым признакам"
   ]
  },
  {
   "cell_type": "code",
   "execution_count": 41,
   "metadata": {},
   "outputs": [
    {
     "data": {
      "text/plain": [
       "array([[167355.73, 214356.69, 147465.81, 150913.04],\n",
       "       [128287.67, 164252.19, 113027.72, 115661.05],\n",
       "       [ 70912.39,  90775.97,  62473.53,  63927.29],\n",
       "       ...,\n",
       "       [114344.82, 146493.42, 100761.4 , 103121.38],\n",
       "       [110313.06, 141318.84,  97211.98,  99485.03],\n",
       "       [136961.9 , 175451.6 , 120689.4 , 123513.91]])"
      ]
     },
     "execution_count": 41,
     "metadata": {},
     "output_type": "execute_result"
    }
   ],
   "source": [
    "train_features_P = train_features.values @ P# умножу исходную матрицу на квадратную обратимую матрицу, проверка обратимости выполнена выше\n",
    "train_features_P"
   ]
  },
  {
   "cell_type": "code",
   "execution_count": 42,
   "metadata": {
    "scrolled": true
   },
   "outputs": [
    {
     "name": "stdout",
     "output_type": "stream",
     "text": [
      "0.43020100448352605\n"
     ]
    }
   ],
   "source": [
    "model = LinearRegression()\n",
    "model.fit(train_features_P, train_target)\n",
    "predictions = model.predict(train_features_P)\n",
    "r2_score_P = r2_score(train_target, predictions)\n",
    "print(r2_score_P)"
   ]
  },
  {
   "cell_type": "markdown",
   "metadata": {},
   "source": [
    "Сравню R2 изменённой и неизменённой матрицы признаков"
   ]
  },
  {
   "cell_type": "code",
   "execution_count": 43,
   "metadata": {},
   "outputs": [
    {
     "data": {
      "text/html": [
       "<div>\n",
       "<style scoped>\n",
       "    .dataframe tbody tr th:only-of-type {\n",
       "        vertical-align: middle;\n",
       "    }\n",
       "\n",
       "    .dataframe tbody tr th {\n",
       "        vertical-align: top;\n",
       "    }\n",
       "\n",
       "    .dataframe thead th {\n",
       "        text-align: right;\n",
       "    }\n",
       "</style>\n",
       "<table border=\"1\" class=\"dataframe\">\n",
       "  <thead>\n",
       "    <tr style=\"text-align: right;\">\n",
       "      <th></th>\n",
       "      <th>r2_score</th>\n",
       "    </tr>\n",
       "  </thead>\n",
       "  <tbody>\n",
       "    <tr>\n",
       "      <th>Исходные признаки</th>\n",
       "      <td>0.430201</td>\n",
       "    </tr>\n",
       "    <tr>\n",
       "      <th>Измененные признаки</th>\n",
       "      <td>0.430201</td>\n",
       "    </tr>\n",
       "  </tbody>\n",
       "</table>\n",
       "</div>"
      ],
      "text/plain": [
       "                     r2_score\n",
       "Исходные признаки    0.430201\n",
       "Измененные признаки  0.430201"
      ]
     },
     "execution_count": 43,
     "metadata": {},
     "output_type": "execute_result"
    }
   ],
   "source": [
    "tabl = pd.DataFrame(index = ['Исходные признаки', 'Измененные признаки'], columns = ['r2_score'])\n",
    "tabl.loc['Исходные признаки'] = r2_score_0\n",
    "tabl.loc['Измененные признаки'] = r2_score_P\n",
    "tabl"
   ]
  },
  {
   "cell_type": "markdown",
   "metadata": {},
   "source": [
    "### 4.1 Вывод: "
   ]
  },
  {
   "cell_type": "markdown",
   "metadata": {},
   "source": [
    "Различие r2_score для исходных признаков и измененных минимально."
   ]
  },
  {
   "cell_type": "markdown",
   "metadata": {},
   "source": [
    "## Вывод: "
   ]
  },
  {
   "cell_type": "markdown",
   "metadata": {},
   "source": [
    "По условиям задачи требовалось преобразовать исходные данные для того, чтобы они были конфиденциальными, и обосновать корректность метода, также необходимо не ухудшить качество моделей машинного обучения.\n",
    "\n",
    "В качестве метода преобразования использовала алгоритм, по которому исходнце данные были умножены на обратимую матрицу. В результате метрика R2 значительно не изменилась, что говорит о сохранении качества модели машинного обучения. Цель достигнута."
   ]
  }
 ],
 "metadata": {
  "ExecuteTimeLog": [
   {
    "duration": 3791,
    "start_time": "2023-04-19T16:06:17.384Z"
   },
   {
    "duration": 496,
    "start_time": "2023-04-19T16:06:21.178Z"
   },
   {
    "duration": 64,
    "start_time": "2023-04-19T16:06:21.676Z"
   },
   {
    "duration": 8,
    "start_time": "2023-04-19T16:06:21.742Z"
   },
   {
    "duration": 15,
    "start_time": "2023-04-19T16:06:21.754Z"
   },
   {
    "duration": 416,
    "start_time": "2023-04-19T16:06:21.771Z"
   },
   {
    "duration": 182,
    "start_time": "2023-04-19T16:06:22.189Z"
   },
   {
    "duration": 191,
    "start_time": "2023-04-19T16:06:22.373Z"
   },
   {
    "duration": 198,
    "start_time": "2023-04-19T16:06:22.566Z"
   },
   {
    "duration": 226,
    "start_time": "2023-04-19T16:06:22.766Z"
   },
   {
    "duration": 5,
    "start_time": "2023-04-19T16:06:22.994Z"
   },
   {
    "duration": 24,
    "start_time": "2023-04-19T16:06:23.002Z"
   },
   {
    "duration": 14,
    "start_time": "2023-04-19T16:06:23.028Z"
   },
   {
    "duration": 6,
    "start_time": "2023-04-19T16:06:23.045Z"
   },
   {
    "duration": 15,
    "start_time": "2023-04-19T16:06:23.053Z"
   },
   {
    "duration": 77,
    "start_time": "2023-04-19T16:06:23.070Z"
   },
   {
    "duration": 97,
    "start_time": "2023-04-19T16:06:23.149Z"
   },
   {
    "duration": 97,
    "start_time": "2023-04-19T16:06:23.248Z"
   },
   {
    "duration": 106,
    "start_time": "2023-04-19T16:06:23.347Z"
   },
   {
    "duration": 5,
    "start_time": "2023-04-19T16:07:01.379Z"
   },
   {
    "duration": 7,
    "start_time": "2023-04-19T16:07:17.811Z"
   },
   {
    "duration": 6,
    "start_time": "2023-04-19T16:07:21.202Z"
   },
   {
    "duration": 6,
    "start_time": "2023-04-19T16:07:24.506Z"
   }
  ],
  "kernelspec": {
   "display_name": "Python 3 (ipykernel)",
   "language": "python",
   "name": "python3"
  },
  "language_info": {
   "codemirror_mode": {
    "name": "ipython",
    "version": 3
   },
   "file_extension": ".py",
   "mimetype": "text/x-python",
   "name": "python",
   "nbconvert_exporter": "python",
   "pygments_lexer": "ipython3",
   "version": "3.9.15"
  },
  "toc": {
   "base_numbering": 1,
   "nav_menu": {},
   "number_sections": true,
   "sideBar": true,
   "skip_h1_title": true,
   "title_cell": "Содержание",
   "title_sidebar": "Contents",
   "toc_cell": true,
   "toc_position": {},
   "toc_section_display": true,
   "toc_window_display": true
  }
 },
 "nbformat": 4,
 "nbformat_minor": 2
}
