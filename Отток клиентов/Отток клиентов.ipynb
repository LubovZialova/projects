{
 "cells": [
  {
   "cell_type": "markdown",
   "metadata": {
    "toc": true
   },
   "source": [
    "<h1>Содержание<span class=\"tocSkip\"></span></h1>\n",
    "<div class=\"toc\"><ul class=\"toc-item\"><li><span><a href=\"#Подготовка-данных\" data-toc-modified-id=\"Подготовка-данных-1\"><span class=\"toc-item-num\">1&nbsp;&nbsp;</span>Подготовка данных</a></span></li><li><span><a href=\"#Исследование-задачи\" data-toc-modified-id=\"Исследование-задачи-2\"><span class=\"toc-item-num\">2&nbsp;&nbsp;</span>Исследование задачи</a></span><ul class=\"toc-item\"><li><span><a href=\"#Вывод:\" data-toc-modified-id=\"Вывод:-2.1\"><span class=\"toc-item-num\">2.1&nbsp;&nbsp;</span>Вывод:</a></span></li></ul></li><li><span><a href=\"#Борьба-с-дисбалансом\" data-toc-modified-id=\"Борьба-с-дисбалансом-3\"><span class=\"toc-item-num\">3&nbsp;&nbsp;</span>Борьба с дисбалансом</a></span><ul class=\"toc-item\"><li><span><a href=\"#Вывод:\" data-toc-modified-id=\"Вывод:-3.1\"><span class=\"toc-item-num\">3.1&nbsp;&nbsp;</span>Вывод:</a></span></li></ul></li><li><span><a href=\"#Тестирование-моделей\" data-toc-modified-id=\"Тестирование-моделей-4\"><span class=\"toc-item-num\">4&nbsp;&nbsp;</span>Тестирование моделей</a></span><ul class=\"toc-item\"><li><span><a href=\"#Вывод:\" data-toc-modified-id=\"Вывод:-4.1\"><span class=\"toc-item-num\">4.1&nbsp;&nbsp;</span>Вывод:</a></span></li></ul></li><li><span><a href=\"#Исследование-метрики-AUC-ROC\" data-toc-modified-id=\"Исследование-метрики-AUC-ROC-5\"><span class=\"toc-item-num\">5&nbsp;&nbsp;</span>Исследование метрики AUC-ROC</a></span></li><li><span><a href=\"#Вывод\" data-toc-modified-id=\"Вывод-6\"><span class=\"toc-item-num\">6&nbsp;&nbsp;</span>Вывод</a></span></li><li><span><a href=\"#Чек-лист-готовности-проекта\" data-toc-modified-id=\"Чек-лист-готовности-проекта-7\"><span class=\"toc-item-num\">7&nbsp;&nbsp;</span>Чек-лист готовности проекта</a></span></li></ul></div>"
   ]
  },
  {
   "cell_type": "markdown",
   "metadata": {},
   "source": [
    "# Отток клиентов"
   ]
  },
  {
   "cell_type": "markdown",
   "metadata": {},
   "source": [
    "«Бета-Банка» теряет клиентов, каждый месяц стало уходить небольшое количество клиентов.  Банковские маркетологи посчитали: сохранять текущих клиентов дешевле, чем привлекать новых. Предоставлены данные о поведении клиентов и расторжении договоров с банком.\n",
    "\n",
    "Цель исследования: построить модель способную наиболее правильно спрогнозировать, уйдёт клиент из банка в ближайшее время или нет. \n",
    "\n",
    "Задачи:\n",
    "1. Выполнить подготовку данных\n",
    "2. Устранить дисбаланс данных\n",
    "3. Постройте модель с предельно большим значением *F1*-меры(довести метрику до 0.59).\n",
    "4. Измерить *AUC-ROC*, сравнить её значение с *F1*-мерой.\n"
   ]
  },
  {
   "cell_type": "markdown",
   "metadata": {},
   "source": [
    "## 1.1 Подготовка данных"
   ]
  },
  {
   "cell_type": "code",
   "execution_count": 1,
   "metadata": {},
   "outputs": [],
   "source": [
    "import pandas as pd\n",
    "from sklearn.tree import DecisionTreeClassifier\n",
    "from sklearn.metrics import accuracy_score \n",
    "from sklearn.model_selection import train_test_split\n",
    "from sklearn.ensemble import RandomForestClassifier\n",
    "from sklearn.linear_model import LogisticRegression\n",
    "from sklearn.preprocessing import StandardScaler\n",
    "from sklearn.metrics import f1_score\n",
    "from sklearn.utils import shuffle\n",
    "from sklearn.metrics import roc_auc_score\n",
    "from sklearn.metrics import roc_curve\n",
    "\n",
    "import matplotlib.pyplot as plt\n"
   ]
  },
  {
   "cell_type": "code",
   "execution_count": 2,
   "metadata": {},
   "outputs": [],
   "source": [
    "data = pd.read_csv('C:/Users/Lubov/jupyter/ds/Churn.csv' or '/datasets/Churn.csv')"
   ]
  },
  {
   "cell_type": "code",
   "execution_count": 3,
   "metadata": {},
   "outputs": [
    {
     "data": {
      "text/html": [
       "<div>\n",
       "<style scoped>\n",
       "    .dataframe tbody tr th:only-of-type {\n",
       "        vertical-align: middle;\n",
       "    }\n",
       "\n",
       "    .dataframe tbody tr th {\n",
       "        vertical-align: top;\n",
       "    }\n",
       "\n",
       "    .dataframe thead th {\n",
       "        text-align: right;\n",
       "    }\n",
       "</style>\n",
       "<table border=\"1\" class=\"dataframe\">\n",
       "  <thead>\n",
       "    <tr style=\"text-align: right;\">\n",
       "      <th></th>\n",
       "      <th>RowNumber</th>\n",
       "      <th>CustomerId</th>\n",
       "      <th>Surname</th>\n",
       "      <th>CreditScore</th>\n",
       "      <th>Geography</th>\n",
       "      <th>Gender</th>\n",
       "      <th>Age</th>\n",
       "      <th>Tenure</th>\n",
       "      <th>Balance</th>\n",
       "      <th>NumOfProducts</th>\n",
       "      <th>HasCrCard</th>\n",
       "      <th>IsActiveMember</th>\n",
       "      <th>EstimatedSalary</th>\n",
       "      <th>Exited</th>\n",
       "    </tr>\n",
       "  </thead>\n",
       "  <tbody>\n",
       "    <tr>\n",
       "      <th>0</th>\n",
       "      <td>1</td>\n",
       "      <td>15634602</td>\n",
       "      <td>Hargrave</td>\n",
       "      <td>619</td>\n",
       "      <td>France</td>\n",
       "      <td>Female</td>\n",
       "      <td>42</td>\n",
       "      <td>2.0</td>\n",
       "      <td>0.00</td>\n",
       "      <td>1</td>\n",
       "      <td>1</td>\n",
       "      <td>1</td>\n",
       "      <td>101348.88</td>\n",
       "      <td>1</td>\n",
       "    </tr>\n",
       "    <tr>\n",
       "      <th>1</th>\n",
       "      <td>2</td>\n",
       "      <td>15647311</td>\n",
       "      <td>Hill</td>\n",
       "      <td>608</td>\n",
       "      <td>Spain</td>\n",
       "      <td>Female</td>\n",
       "      <td>41</td>\n",
       "      <td>1.0</td>\n",
       "      <td>83807.86</td>\n",
       "      <td>1</td>\n",
       "      <td>0</td>\n",
       "      <td>1</td>\n",
       "      <td>112542.58</td>\n",
       "      <td>0</td>\n",
       "    </tr>\n",
       "    <tr>\n",
       "      <th>2</th>\n",
       "      <td>3</td>\n",
       "      <td>15619304</td>\n",
       "      <td>Onio</td>\n",
       "      <td>502</td>\n",
       "      <td>France</td>\n",
       "      <td>Female</td>\n",
       "      <td>42</td>\n",
       "      <td>8.0</td>\n",
       "      <td>159660.80</td>\n",
       "      <td>3</td>\n",
       "      <td>1</td>\n",
       "      <td>0</td>\n",
       "      <td>113931.57</td>\n",
       "      <td>1</td>\n",
       "    </tr>\n",
       "    <tr>\n",
       "      <th>3</th>\n",
       "      <td>4</td>\n",
       "      <td>15701354</td>\n",
       "      <td>Boni</td>\n",
       "      <td>699</td>\n",
       "      <td>France</td>\n",
       "      <td>Female</td>\n",
       "      <td>39</td>\n",
       "      <td>1.0</td>\n",
       "      <td>0.00</td>\n",
       "      <td>2</td>\n",
       "      <td>0</td>\n",
       "      <td>0</td>\n",
       "      <td>93826.63</td>\n",
       "      <td>0</td>\n",
       "    </tr>\n",
       "    <tr>\n",
       "      <th>4</th>\n",
       "      <td>5</td>\n",
       "      <td>15737888</td>\n",
       "      <td>Mitchell</td>\n",
       "      <td>850</td>\n",
       "      <td>Spain</td>\n",
       "      <td>Female</td>\n",
       "      <td>43</td>\n",
       "      <td>2.0</td>\n",
       "      <td>125510.82</td>\n",
       "      <td>1</td>\n",
       "      <td>1</td>\n",
       "      <td>1</td>\n",
       "      <td>79084.10</td>\n",
       "      <td>0</td>\n",
       "    </tr>\n",
       "  </tbody>\n",
       "</table>\n",
       "</div>"
      ],
      "text/plain": [
       "   RowNumber  CustomerId   Surname  CreditScore Geography  Gender  Age  \\\n",
       "0          1    15634602  Hargrave          619    France  Female   42   \n",
       "1          2    15647311      Hill          608     Spain  Female   41   \n",
       "2          3    15619304      Onio          502    France  Female   42   \n",
       "3          4    15701354      Boni          699    France  Female   39   \n",
       "4          5    15737888  Mitchell          850     Spain  Female   43   \n",
       "\n",
       "   Tenure    Balance  NumOfProducts  HasCrCard  IsActiveMember  \\\n",
       "0     2.0       0.00              1          1               1   \n",
       "1     1.0   83807.86              1          0               1   \n",
       "2     8.0  159660.80              3          1               0   \n",
       "3     1.0       0.00              2          0               0   \n",
       "4     2.0  125510.82              1          1               1   \n",
       "\n",
       "   EstimatedSalary  Exited  \n",
       "0        101348.88       1  \n",
       "1        112542.58       0  \n",
       "2        113931.57       1  \n",
       "3         93826.63       0  \n",
       "4         79084.10       0  "
      ]
     },
     "execution_count": 3,
     "metadata": {},
     "output_type": "execute_result"
    }
   ],
   "source": [
    "data.head()"
   ]
  },
  {
   "cell_type": "code",
   "execution_count": 4,
   "metadata": {},
   "outputs": [
    {
     "name": "stdout",
     "output_type": "stream",
     "text": [
      "<class 'pandas.core.frame.DataFrame'>\n",
      "RangeIndex: 10000 entries, 0 to 9999\n",
      "Data columns (total 14 columns):\n",
      " #   Column           Non-Null Count  Dtype  \n",
      "---  ------           --------------  -----  \n",
      " 0   RowNumber        10000 non-null  int64  \n",
      " 1   CustomerId       10000 non-null  int64  \n",
      " 2   Surname          10000 non-null  object \n",
      " 3   CreditScore      10000 non-null  int64  \n",
      " 4   Geography        10000 non-null  object \n",
      " 5   Gender           10000 non-null  object \n",
      " 6   Age              10000 non-null  int64  \n",
      " 7   Tenure           9091 non-null   float64\n",
      " 8   Balance          10000 non-null  float64\n",
      " 9   NumOfProducts    10000 non-null  int64  \n",
      " 10  HasCrCard        10000 non-null  int64  \n",
      " 11  IsActiveMember   10000 non-null  int64  \n",
      " 12  EstimatedSalary  10000 non-null  float64\n",
      " 13  Exited           10000 non-null  int64  \n",
      "dtypes: float64(3), int64(8), object(3)\n",
      "memory usage: 1.1+ MB\n"
     ]
    }
   ],
   "source": [
    "data.info()"
   ]
  },
  {
   "cell_type": "code",
   "execution_count": 5,
   "metadata": {},
   "outputs": [
    {
     "data": {
      "text/plain": [
       "Male      5457\n",
       "Female    4543\n",
       "Name: Gender, dtype: int64"
      ]
     },
     "execution_count": 5,
     "metadata": {},
     "output_type": "execute_result"
    }
   ],
   "source": [
    "data['Gender'].value_counts()#рассмотрю некоторые данные"
   ]
  },
  {
   "cell_type": "code",
   "execution_count": 6,
   "metadata": {},
   "outputs": [
    {
     "data": {
      "text/plain": [
       "0    7963\n",
       "1    2037\n",
       "Name: Exited, dtype: int64"
      ]
     },
     "execution_count": 6,
     "metadata": {},
     "output_type": "execute_result"
    }
   ],
   "source": [
    "data['Exited'].value_counts()#рассмотрю некоторые данные"
   ]
  },
  {
   "cell_type": "code",
   "execution_count": 7,
   "metadata": {},
   "outputs": [
    {
     "data": {
      "text/plain": [
       "France     5014\n",
       "Germany    2509\n",
       "Spain      2477\n",
       "Name: Geography, dtype: int64"
      ]
     },
     "execution_count": 7,
     "metadata": {},
     "output_type": "execute_result"
    }
   ],
   "source": [
    "data['Geography'].value_counts()#рассмотрю некоторые данные"
   ]
  },
  {
   "cell_type": "code",
   "execution_count": 8,
   "metadata": {},
   "outputs": [
    {
     "data": {
      "text/html": [
       "<div>\n",
       "<style scoped>\n",
       "    .dataframe tbody tr th:only-of-type {\n",
       "        vertical-align: middle;\n",
       "    }\n",
       "\n",
       "    .dataframe tbody tr th {\n",
       "        vertical-align: top;\n",
       "    }\n",
       "\n",
       "    .dataframe thead th {\n",
       "        text-align: right;\n",
       "    }\n",
       "</style>\n",
       "<table border=\"1\" class=\"dataframe\">\n",
       "  <thead>\n",
       "    <tr style=\"text-align: right;\">\n",
       "      <th></th>\n",
       "      <th>RowNumber</th>\n",
       "      <th>CustomerId</th>\n",
       "      <th>CreditScore</th>\n",
       "      <th>Age</th>\n",
       "      <th>Tenure</th>\n",
       "      <th>Balance</th>\n",
       "      <th>NumOfProducts</th>\n",
       "      <th>HasCrCard</th>\n",
       "      <th>IsActiveMember</th>\n",
       "      <th>EstimatedSalary</th>\n",
       "      <th>Exited</th>\n",
       "    </tr>\n",
       "  </thead>\n",
       "  <tbody>\n",
       "    <tr>\n",
       "      <th>count</th>\n",
       "      <td>10000.00000</td>\n",
       "      <td>1.000000e+04</td>\n",
       "      <td>10000.000000</td>\n",
       "      <td>10000.000000</td>\n",
       "      <td>9091.000000</td>\n",
       "      <td>10000.000000</td>\n",
       "      <td>10000.000000</td>\n",
       "      <td>10000.00000</td>\n",
       "      <td>10000.000000</td>\n",
       "      <td>10000.000000</td>\n",
       "      <td>10000.000000</td>\n",
       "    </tr>\n",
       "    <tr>\n",
       "      <th>mean</th>\n",
       "      <td>5000.50000</td>\n",
       "      <td>1.569094e+07</td>\n",
       "      <td>650.528800</td>\n",
       "      <td>38.921800</td>\n",
       "      <td>4.997690</td>\n",
       "      <td>76485.889288</td>\n",
       "      <td>1.530200</td>\n",
       "      <td>0.70550</td>\n",
       "      <td>0.515100</td>\n",
       "      <td>100090.239881</td>\n",
       "      <td>0.203700</td>\n",
       "    </tr>\n",
       "    <tr>\n",
       "      <th>std</th>\n",
       "      <td>2886.89568</td>\n",
       "      <td>7.193619e+04</td>\n",
       "      <td>96.653299</td>\n",
       "      <td>10.487806</td>\n",
       "      <td>2.894723</td>\n",
       "      <td>62397.405202</td>\n",
       "      <td>0.581654</td>\n",
       "      <td>0.45584</td>\n",
       "      <td>0.499797</td>\n",
       "      <td>57510.492818</td>\n",
       "      <td>0.402769</td>\n",
       "    </tr>\n",
       "    <tr>\n",
       "      <th>min</th>\n",
       "      <td>1.00000</td>\n",
       "      <td>1.556570e+07</td>\n",
       "      <td>350.000000</td>\n",
       "      <td>18.000000</td>\n",
       "      <td>0.000000</td>\n",
       "      <td>0.000000</td>\n",
       "      <td>1.000000</td>\n",
       "      <td>0.00000</td>\n",
       "      <td>0.000000</td>\n",
       "      <td>11.580000</td>\n",
       "      <td>0.000000</td>\n",
       "    </tr>\n",
       "    <tr>\n",
       "      <th>25%</th>\n",
       "      <td>2500.75000</td>\n",
       "      <td>1.562853e+07</td>\n",
       "      <td>584.000000</td>\n",
       "      <td>32.000000</td>\n",
       "      <td>2.000000</td>\n",
       "      <td>0.000000</td>\n",
       "      <td>1.000000</td>\n",
       "      <td>0.00000</td>\n",
       "      <td>0.000000</td>\n",
       "      <td>51002.110000</td>\n",
       "      <td>0.000000</td>\n",
       "    </tr>\n",
       "    <tr>\n",
       "      <th>50%</th>\n",
       "      <td>5000.50000</td>\n",
       "      <td>1.569074e+07</td>\n",
       "      <td>652.000000</td>\n",
       "      <td>37.000000</td>\n",
       "      <td>5.000000</td>\n",
       "      <td>97198.540000</td>\n",
       "      <td>1.000000</td>\n",
       "      <td>1.00000</td>\n",
       "      <td>1.000000</td>\n",
       "      <td>100193.915000</td>\n",
       "      <td>0.000000</td>\n",
       "    </tr>\n",
       "    <tr>\n",
       "      <th>75%</th>\n",
       "      <td>7500.25000</td>\n",
       "      <td>1.575323e+07</td>\n",
       "      <td>718.000000</td>\n",
       "      <td>44.000000</td>\n",
       "      <td>7.000000</td>\n",
       "      <td>127644.240000</td>\n",
       "      <td>2.000000</td>\n",
       "      <td>1.00000</td>\n",
       "      <td>1.000000</td>\n",
       "      <td>149388.247500</td>\n",
       "      <td>0.000000</td>\n",
       "    </tr>\n",
       "    <tr>\n",
       "      <th>max</th>\n",
       "      <td>10000.00000</td>\n",
       "      <td>1.581569e+07</td>\n",
       "      <td>850.000000</td>\n",
       "      <td>92.000000</td>\n",
       "      <td>10.000000</td>\n",
       "      <td>250898.090000</td>\n",
       "      <td>4.000000</td>\n",
       "      <td>1.00000</td>\n",
       "      <td>1.000000</td>\n",
       "      <td>199992.480000</td>\n",
       "      <td>1.000000</td>\n",
       "    </tr>\n",
       "  </tbody>\n",
       "</table>\n",
       "</div>"
      ],
      "text/plain": [
       "         RowNumber    CustomerId   CreditScore           Age       Tenure  \\\n",
       "count  10000.00000  1.000000e+04  10000.000000  10000.000000  9091.000000   \n",
       "mean    5000.50000  1.569094e+07    650.528800     38.921800     4.997690   \n",
       "std     2886.89568  7.193619e+04     96.653299     10.487806     2.894723   \n",
       "min        1.00000  1.556570e+07    350.000000     18.000000     0.000000   \n",
       "25%     2500.75000  1.562853e+07    584.000000     32.000000     2.000000   \n",
       "50%     5000.50000  1.569074e+07    652.000000     37.000000     5.000000   \n",
       "75%     7500.25000  1.575323e+07    718.000000     44.000000     7.000000   \n",
       "max    10000.00000  1.581569e+07    850.000000     92.000000    10.000000   \n",
       "\n",
       "             Balance  NumOfProducts    HasCrCard  IsActiveMember  \\\n",
       "count   10000.000000   10000.000000  10000.00000    10000.000000   \n",
       "mean    76485.889288       1.530200      0.70550        0.515100   \n",
       "std     62397.405202       0.581654      0.45584        0.499797   \n",
       "min         0.000000       1.000000      0.00000        0.000000   \n",
       "25%         0.000000       1.000000      0.00000        0.000000   \n",
       "50%     97198.540000       1.000000      1.00000        1.000000   \n",
       "75%    127644.240000       2.000000      1.00000        1.000000   \n",
       "max    250898.090000       4.000000      1.00000        1.000000   \n",
       "\n",
       "       EstimatedSalary        Exited  \n",
       "count     10000.000000  10000.000000  \n",
       "mean     100090.239881      0.203700  \n",
       "std       57510.492818      0.402769  \n",
       "min          11.580000      0.000000  \n",
       "25%       51002.110000      0.000000  \n",
       "50%      100193.915000      0.000000  \n",
       "75%      149388.247500      0.000000  \n",
       "max      199992.480000      1.000000  "
      ]
     },
     "execution_count": 8,
     "metadata": {},
     "output_type": "execute_result"
    }
   ],
   "source": [
    "data.describe()"
   ]
  },
  {
   "cell_type": "code",
   "execution_count": 9,
   "metadata": {},
   "outputs": [
    {
     "data": {
      "text/plain": [
       "RowNumber            0\n",
       "CustomerId           0\n",
       "Surname              0\n",
       "CreditScore          0\n",
       "Geography            0\n",
       "Gender               0\n",
       "Age                  0\n",
       "Tenure             909\n",
       "Balance              0\n",
       "NumOfProducts        0\n",
       "HasCrCard            0\n",
       "IsActiveMember       0\n",
       "EstimatedSalary      0\n",
       "Exited               0\n",
       "dtype: int64"
      ]
     },
     "execution_count": 9,
     "metadata": {},
     "output_type": "execute_result"
    }
   ],
   "source": [
    "data.isna().sum()#посмотрю наличие пропусков"
   ]
  },
  {
   "cell_type": "code",
   "execution_count": 10,
   "metadata": {},
   "outputs": [
    {
     "data": {
      "text/plain": [
       "count    9091.000000\n",
       "mean        4.997690\n",
       "std         2.894723\n",
       "min         0.000000\n",
       "25%         2.000000\n",
       "50%         5.000000\n",
       "75%         7.000000\n",
       "max        10.000000\n",
       "Name: Tenure, dtype: float64"
      ]
     },
     "execution_count": 10,
     "metadata": {},
     "output_type": "execute_result"
    },
    {
     "data": {
      "image/png": "[encoded data removed]",
      "text/plain": [
       "<Figure size 288x216 with 1 Axes>"
      ]
     },
     "metadata": {
      "needs_background": "light"
     },
     "output_type": "display_data"
    }
   ],
   "source": [
    "data['Tenure'].plot(kind ='hist',bins=10,title ='Распределение клиентов по годам, которые человек является клиентом банка',\\\n",
    "                    grid =True,figsize = (4,3))#рассмотрю распределение до заполнения пропусков\n",
    "plt.xlabel('Сколько лет человек является клиентом банка')\n",
    "plt.ylabel(\"Количество клиентов\")\n",
    "data['Tenure'].describe()"
   ]
  },
  {
   "cell_type": "code",
   "execution_count": 12,
   "metadata": {},
   "outputs": [
    {
     "name": "stdout",
     "output_type": "stream",
     "text": [
      "RowNumber          0\n",
      "CustomerId         0\n",
      "Surname            0\n",
      "CreditScore        0\n",
      "Geography          0\n",
      "Gender             0\n",
      "Age                0\n",
      "Tenure             0\n",
      "Balance            0\n",
      "NumOfProducts      0\n",
      "HasCrCard          0\n",
      "IsActiveMember     0\n",
      "EstimatedSalary    0\n",
      "Exited             0\n",
      "dtype: int64\n"
     ]
    }
   ],
   "source": [
    "data = data.dropna(subset=['Tenure'])\n",
    "print(data.isna().sum())"
   ]
  },
  {
   "cell_type": "code",
   "execution_count": 13,
   "metadata": {},
   "outputs": [
    {
     "data": {
      "text/plain": [
       "count    9091.000000\n",
       "mean        4.997690\n",
       "std         2.894723\n",
       "min         0.000000\n",
       "25%         2.000000\n",
       "50%         5.000000\n",
       "75%         7.000000\n",
       "max        10.000000\n",
       "Name: Tenure, dtype: float64"
      ]
     },
     "execution_count": 13,
     "metadata": {},
     "output_type": "execute_result"
    },
    {
     "data": {
      "image/png": "[encoded data removed]",
      "text/plain": [
       "<Figure size 288x216 with 1 Axes>"
      ]
     },
     "metadata": {
      "needs_background": "light"
     },
     "output_type": "display_data"
    }
   ],
   "source": [
    "data['Tenure'].plot(kind ='hist',bins=10,title ='Распределение клиентов по годам, которые человек является клиентом банка',\\\n",
    "                    grid =True,figsize = (4,3))#рассмотрю распределение после заполнения пропусков медианой\n",
    "plt.xlabel('Сколько лет человек является клиентом банка')\n",
    "plt.ylabel(\"Количество клиентов\")\n",
    "data['Tenure'].describe()"
   ]
  },
  {
   "cell_type": "code",
   "execution_count": 14,
   "metadata": {},
   "outputs": [
    {
     "data": {
      "text/plain": [
       "0"
      ]
     },
     "execution_count": 14,
     "metadata": {},
     "output_type": "execute_result"
    }
   ],
   "source": [
    "data.duplicated().sum()#проверю на полные дупликаты"
   ]
  },
  {
   "cell_type": "markdown",
   "metadata": {},
   "source": [
    "Для избежания мультиколлинеарности, рассмотрим матрицу корреляции"
   ]
  },
  {
   "cell_type": "code",
   "execution_count": 15,
   "metadata": {},
   "outputs": [
    {
     "data": {
      "text/html": [
       "<div>\n",
       "<style scoped>\n",
       "    .dataframe tbody tr th:only-of-type {\n",
       "        vertical-align: middle;\n",
       "    }\n",
       "\n",
       "    .dataframe tbody tr th {\n",
       "        vertical-align: top;\n",
       "    }\n",
       "\n",
       "    .dataframe thead th {\n",
       "        text-align: right;\n",
       "    }\n",
       "</style>\n",
       "<table border=\"1\" class=\"dataframe\">\n",
       "  <thead>\n",
       "    <tr style=\"text-align: right;\">\n",
       "      <th></th>\n",
       "      <th>RowNumber</th>\n",
       "      <th>CustomerId</th>\n",
       "      <th>CreditScore</th>\n",
       "      <th>Age</th>\n",
       "      <th>Tenure</th>\n",
       "      <th>Balance</th>\n",
       "      <th>NumOfProducts</th>\n",
       "      <th>HasCrCard</th>\n",
       "      <th>IsActiveMember</th>\n",
       "      <th>EstimatedSalary</th>\n",
       "      <th>Exited</th>\n",
       "    </tr>\n",
       "  </thead>\n",
       "  <tbody>\n",
       "    <tr>\n",
       "      <th>RowNumber</th>\n",
       "      <td>1.000000</td>\n",
       "      <td>0.004289</td>\n",
       "      <td>0.002330</td>\n",
       "      <td>0.000681</td>\n",
       "      <td>-0.007322</td>\n",
       "      <td>-0.005921</td>\n",
       "      <td>0.009078</td>\n",
       "      <td>0.001248</td>\n",
       "      <td>0.009536</td>\n",
       "      <td>-0.004854</td>\n",
       "      <td>-0.014562</td>\n",
       "    </tr>\n",
       "    <tr>\n",
       "      <th>CustomerId</th>\n",
       "      <td>0.004289</td>\n",
       "      <td>1.000000</td>\n",
       "      <td>-0.001610</td>\n",
       "      <td>0.010379</td>\n",
       "      <td>-0.021418</td>\n",
       "      <td>-0.007445</td>\n",
       "      <td>0.014604</td>\n",
       "      <td>-0.019891</td>\n",
       "      <td>0.001499</td>\n",
       "      <td>0.010029</td>\n",
       "      <td>-0.007040</td>\n",
       "    </tr>\n",
       "    <tr>\n",
       "      <th>CreditScore</th>\n",
       "      <td>0.002330</td>\n",
       "      <td>-0.001610</td>\n",
       "      <td>1.000000</td>\n",
       "      <td>-0.004504</td>\n",
       "      <td>-0.000062</td>\n",
       "      <td>0.002804</td>\n",
       "      <td>0.011090</td>\n",
       "      <td>-0.003937</td>\n",
       "      <td>0.030947</td>\n",
       "      <td>0.005182</td>\n",
       "      <td>-0.023950</td>\n",
       "    </tr>\n",
       "    <tr>\n",
       "      <th>Age</th>\n",
       "      <td>0.000681</td>\n",
       "      <td>0.010379</td>\n",
       "      <td>-0.004504</td>\n",
       "      <td>1.000000</td>\n",
       "      <td>-0.013134</td>\n",
       "      <td>0.031481</td>\n",
       "      <td>-0.031877</td>\n",
       "      <td>-0.014129</td>\n",
       "      <td>0.082269</td>\n",
       "      <td>-0.007037</td>\n",
       "      <td>0.283017</td>\n",
       "    </tr>\n",
       "    <tr>\n",
       "      <th>Tenure</th>\n",
       "      <td>-0.007322</td>\n",
       "      <td>-0.021418</td>\n",
       "      <td>-0.000062</td>\n",
       "      <td>-0.013134</td>\n",
       "      <td>1.000000</td>\n",
       "      <td>-0.007911</td>\n",
       "      <td>0.011979</td>\n",
       "      <td>0.027232</td>\n",
       "      <td>-0.032178</td>\n",
       "      <td>0.010520</td>\n",
       "      <td>-0.016761</td>\n",
       "    </tr>\n",
       "    <tr>\n",
       "      <th>Balance</th>\n",
       "      <td>-0.005921</td>\n",
       "      <td>-0.007445</td>\n",
       "      <td>0.002804</td>\n",
       "      <td>0.031481</td>\n",
       "      <td>-0.007911</td>\n",
       "      <td>1.000000</td>\n",
       "      <td>-0.301858</td>\n",
       "      <td>-0.019055</td>\n",
       "      <td>-0.003285</td>\n",
       "      <td>0.014351</td>\n",
       "      <td>0.117218</td>\n",
       "    </tr>\n",
       "    <tr>\n",
       "      <th>NumOfProducts</th>\n",
       "      <td>0.009078</td>\n",
       "      <td>0.014604</td>\n",
       "      <td>0.011090</td>\n",
       "      <td>-0.031877</td>\n",
       "      <td>0.011979</td>\n",
       "      <td>-0.301858</td>\n",
       "      <td>1.000000</td>\n",
       "      <td>0.005805</td>\n",
       "      <td>0.009084</td>\n",
       "      <td>0.013990</td>\n",
       "      <td>-0.050271</td>\n",
       "    </tr>\n",
       "    <tr>\n",
       "      <th>HasCrCard</th>\n",
       "      <td>0.001248</td>\n",
       "      <td>-0.019891</td>\n",
       "      <td>-0.003937</td>\n",
       "      <td>-0.014129</td>\n",
       "      <td>0.027232</td>\n",
       "      <td>-0.019055</td>\n",
       "      <td>0.005805</td>\n",
       "      <td>1.000000</td>\n",
       "      <td>-0.008810</td>\n",
       "      <td>-0.006136</td>\n",
       "      <td>-0.005411</td>\n",
       "    </tr>\n",
       "    <tr>\n",
       "      <th>IsActiveMember</th>\n",
       "      <td>0.009536</td>\n",
       "      <td>0.001499</td>\n",
       "      <td>0.030947</td>\n",
       "      <td>0.082269</td>\n",
       "      <td>-0.032178</td>\n",
       "      <td>-0.003285</td>\n",
       "      <td>0.009084</td>\n",
       "      <td>-0.008810</td>\n",
       "      <td>1.000000</td>\n",
       "      <td>-0.020049</td>\n",
       "      <td>-0.155062</td>\n",
       "    </tr>\n",
       "    <tr>\n",
       "      <th>EstimatedSalary</th>\n",
       "      <td>-0.004854</td>\n",
       "      <td>0.010029</td>\n",
       "      <td>0.005182</td>\n",
       "      <td>-0.007037</td>\n",
       "      <td>0.010520</td>\n",
       "      <td>0.014351</td>\n",
       "      <td>0.013990</td>\n",
       "      <td>-0.006136</td>\n",
       "      <td>-0.020049</td>\n",
       "      <td>1.000000</td>\n",
       "      <td>0.016029</td>\n",
       "    </tr>\n",
       "    <tr>\n",
       "      <th>Exited</th>\n",
       "      <td>-0.014562</td>\n",
       "      <td>-0.007040</td>\n",
       "      <td>-0.023950</td>\n",
       "      <td>0.283017</td>\n",
       "      <td>-0.016761</td>\n",
       "      <td>0.117218</td>\n",
       "      <td>-0.050271</td>\n",
       "      <td>-0.005411</td>\n",
       "      <td>-0.155062</td>\n",
       "      <td>0.016029</td>\n",
       "      <td>1.000000</td>\n",
       "    </tr>\n",
       "  </tbody>\n",
       "</table>\n",
       "</div>"
      ],
      "text/plain": [
       "                 RowNumber  CustomerId  CreditScore       Age    Tenure  \\\n",
       "RowNumber         1.000000    0.004289     0.002330  0.000681 -0.007322   \n",
       "CustomerId        0.004289    1.000000    -0.001610  0.010379 -0.021418   \n",
       "CreditScore       0.002330   -0.001610     1.000000 -0.004504 -0.000062   \n",
       "Age               0.000681    0.010379    -0.004504  1.000000 -0.013134   \n",
       "Tenure           -0.007322   -0.021418    -0.000062 -0.013134  1.000000   \n",
       "Balance          -0.005921   -0.007445     0.002804  0.031481 -0.007911   \n",
       "NumOfProducts     0.009078    0.014604     0.011090 -0.031877  0.011979   \n",
       "HasCrCard         0.001248   -0.019891    -0.003937 -0.014129  0.027232   \n",
       "IsActiveMember    0.009536    0.001499     0.030947  0.082269 -0.032178   \n",
       "EstimatedSalary  -0.004854    0.010029     0.005182 -0.007037  0.010520   \n",
       "Exited           -0.014562   -0.007040    -0.023950  0.283017 -0.016761   \n",
       "\n",
       "                  Balance  NumOfProducts  HasCrCard  IsActiveMember  \\\n",
       "RowNumber       -0.005921       0.009078   0.001248        0.009536   \n",
       "CustomerId      -0.007445       0.014604  -0.019891        0.001499   \n",
       "CreditScore      0.002804       0.011090  -0.003937        0.030947   \n",
       "Age              0.031481      -0.031877  -0.014129        0.082269   \n",
       "Tenure          -0.007911       0.011979   0.027232       -0.032178   \n",
       "Balance          1.000000      -0.301858  -0.019055       -0.003285   \n",
       "NumOfProducts   -0.301858       1.000000   0.005805        0.009084   \n",
       "HasCrCard       -0.019055       0.005805   1.000000       -0.008810   \n",
       "IsActiveMember  -0.003285       0.009084  -0.008810        1.000000   \n",
       "EstimatedSalary  0.014351       0.013990  -0.006136       -0.020049   \n",
       "Exited           0.117218      -0.050271  -0.005411       -0.155062   \n",
       "\n",
       "                 EstimatedSalary    Exited  \n",
       "RowNumber              -0.004854 -0.014562  \n",
       "CustomerId              0.010029 -0.007040  \n",
       "CreditScore             0.005182 -0.023950  \n",
       "Age                    -0.007037  0.283017  \n",
       "Tenure                  0.010520 -0.016761  \n",
       "Balance                 0.014351  0.117218  \n",
       "NumOfProducts           0.013990 -0.050271  \n",
       "HasCrCard              -0.006136 -0.005411  \n",
       "IsActiveMember         -0.020049 -0.155062  \n",
       "EstimatedSalary         1.000000  0.016029  \n",
       "Exited                  0.016029  1.000000  "
      ]
     },
     "execution_count": 15,
     "metadata": {},
     "output_type": "execute_result"
    }
   ],
   "source": [
    "data.corr()"
   ]
  },
  {
   "cell_type": "markdown",
   "metadata": {},
   "source": [
    "Нет линейно коррелируемых друг с другом переменных (очень слабая корреляция)."
   ]
  },
  {
   "cell_type": "code",
   "execution_count": 16,
   "metadata": {},
   "outputs": [
    {
     "data": {
      "image/png": "[encoded data removed]",
      "text/plain": [
       "<Figure size 864x864 with 2 Axes>"
      ]
     },
     "metadata": {
      "needs_background": "light"
     },
     "output_type": "display_data"
    }
   ],
   "source": [
    "import seaborn as sns\n",
    "import numpy as np\n",
    "\n",
    "plt.figure(figsize=(12, 12))\n",
    "sns.heatmap(data.corr(), annot=True, square=True);"
   ]
  },
  {
   "cell_type": "markdown",
   "metadata": {},
   "source": [
    "Для анализа не нужны все столбцы, считаю столбцы 'RowNumber','EstimatedSalary','CustomerId','Surname' не влияют на анализ, удалю их. "
   ]
  },
  {
   "cell_type": "code",
   "execution_count": 17,
   "metadata": {},
   "outputs": [],
   "source": [
    "data = data.drop(['RowNumber','CustomerId','Surname'], axis=1)#удаляю лишние столбцы"
   ]
  },
  {
   "cell_type": "code",
   "execution_count": 18,
   "metadata": {},
   "outputs": [
    {
     "data": {
      "text/html": [
       "<div>\n",
       "<style scoped>\n",
       "    .dataframe tbody tr th:only-of-type {\n",
       "        vertical-align: middle;\n",
       "    }\n",
       "\n",
       "    .dataframe tbody tr th {\n",
       "        vertical-align: top;\n",
       "    }\n",
       "\n",
       "    .dataframe thead th {\n",
       "        text-align: right;\n",
       "    }\n",
       "</style>\n",
       "<table border=\"1\" class=\"dataframe\">\n",
       "  <thead>\n",
       "    <tr style=\"text-align: right;\">\n",
       "      <th></th>\n",
       "      <th>CreditScore</th>\n",
       "      <th>Geography</th>\n",
       "      <th>Gender</th>\n",
       "      <th>Age</th>\n",
       "      <th>Tenure</th>\n",
       "      <th>Balance</th>\n",
       "      <th>NumOfProducts</th>\n",
       "      <th>HasCrCard</th>\n",
       "      <th>IsActiveMember</th>\n",
       "      <th>EstimatedSalary</th>\n",
       "      <th>Exited</th>\n",
       "    </tr>\n",
       "  </thead>\n",
       "  <tbody>\n",
       "    <tr>\n",
       "      <th>0</th>\n",
       "      <td>619</td>\n",
       "      <td>France</td>\n",
       "      <td>Female</td>\n",
       "      <td>42</td>\n",
       "      <td>2.0</td>\n",
       "      <td>0.00</td>\n",
       "      <td>1</td>\n",
       "      <td>1</td>\n",
       "      <td>1</td>\n",
       "      <td>101348.88</td>\n",
       "      <td>1</td>\n",
       "    </tr>\n",
       "    <tr>\n",
       "      <th>1</th>\n",
       "      <td>608</td>\n",
       "      <td>Spain</td>\n",
       "      <td>Female</td>\n",
       "      <td>41</td>\n",
       "      <td>1.0</td>\n",
       "      <td>83807.86</td>\n",
       "      <td>1</td>\n",
       "      <td>0</td>\n",
       "      <td>1</td>\n",
       "      <td>112542.58</td>\n",
       "      <td>0</td>\n",
       "    </tr>\n",
       "    <tr>\n",
       "      <th>2</th>\n",
       "      <td>502</td>\n",
       "      <td>France</td>\n",
       "      <td>Female</td>\n",
       "      <td>42</td>\n",
       "      <td>8.0</td>\n",
       "      <td>159660.80</td>\n",
       "      <td>3</td>\n",
       "      <td>1</td>\n",
       "      <td>0</td>\n",
       "      <td>113931.57</td>\n",
       "      <td>1</td>\n",
       "    </tr>\n",
       "    <tr>\n",
       "      <th>3</th>\n",
       "      <td>699</td>\n",
       "      <td>France</td>\n",
       "      <td>Female</td>\n",
       "      <td>39</td>\n",
       "      <td>1.0</td>\n",
       "      <td>0.00</td>\n",
       "      <td>2</td>\n",
       "      <td>0</td>\n",
       "      <td>0</td>\n",
       "      <td>93826.63</td>\n",
       "      <td>0</td>\n",
       "    </tr>\n",
       "    <tr>\n",
       "      <th>4</th>\n",
       "      <td>850</td>\n",
       "      <td>Spain</td>\n",
       "      <td>Female</td>\n",
       "      <td>43</td>\n",
       "      <td>2.0</td>\n",
       "      <td>125510.82</td>\n",
       "      <td>1</td>\n",
       "      <td>1</td>\n",
       "      <td>1</td>\n",
       "      <td>79084.10</td>\n",
       "      <td>0</td>\n",
       "    </tr>\n",
       "  </tbody>\n",
       "</table>\n",
       "</div>"
      ],
      "text/plain": [
       "   CreditScore Geography  Gender  Age  Tenure    Balance  NumOfProducts  \\\n",
       "0          619    France  Female   42     2.0       0.00              1   \n",
       "1          608     Spain  Female   41     1.0   83807.86              1   \n",
       "2          502    France  Female   42     8.0  159660.80              3   \n",
       "3          699    France  Female   39     1.0       0.00              2   \n",
       "4          850     Spain  Female   43     2.0  125510.82              1   \n",
       "\n",
       "   HasCrCard  IsActiveMember  EstimatedSalary  Exited  \n",
       "0          1               1        101348.88       1  \n",
       "1          0               1        112542.58       0  \n",
       "2          1               0        113931.57       1  \n",
       "3          0               0         93826.63       0  \n",
       "4          1               1         79084.10       0  "
      ]
     },
     "execution_count": 18,
     "metadata": {},
     "output_type": "execute_result"
    }
   ],
   "source": [
    "data.head()#проверка"
   ]
  },
  {
   "cell_type": "markdown",
   "metadata": {},
   "source": [
    "Применяем технику One hot encoder для избавления от категориальных переменных, их две 'Geography' и\t'Gender'.\t"
   ]
  },
  {
   "cell_type": "code",
   "execution_count": 19,
   "metadata": {},
   "outputs": [],
   "source": [
    "data_ohe=pd.get_dummies(data,drop_first=True) #избавляюсь от категориальных признаков"
   ]
  },
  {
   "cell_type": "markdown",
   "metadata": {},
   "source": [
    "Объявлю две переменные: features — признаки и target — целевой признак."
   ]
  },
  {
   "cell_type": "code",
   "execution_count": 20,
   "metadata": {},
   "outputs": [],
   "source": [
    "features = data_ohe.drop('Exited',axis=1)\n",
    "target = data_ohe['Exited']"
   ]
  },
  {
   "cell_type": "markdown",
   "metadata": {},
   "source": [
    "Разделю набор данных на обучающую (train) и валидационную (valid) выборки. В random_state значение 12345, stratify=target чтобы сохранить соотношение классов при разбиении."
   ]
  },
  {
   "cell_type": "code",
   "execution_count": 21,
   "metadata": {},
   "outputs": [],
   "source": [
    "features_train, features_valid, target_train, target_valid = train_test_split(features, target, test_size=0.4,random_state=12345, stratify=target)"
   ]
  },
  {
   "cell_type": "markdown",
   "metadata": {},
   "source": [
    "Разделю валидационную выборку на валидационную и тестову. В валидационной выборке — 50% валидационных данных. В random_state  значение 12345, stratify=target чтобы сохранить соотношение классов при разбиении. \n",
    "В итоге получается соотношение тренировочные/валидационные/тестовые=60/20/20"
   ]
  },
  {
   "cell_type": "code",
   "execution_count": 22,
   "metadata": {},
   "outputs": [],
   "source": [
    "features_valid, features_test, target_valid, target_test = train_test_split(features_valid, target_valid, test_size=0.5,random_state=12345, stratify=target_valid)"
   ]
  },
  {
   "cell_type": "code",
   "execution_count": 23,
   "metadata": {},
   "outputs": [
    {
     "data": {
      "text/plain": [
       "(5454, 11)"
      ]
     },
     "metadata": {},
     "output_type": "display_data"
    },
    {
     "data": {
      "text/plain": [
       "(5454,)"
      ]
     },
     "metadata": {},
     "output_type": "display_data"
    },
    {
     "data": {
      "text/plain": [
       "(1818, 11)"
      ]
     },
     "metadata": {},
     "output_type": "display_data"
    },
    {
     "data": {
      "text/plain": [
       "(1818,)"
      ]
     },
     "metadata": {},
     "output_type": "display_data"
    },
    {
     "data": {
      "text/plain": [
       "(1819, 11)"
      ]
     },
     "metadata": {},
     "output_type": "display_data"
    },
    {
     "data": {
      "text/plain": [
       "(1819,)"
      ]
     },
     "metadata": {},
     "output_type": "display_data"
    }
   ],
   "source": [
    "display(features_train.shape)\n",
    "display(target_train.shape)\n",
    "display(features_valid.shape)\n",
    "display(target_valid.shape)\n",
    "display(features_test.shape)\n",
    "display(target_test.shape)"
   ]
  },
  {
   "cell_type": "code",
   "execution_count": 24,
   "metadata": {},
   "outputs": [
    {
     "data": {
      "text/html": [
       "<div>\n",
       "<style scoped>\n",
       "    .dataframe tbody tr th:only-of-type {\n",
       "        vertical-align: middle;\n",
       "    }\n",
       "\n",
       "    .dataframe tbody tr th {\n",
       "        vertical-align: top;\n",
       "    }\n",
       "\n",
       "    .dataframe thead th {\n",
       "        text-align: right;\n",
       "    }\n",
       "</style>\n",
       "<table border=\"1\" class=\"dataframe\">\n",
       "  <thead>\n",
       "    <tr style=\"text-align: right;\">\n",
       "      <th></th>\n",
       "      <th>CreditScore</th>\n",
       "      <th>Age</th>\n",
       "      <th>Tenure</th>\n",
       "      <th>Balance</th>\n",
       "      <th>NumOfProducts</th>\n",
       "      <th>HasCrCard</th>\n",
       "      <th>IsActiveMember</th>\n",
       "      <th>EstimatedSalary</th>\n",
       "      <th>Geography_Germany</th>\n",
       "      <th>Geography_Spain</th>\n",
       "      <th>Gender_Male</th>\n",
       "    </tr>\n",
       "  </thead>\n",
       "  <tbody>\n",
       "    <tr>\n",
       "      <th>9723</th>\n",
       "      <td>526</td>\n",
       "      <td>32</td>\n",
       "      <td>7.0</td>\n",
       "      <td>125540.05</td>\n",
       "      <td>1</td>\n",
       "      <td>0</td>\n",
       "      <td>0</td>\n",
       "      <td>86786.41</td>\n",
       "      <td>0</td>\n",
       "      <td>0</td>\n",
       "      <td>1</td>\n",
       "    </tr>\n",
       "    <tr>\n",
       "      <th>1224</th>\n",
       "      <td>500</td>\n",
       "      <td>47</td>\n",
       "      <td>8.0</td>\n",
       "      <td>128486.11</td>\n",
       "      <td>1</td>\n",
       "      <td>1</td>\n",
       "      <td>0</td>\n",
       "      <td>179227.12</td>\n",
       "      <td>0</td>\n",
       "      <td>1</td>\n",
       "      <td>0</td>\n",
       "    </tr>\n",
       "    <tr>\n",
       "      <th>8377</th>\n",
       "      <td>802</td>\n",
       "      <td>40</td>\n",
       "      <td>4.0</td>\n",
       "      <td>0.00</td>\n",
       "      <td>2</td>\n",
       "      <td>1</td>\n",
       "      <td>1</td>\n",
       "      <td>81908.09</td>\n",
       "      <td>0</td>\n",
       "      <td>1</td>\n",
       "      <td>1</td>\n",
       "    </tr>\n",
       "    <tr>\n",
       "      <th>8014</th>\n",
       "      <td>731</td>\n",
       "      <td>39</td>\n",
       "      <td>2.0</td>\n",
       "      <td>126816.18</td>\n",
       "      <td>1</td>\n",
       "      <td>1</td>\n",
       "      <td>1</td>\n",
       "      <td>74850.93</td>\n",
       "      <td>0</td>\n",
       "      <td>1</td>\n",
       "      <td>0</td>\n",
       "    </tr>\n",
       "    <tr>\n",
       "      <th>2491</th>\n",
       "      <td>612</td>\n",
       "      <td>26</td>\n",
       "      <td>4.0</td>\n",
       "      <td>0.00</td>\n",
       "      <td>2</td>\n",
       "      <td>1</td>\n",
       "      <td>1</td>\n",
       "      <td>179780.74</td>\n",
       "      <td>0</td>\n",
       "      <td>1</td>\n",
       "      <td>0</td>\n",
       "    </tr>\n",
       "  </tbody>\n",
       "</table>\n",
       "</div>"
      ],
      "text/plain": [
       "      CreditScore  Age  Tenure    Balance  NumOfProducts  HasCrCard  \\\n",
       "9723          526   32     7.0  125540.05              1          0   \n",
       "1224          500   47     8.0  128486.11              1          1   \n",
       "8377          802   40     4.0       0.00              2          1   \n",
       "8014          731   39     2.0  126816.18              1          1   \n",
       "2491          612   26     4.0       0.00              2          1   \n",
       "\n",
       "      IsActiveMember  EstimatedSalary  Geography_Germany  Geography_Spain  \\\n",
       "9723               0         86786.41                  0                0   \n",
       "1224               0        179227.12                  0                1   \n",
       "8377               1         81908.09                  0                1   \n",
       "8014               1         74850.93                  0                1   \n",
       "2491               1        179780.74                  0                1   \n",
       "\n",
       "      Gender_Male  \n",
       "9723            1  \n",
       "1224            0  \n",
       "8377            1  \n",
       "8014            0  \n",
       "2491            0  "
      ]
     },
     "execution_count": 24,
     "metadata": {},
     "output_type": "execute_result"
    }
   ],
   "source": [
    "features_train.head()"
   ]
  },
  {
   "cell_type": "markdown",
   "metadata": {},
   "source": [
    "У признаков разный масштаб, их нужно стандартизировать  методом StandardScaler()"
   ]
  },
  {
   "cell_type": "code",
   "execution_count": 25,
   "metadata": {},
   "outputs": [
    {
     "name": "stderr",
     "output_type": "stream",
     "text": [
      "/tmp/ipykernel_117/3603164570.py:4: SettingWithCopyWarning: \n",
      "A value is trying to be set on a copy of a slice from a DataFrame.\n",
      "Try using .loc[row_indexer,col_indexer] = value instead\n",
      "\n",
      "See the caveats in the documentation: https://pandas.pydata.org/pandas-docs/stable/user_guide/indexing.html#returning-a-view-versus-a-copy\n",
      "  features_train[numeric]=scaler.transform(features_train[numeric])\n",
      "/opt/conda/lib/python3.9/site-packages/pandas/core/indexing.py:1738: SettingWithCopyWarning: \n",
      "A value is trying to be set on a copy of a slice from a DataFrame.\n",
      "Try using .loc[row_indexer,col_indexer] = value instead\n",
      "\n",
      "See the caveats in the documentation: https://pandas.pydata.org/pandas-docs/stable/user_guide/indexing.html#returning-a-view-versus-a-copy\n",
      "  self._setitem_single_column(loc, value[:, i].tolist(), pi)\n"
     ]
    }
   ],
   "source": [
    "numeric=['CreditScore','Age','Tenure','Balance','NumOfProducts', 'EstimatedSalary']\n",
    "scaler=StandardScaler()\n",
    "scaler.fit(features_train[numeric])\n",
    "features_train[numeric]=scaler.transform(features_train[numeric])\n",
    "features_valid[numeric]=scaler.transform(features_valid[numeric])\n",
    "\n",
    "features_test[numeric]=scaler.transform(features_test[numeric])\n",
    "\n",
    "pd.options.mode.chained_assignment=None"
   ]
  },
  {
   "cell_type": "code",
   "execution_count": 26,
   "metadata": {},
   "outputs": [
    {
     "data": {
      "text/html": [
       "<div>\n",
       "<style scoped>\n",
       "    .dataframe tbody tr th:only-of-type {\n",
       "        vertical-align: middle;\n",
       "    }\n",
       "\n",
       "    .dataframe tbody tr th {\n",
       "        vertical-align: top;\n",
       "    }\n",
       "\n",
       "    .dataframe thead th {\n",
       "        text-align: right;\n",
       "    }\n",
       "</style>\n",
       "<table border=\"1\" class=\"dataframe\">\n",
       "  <thead>\n",
       "    <tr style=\"text-align: right;\">\n",
       "      <th></th>\n",
       "      <th>CreditScore</th>\n",
       "      <th>Age</th>\n",
       "      <th>Tenure</th>\n",
       "      <th>Balance</th>\n",
       "      <th>NumOfProducts</th>\n",
       "      <th>HasCrCard</th>\n",
       "      <th>IsActiveMember</th>\n",
       "      <th>EstimatedSalary</th>\n",
       "      <th>Geography_Germany</th>\n",
       "      <th>Geography_Spain</th>\n",
       "      <th>Gender_Male</th>\n",
       "    </tr>\n",
       "  </thead>\n",
       "  <tbody>\n",
       "    <tr>\n",
       "      <th>9723</th>\n",
       "      <td>-1.292898</td>\n",
       "      <td>-0.660843</td>\n",
       "      <td>0.686341</td>\n",
       "      <td>0.786636</td>\n",
       "      <td>-0.910943</td>\n",
       "      <td>0</td>\n",
       "      <td>0</td>\n",
       "      <td>-0.223548</td>\n",
       "      <td>0</td>\n",
       "      <td>0</td>\n",
       "      <td>1</td>\n",
       "    </tr>\n",
       "    <tr>\n",
       "      <th>1224</th>\n",
       "      <td>-1.563714</td>\n",
       "      <td>0.778434</td>\n",
       "      <td>1.034232</td>\n",
       "      <td>0.833795</td>\n",
       "      <td>-0.910943</td>\n",
       "      <td>1</td>\n",
       "      <td>0</td>\n",
       "      <td>1.383021</td>\n",
       "      <td>0</td>\n",
       "      <td>1</td>\n",
       "      <td>0</td>\n",
       "    </tr>\n",
       "    <tr>\n",
       "      <th>8377</th>\n",
       "      <td>1.581914</td>\n",
       "      <td>0.106771</td>\n",
       "      <td>-0.357331</td>\n",
       "      <td>-1.222967</td>\n",
       "      <td>0.789359</td>\n",
       "      <td>1</td>\n",
       "      <td>1</td>\n",
       "      <td>-0.308331</td>\n",
       "      <td>0</td>\n",
       "      <td>1</td>\n",
       "      <td>1</td>\n",
       "    </tr>\n",
       "    <tr>\n",
       "      <th>8014</th>\n",
       "      <td>0.842379</td>\n",
       "      <td>0.010820</td>\n",
       "      <td>-1.053112</td>\n",
       "      <td>0.807063</td>\n",
       "      <td>-0.910943</td>\n",
       "      <td>1</td>\n",
       "      <td>1</td>\n",
       "      <td>-0.430980</td>\n",
       "      <td>0</td>\n",
       "      <td>1</td>\n",
       "      <td>0</td>\n",
       "    </tr>\n",
       "    <tr>\n",
       "      <th>2491</th>\n",
       "      <td>-0.397123</td>\n",
       "      <td>-1.236554</td>\n",
       "      <td>-0.357331</td>\n",
       "      <td>-1.222967</td>\n",
       "      <td>0.789359</td>\n",
       "      <td>1</td>\n",
       "      <td>1</td>\n",
       "      <td>1.392642</td>\n",
       "      <td>0</td>\n",
       "      <td>1</td>\n",
       "      <td>0</td>\n",
       "    </tr>\n",
       "  </tbody>\n",
       "</table>\n",
       "</div>"
      ],
      "text/plain": [
       "      CreditScore       Age    Tenure   Balance  NumOfProducts  HasCrCard  \\\n",
       "9723    -1.292898 -0.660843  0.686341  0.786636      -0.910943          0   \n",
       "1224    -1.563714  0.778434  1.034232  0.833795      -0.910943          1   \n",
       "8377     1.581914  0.106771 -0.357331 -1.222967       0.789359          1   \n",
       "8014     0.842379  0.010820 -1.053112  0.807063      -0.910943          1   \n",
       "2491    -0.397123 -1.236554 -0.357331 -1.222967       0.789359          1   \n",
       "\n",
       "      IsActiveMember  EstimatedSalary  Geography_Germany  Geography_Spain  \\\n",
       "9723               0        -0.223548                  0                0   \n",
       "1224               0         1.383021                  0                1   \n",
       "8377               1        -0.308331                  0                1   \n",
       "8014               1        -0.430980                  0                1   \n",
       "2491               1         1.392642                  0                1   \n",
       "\n",
       "      Gender_Male  \n",
       "9723            1  \n",
       "1224            0  \n",
       "8377            1  \n",
       "8014            0  \n",
       "2491            0  "
      ]
     },
     "execution_count": 26,
     "metadata": {},
     "output_type": "execute_result"
    }
   ],
   "source": [
    "features_train.head()"
   ]
  },
  {
   "cell_type": "markdown",
   "metadata": {},
   "source": [
    "## 1.2 Исследование задачи"
   ]
  },
  {
   "cell_type": "markdown",
   "metadata": {},
   "source": [
    "Рассмотрю модель Случайный лес"
   ]
  },
  {
   "cell_type": "code",
   "execution_count": 27,
   "metadata": {},
   "outputs": [
    {
     "name": "stdout",
     "output_type": "stream",
     "text": [
      "best_depth: 19 n_estimators 61 F1: 0.6245954692556633\n",
      "Auc_roc: 0.8657059777921418\n"
     ]
    }
   ],
   "source": [
    "best_model = None\n",
    "best_result = 0\n",
    "max_depth = 0\n",
    "best_est = 0\n",
    "for max_depth in range(1,20):\n",
    "    for est in range(1, 71, 10):\n",
    "        model_forest = RandomForestClassifier(random_state=12345, max_depth=max_depth, n_estimators=est) \n",
    "        model_forest.fit(features_train, target_train)#обучу модель на тренировочной выборке\n",
    "        prediction = model_forest.predict(features_valid)\n",
    "        result = f1_score(target_valid,prediction)\n",
    "        if result > best_result:\n",
    "            best_model = model_forest\n",
    "            best_result = result\n",
    "            max_depth = max_depth\n",
    "            best_est = est\n",
    "print('best_depth:',max_depth, 'n_estimators', est, 'F1:', best_result)\n",
    "\n",
    "probabilities_forest = best_model.predict_proba(features_valid)\n",
    "probabilities_one_valid_forest = probabilities_forest[:,1]\n",
    "fpr_forest,tpr_forest,thresholds = roc_curve(target_valid,probabilities_one_valid_forest)\n",
    "auc_roc_forest = roc_auc_score(target_valid, probabilities_one_valid_forest)\n",
    "print('Auc_roc:', auc_roc_forest)"
   ]
  },
  {
   "cell_type": "markdown",
   "metadata": {},
   "source": [
    "Вывод: лучшее значение F1=0,62, при котором max_depth=19, n_estimators=61, Auc_roc=0,87"
   ]
  },
  {
   "cell_type": "markdown",
   "metadata": {},
   "source": [
    "Рассмотрю модель Логистическая регрессия"
   ]
  },
  {
   "cell_type": "code",
   "execution_count": 28,
   "metadata": {},
   "outputs": [
    {
     "name": "stdout",
     "output_type": "stream",
     "text": [
      "F1: 0.3306772908366534\n",
      "Auc_roc: 0.7893382907660986\n"
     ]
    }
   ],
   "source": [
    "model_logistic=LogisticRegression(random_state=12345, solver='lbfgs')\n",
    "model_logistic.fit(features_train,target_train)\n",
    "prediction = model_logistic.predict(features_valid)\n",
    "print('F1:',f1_score(target_valid,prediction))\n",
    "\n",
    "probabilities_logistic = model_logistic.predict_proba(features_valid)\n",
    "probabilities_one_valid_logistic = probabilities_logistic[:,1]\n",
    "fpr_logistic,tpr_logistic,thresholds = roc_curve(target_valid,probabilities_one_valid_logistic)\n",
    "auc_roc_logistic = roc_auc_score(target_valid, probabilities_one_valid_logistic)\n",
    "print('Auc_roc:', auc_roc_logistic)"
   ]
  },
  {
   "cell_type": "markdown",
   "metadata": {},
   "source": [
    "### 1.2.1 Вывод: \n"
   ]
  },
  {
   "cell_type": "markdown",
   "metadata": {},
   "source": [
    "при рассмотрении данных с дисбалансом среди моделей Дерево решений и логистическая регрессия, лучшей моделью оказалось Дерево решений F1 мера=0,62, Auc_roc=0,87 на валидационной выборке, у логистической регрессии F1 мера = 0,33, Auc_roc=0,79."
   ]
  },
  {
   "cell_type": "markdown",
   "metadata": {},
   "source": [
    "## 2. Борьба с дисбалансом"
   ]
  },
  {
   "cell_type": "code",
   "execution_count": 29,
   "metadata": {},
   "outputs": [
    {
     "data": {
      "text/plain": [
       "0    7237\n",
       "1    1854\n",
       "Name: Exited, dtype: int64"
      ]
     },
     "execution_count": 29,
     "metadata": {},
     "output_type": "execute_result"
    }
   ],
   "source": [
    "data['Exited'].value_counts()"
   ]
  },
  {
   "cell_type": "code",
   "execution_count": 30,
   "metadata": {},
   "outputs": [
    {
     "data": {
      "image/png": "[encoded data removed]",
      "text/plain": [
       "<Figure size 144x144 with 1 Axes>"
      ]
     },
     "metadata": {
      "needs_background": "light"
     },
     "output_type": "display_data"
    }
   ],
   "source": [
    "data['Exited'].value_counts().plot(kind='bar',grid=True,figsize=(2,2),title='Соотношение тех, кто остался и тех кто ушел');#гистограма значений оттока и оставшихся клиентов"
   ]
  },
  {
   "cell_type": "markdown",
   "metadata": {},
   "source": [
    "Соотношение тех, кто остался и тех, кто колонка \"Exited\" ушел примерно 1 к 4, в данных присутствует явный дисбаланс, нужно с этим поработать.\n",
    "Использую функцию Upsamping для увеличения количества клиентов оттока (где data['Exited'] ==1)"
   ]
  },
  {
   "cell_type": "code",
   "execution_count": 31,
   "metadata": {},
   "outputs": [],
   "source": [
    "def upsampling (features,target,repeat):\n",
    "    target_one = target[target==1]#разделяю обучающую выборку на отрицательные и положительные объекты\n",
    "    target_zeros = target[target==0]\n",
    "    features_one = features[target==1]\n",
    "    features_zeros = features[target==0]\n",
    "    \n",
    "    features_upsampling = pd.concat([features_zeros]+[features_one]*repeat)#копирую положит. объекты и создаю нов. обуч. выборку\n",
    "    target_upsampling = pd.concat([target_zeros]+[target_one]*repeat)\n",
    "    \n",
    "    features_upsampling, target_upsampling = shuffle(features_upsampling, target_upsampling,random_state=1234)#перемешаю данные\n",
    "    \n",
    "    return features_upsampling, target_upsampling"
   ]
  },
  {
   "cell_type": "code",
   "execution_count": 32,
   "metadata": {},
   "outputs": [],
   "source": [
    "features_balance_1, target_balance_1 = upsampling(features_train,target_train, 4)"
   ]
  },
  {
   "cell_type": "code",
   "execution_count": 33,
   "metadata": {},
   "outputs": [
    {
     "name": "stdout",
     "output_type": "stream",
     "text": [
      "(8790, 11)\n",
      "(8790,)\n"
     ]
    }
   ],
   "source": [
    "print(features_balance_1.shape)#проверка\n",
    "print(target_balance_1.shape)"
   ]
  },
  {
   "cell_type": "markdown",
   "metadata": {},
   "source": [
    "1. Увеличение выборки"
   ]
  },
  {
   "cell_type": "markdown",
   "metadata": {},
   "source": [
    "Рассмотрю модель Случайный лес"
   ]
  },
  {
   "cell_type": "code",
   "execution_count": 34,
   "metadata": {},
   "outputs": [
    {
     "name": "stdout",
     "output_type": "stream",
     "text": [
      "best_depth: 19 n_estimators 61 F1: 0.6501950585175553\n",
      "Auc_roc: 0.8734532083295302\n"
     ]
    }
   ],
   "source": [
    "best_model = None\n",
    "best_result = 0\n",
    "max_depth = 0\n",
    "best_est = 0\n",
    "for max_depth in range(1,20):\n",
    "    for est in range(1, 71, 10):\n",
    "        model_forest = RandomForestClassifier(random_state=12345, max_depth=max_depth, n_estimators=est) \n",
    "        model_forest.fit(features_balance_1, target_balance_1)#обучу модель на тренировочной выборке\n",
    "        prediction = model_forest.predict(features_valid)\n",
    "        result = f1_score(target_valid,prediction)\n",
    "        if result > best_result:\n",
    "            best_model = model_forest\n",
    "            best_result = result\n",
    "            max_depth = max_depth\n",
    "            best_est = est\n",
    "           \n",
    "print('best_depth:',max_depth, 'n_estimators', est, 'F1:', best_result)\n",
    "\n",
    "probabilities_forest = best_model.predict_proba(features_valid)#добавила\n",
    "probabilities_one_valid_forest = probabilities_forest[:,1]#добавила\n",
    "fpr_forest,tpr_forest,thresholds = roc_curve(target_valid,probabilities_one_valid_forest)#добавила\n",
    "auc_roc_forest = roc_auc_score(target_valid, probabilities_one_valid_forest)#добавила\n",
    "print('Auc_roc:', auc_roc_forest)#добавила"
   ]
  },
  {
   "cell_type": "markdown",
   "metadata": {},
   "source": [
    "Рассмотрю модель логистическая регрессия"
   ]
  },
  {
   "cell_type": "code",
   "execution_count": 35,
   "metadata": {},
   "outputs": [
    {
     "name": "stdout",
     "output_type": "stream",
     "text": [
      "F1: 0.5050878815911193\n",
      "Auc_roc: 0.7907446766895724\n"
     ]
    }
   ],
   "source": [
    "model_logistic=LogisticRegression(random_state=12345, solver='lbfgs')\n",
    "model_logistic.fit(features_balance_1,target_balance_1)\n",
    "prediction = model_logistic.predict(features_valid)\n",
    "print('F1:',f1_score(target_valid,prediction))\n",
    "\n",
    "probabilities_logistic = model_logistic.predict_proba(features_valid)#добавила\n",
    "probabilities_one_valid_logistic = probabilities_logistic[:,1]#добавила\n",
    "fpr_logistic,tpr_logistic,thresholds = roc_curve(target_valid,probabilities_one_valid_logistic)#добавила\n",
    "auc_roc_logistic = roc_auc_score(target_valid, probabilities_one_valid_logistic)#добавила\n",
    "print('Auc_roc:', auc_roc_logistic)#добавила"
   ]
  },
  {
   "cell_type": "markdown",
   "metadata": {},
   "source": [
    "Лучшее значение F1 меры показала модель случайного леса = 0,65, Auc_roc=0,87, логистическя регрессия = 0,51, Auc_roc=0,79."
   ]
  },
  {
   "cell_type": "markdown",
   "metadata": {},
   "source": [
    "Рассмотрю другой способ борьбы с дисбалансом Downsampling (уменьшение выборки)"
   ]
  },
  {
   "cell_type": "code",
   "execution_count": 36,
   "metadata": {},
   "outputs": [],
   "source": [
    "def downsampling(features,target,fraction):\n",
    "    features_zeros = features[target==0]#разделяю обучающую выборку на отрицательные и положительные объекты\n",
    "    features_one = features[target==1]\n",
    "    target_zeros = target[target==0]\n",
    "    target_one = target[target==1]\n",
    "    \n",
    "    features_downsampling = pd.concat([features_zeros.sample(frac=0.4,random_state=1234)]+[features_one])#отбрасываю часть отр. выборки и создаю нов. обуч. выборку\n",
    "    target_downsampling = pd.concat([target_zeros.sample(frac=0.4,random_state=1234)]+[target_one])\n",
    "    \n",
    "    features_downsampling, target_downsampling = shuffle(features_downsampling, target_downsampling,random_state=1234)\n",
    "    return features_downsampling, target_downsampling"
   ]
  },
  {
   "cell_type": "code",
   "execution_count": 37,
   "metadata": {},
   "outputs": [],
   "source": [
    "features_balance_2,target_balance_2 = downsampling(features,target,0.4)"
   ]
  },
  {
   "cell_type": "code",
   "execution_count": 38,
   "metadata": {},
   "outputs": [
    {
     "name": "stdout",
     "output_type": "stream",
     "text": [
      "(4749, 11)\n",
      "(4749,)\n"
     ]
    }
   ],
   "source": [
    "print(features_balance_2.shape)#проверка\n",
    "print(target_balance_2.shape)"
   ]
  },
  {
   "cell_type": "markdown",
   "metadata": {},
   "source": [
    "2. Уменьшенеи выборки"
   ]
  },
  {
   "cell_type": "markdown",
   "metadata": {},
   "source": [
    "Рассмотрю модель Случайный лес"
   ]
  },
  {
   "cell_type": "code",
   "execution_count": 39,
   "metadata": {},
   "outputs": [
    {
     "name": "stdout",
     "output_type": "stream",
     "text": [
      "best_depth: 19 n_estimators 61 F1: 0.3882352941176471\n",
      "Auc_roc: 0.6159187984434753\n"
     ]
    }
   ],
   "source": [
    "best_model = None\n",
    "best_result = 0\n",
    "max_depth = 0\n",
    "best_est = 0\n",
    "for max_depth in range(1,20):\n",
    "    for est in range(1, 71, 10):\n",
    "        model_forest = RandomForestClassifier(random_state=12345, max_depth=max_depth, n_estimators=est) \n",
    "        model_forest.fit(features_balance_2, target_balance_2)#обучу модель на тренировочной выборке\n",
    "        prediction = model_forest.predict(features_valid)\n",
    "        result = f1_score(target_valid,prediction)\n",
    "        if result > best_result:\n",
    "            best_model = model_forest\n",
    "            best_result = result\n",
    "            max_depth = max_depth\n",
    "            best_est = est\n",
    "           \n",
    "print('best_depth:',max_depth, 'n_estimators', est, 'F1:', best_result)\n",
    "\n",
    "probabilities_forest = best_model.predict_proba(features_valid)#добавила\n",
    "probabilities_one_valid_forest = probabilities_forest[:,1]#добавила\n",
    "fpr_forest,tpr_forest,thresholds = roc_curve(target_valid,probabilities_one_valid_forest)#добавила\n",
    "auc_roc_forest = roc_auc_score(target_valid, probabilities_one_valid_forest)#добавила\n",
    "print('Auc_roc:', auc_roc_forest)#добавила"
   ]
  },
  {
   "cell_type": "markdown",
   "metadata": {},
   "source": [
    "Рассмотрю модель логистическая регрессия"
   ]
  },
  {
   "cell_type": "code",
   "execution_count": 40,
   "metadata": {},
   "outputs": [
    {
     "name": "stdout",
     "output_type": "stream",
     "text": [
      "F1: 0.3111467522052927\n",
      "Auc_roc: 0.5210687787913277\n"
     ]
    }
   ],
   "source": [
    "model_logistic=LogisticRegression(random_state=12345, solver='lbfgs')\n",
    "model_logistic.fit(features_balance_2,target_balance_2)\n",
    "prediction = model_logistic.predict(features_valid)\n",
    "print('F1:',f1_score(target_valid,prediction))\n",
    "\n",
    "probabilities_logistic = model_logistic.predict_proba(features_valid)#добавила\n",
    "probabilities_one_valid_logistic = probabilities_logistic[:,1]#добавила\n",
    "fpr_logistic,tpr_logistic,thresholds = roc_curve(target_valid,probabilities_one_valid_logistic)#добавила\n",
    "auc_roc_logistic = roc_auc_score(target_valid, probabilities_one_valid_logistic)#добавила\n",
    "print('Auc_roc:', auc_roc_logistic)#добавила"
   ]
  },
  {
   "cell_type": "markdown",
   "metadata": {},
   "source": [
    "Лучшее значение F1 меры показала модель случайный лес = 0,39, Auc_roc=0,62,  логистическая регрессия F1= 0,31, Auc_roc=0,52."
   ]
  },
  {
   "cell_type": "markdown",
   "metadata": {},
   "source": [
    "3. Подход - взвешивание классов"
   ]
  },
  {
   "cell_type": "markdown",
   "metadata": {},
   "source": [
    "Рассмотрю модель Случайный лес"
   ]
  },
  {
   "cell_type": "code",
   "execution_count": 41,
   "metadata": {},
   "outputs": [
    {
     "name": "stdout",
     "output_type": "stream",
     "text": [
      "best_depth: 19 n_estimators 61 F1: 0.641025641025641\n",
      "Auc_roc: 0.8752824414114528\n"
     ]
    }
   ],
   "source": [
    "best_model = None\n",
    "best_result = 0\n",
    "max_depth = 0\n",
    "best_est = 0\n",
    "for max_depth in range(1,20):\n",
    "    for est in range(1, 71, 10):\n",
    "        model_forest = RandomForestClassifier(random_state=12345, max_depth=max_depth, n_estimators=est, class_weight='balanced') \n",
    "        model_forest.fit(features_train,target_train)#обучу модель на тренировочной выборке\n",
    "        prediction = model_forest.predict(features_valid)\n",
    "        result = f1_score(target_valid,prediction)\n",
    "        if result > best_result:\n",
    "            best_model = model_forest\n",
    "            best_result = result\n",
    "            max_depth = max_depth\n",
    "            best_est = est\n",
    "           \n",
    "print('best_depth:',max_depth, 'n_estimators', est, 'F1:', best_result)\n",
    "\n",
    "probabilities_forest = best_model.predict_proba(features_valid)#добавила\n",
    "probabilities_one_valid_forest = probabilities_forest[:,1]#добавила\n",
    "fpr_forest,tpr_forest,thresholds = roc_curve(target_valid,probabilities_one_valid_forest)#добавила\n",
    "auc_roc_forest = roc_auc_score(target_valid, probabilities_one_valid_forest)#добавила\n",
    "print('Auc_roc:', auc_roc_forest)#добавила"
   ]
  },
  {
   "cell_type": "markdown",
   "metadata": {},
   "source": [
    "Рассмотрю модель логистическая регрессия"
   ]
  },
  {
   "cell_type": "code",
   "execution_count": 42,
   "metadata": {},
   "outputs": [
    {
     "name": "stdout",
     "output_type": "stream",
     "text": [
      "F1: 0.5079365079365079\n",
      "Auc_roc: 0.7907428139267598\n"
     ]
    }
   ],
   "source": [
    "model_logistic=LogisticRegression(random_state=12345, solver='lbfgs', class_weight='balanced')\n",
    "model_logistic.fit(features_train, target_train)\n",
    "prediction = model_logistic.predict(features_valid)\n",
    "print('F1:',f1_score(target_valid,prediction))\n",
    "\n",
    "probabilities_logistic = model_logistic.predict_proba(features_valid)#добавила\n",
    "probabilities_one_valid_logistic = probabilities_logistic[:,1]#добавила\n",
    "fpr_logistic,tpr_logistic,thresholds = roc_curve(target_valid,probabilities_one_valid_logistic)#добавила\n",
    "auc_roc_logistic = roc_auc_score(target_valid, probabilities_one_valid_logistic)#добавила\n",
    "print('Auc_roc:', auc_roc_logistic)#добавила"
   ]
  },
  {
   "cell_type": "markdown",
   "metadata": {},
   "source": [
    "Лучшее значение F1 меры показала модель случайный лес = 0,65, Auc_roc=0,87,  логистическая регрессия F1= 0,51, Auc_roc=0,79."
   ]
  },
  {
   "cell_type": "markdown",
   "metadata": {},
   "source": [
    "### 2.1 Вывод: "
   ]
  },
  {
   "cell_type": "markdown",
   "metadata": {},
   "source": [
    "при рассмотрении сбалансированных данных на валидационной выборке я получила следующие значения F1 меры:\n",
    "\n",
    "1. Увеличение выборки: \n",
    "    - Случайный лес(max_depth=19, n_estimators=61) F1 мера=0,650, Auc_roc=0,873\n",
    "    - Логистическая регрессия F1 мера=0,51,  Auc_roc=0,79\n",
    "2. Уменьшение выборки:\n",
    "    - Случайный лес(max_depth=19, n_estimators=61) F1 мера=0,39, Auc_roc=0,62\n",
    "    - Логистическая регрессия F1 мера=0,31, Auc_roc=0,52.\n",
    "3. взвешивание классов\n",
    "    - Случайный лес(max_depth=19, n_estimators=61) F1 мера=0,648, Auc_roc=0,872\n",
    "    - Логистическая регрессия F1 мера=0,51,  Auc_roc=0,79.\n",
    "\n",
    "Лучший показатель F1 меры=0,65 у Случайного леса на сбалансированной (увеличением) выборке - выбираем это лучшей моделью для проверик на тестовых данных. "
   ]
  },
  {
   "cell_type": "markdown",
   "metadata": {},
   "source": [
    "## 3. Тестирование моделей"
   ]
  },
  {
   "cell_type": "markdown",
   "metadata": {},
   "source": [
    "Найду покзатели F1 меры лучшей модели - Случайный лес на тестовой выборке"
   ]
  },
  {
   "cell_type": "code",
   "execution_count": 43,
   "metadata": {},
   "outputs": [
    {
     "name": "stdout",
     "output_type": "stream",
     "text": [
      "best_depth: 19 F1: 0.6103151862464183\n",
      "Auc_roc: 0.86564636938214\n"
     ]
    }
   ],
   "source": [
    "best_model = None\n",
    "best_result = 0\n",
    "max_depth = 0\n",
    "best_est = 0\n",
    "for max_depth in range(1,20):\n",
    "    for est in range(1, 71, 10):\n",
    "        model_forest = RandomForestClassifier(random_state=12345, max_depth=max_depth, n_estimators=est) \n",
    "        model_forest.fit(features_balance_1, target_balance_1)#обучу модель на тренировочной выборке\n",
    "        prediction = model_forest.predict(features_test)\n",
    "        result = f1_score(target_test,prediction)\n",
    "        if result > best_result:\n",
    "            best_model = model_forest\n",
    "            best_result = result\n",
    "            max_depth = max_depth\n",
    "            best_est = est\n",
    "            \n",
    "print('best_depth:',max_depth, 'F1:', best_result)\n",
    "\n",
    "probabilities_forest = best_model.predict_proba(features_valid)\n",
    "probabilities_one_valid_forest = probabilities_forest[:,1]\n",
    "fpr_forest,tpr_forest,thresholds = roc_curve(target_valid,probabilities_one_valid_forest)\n",
    "auc_roc_forest = roc_auc_score(target_valid, probabilities_one_valid_forest)\n",
    "print('Auc_roc:', auc_roc_forest)"
   ]
  },
  {
   "cell_type": "markdown",
   "metadata": {},
   "source": [
    "### 3.1 Вывод:"
   ]
  },
  {
   "cell_type": "markdown",
   "metadata": {},
   "source": [
    "Зналение F1 меры у модели Случайный лес = 0,61, Auc_roc=0,87, на тестовой выборке показатель немного хуже, чем на валидационной. "
   ]
  },
  {
   "cell_type": "markdown",
   "metadata": {},
   "source": [
    "## 4. Исследование метрики AUC-ROC"
   ]
  },
  {
   "cell_type": "markdown",
   "metadata": {},
   "source": [
    "Аuc-roc - метрика качества, значение которой показывает площадь под кривой, а также на сколько наша модель лучше случайной (auc-roc случайной модели = 0,5).\n",
    "Аuc-roc случайного леса = 0,87"
   ]
  },
  {
   "cell_type": "markdown",
   "metadata": {},
   "source": [
    "Построю график 'ROC-кривая'"
   ]
  },
  {
   "cell_type": "code",
   "execution_count": 46,
   "metadata": {},
   "outputs": [
    {
     "data": {
      "image/png": "[encoded data removed]",
      "text/plain": [
       "<Figure size 432x288 with 1 Axes>"
      ]
     },
     "metadata": {
      "needs_background": "light"
     },
     "output_type": "display_data"
    }
   ],
   "source": [
    "plt.figure()\n",
    "plt.plot(fpr_forest,tpr_forest)\n",
    "plt.plot([0, 1], [0, 1], linestyle='--')#ROC-кривая случайной модели\n",
    "\n",
    "plt.xlim([0.0, 1.0])\n",
    "plt.ylim([0.0, 1.0])\n",
    "\n",
    "plt.xlabel('False Positive Rate')\n",
    "plt.ylabel('True Positive Rate')\n",
    "plt.title('ROC-кривая')\n",
    "plt.legend(('Случайный лес', 'Случайная модель'), loc= 'upper left') \n",
    "plt.show()"
   ]
  },
  {
   "cell_type": "markdown",
   "metadata": {},
   "source": [
    "## 5. Вывод"
   ]
  },
  {
   "cell_type": "markdown",
   "metadata": {},
   "source": [
    "В результате исследования были рассмотрены две модели - Случайный лес и логистическая регрессия.\n",
    "\n",
    "При рассмотрении данных с дисбалансом среди моделей Дерево решений и логистическая регрессия, лучшей моделью оказалось Дерево решений F1 мера=0,62, Auc_roc=0,87 на валидационной выборке, у логистической регрессии F1 мера = 0,33, Auc_roc=0,79.\n",
    "\n",
    "При рассмотрении сбалансированных данных на валидационной выборке я получила следующие значения F1 меры:\n",
    "1. Увеличение выборки: \n",
    "Случайный лес(max_depth=19, n_estimators=61) F1 мера=0,650, Auc_roc=0,873\n",
    "Логистическая регрессия F1 мера=0,51,  Auc_roc=0,79\n",
    "2. Уменьшение выборки:\n",
    "Случайный лес(max_depth=19, n_estimators=61) F1 мера=0,39, Auc_roc=0,62\n",
    "Логистическая регрессия F1 мера=0,31, Auc_roc=0,52.\n",
    "3. взвешивание классов\n",
    "Случайный лес(max_depth=19, n_estimators=61) F1 мера=0,648, Auc_roc=0,872\n",
    "Логистическая регрессия F1 мера=0,51,  Auc_roc=0,79.\n",
    "\n",
    "Лучший показатель F1 меры=0,65 у Случайного леса на сбалансированной (увеличением) выборке - выбираем это лучшей моделью для проверик на тестовых данных. \n",
    "\n",
    "Зналение F1 меры у модели Случайный лес = 0,61, Auc_roc=0,87, на тестовой выборке показатель немного хуже, чем на валидационной.\n",
    "\n",
    "Аuc-roc случайного леса = 0,87."
   ]
  }
 ],
 "metadata": {
  "ExecuteTimeLog": [
   {
    "duration": 58,
    "start_time": "2023-03-07T14:16:53.832Z"
   },
   {
    "duration": 2428,
    "start_time": "2023-03-07T14:17:01.458Z"
   },
   {
    "duration": 237,
    "start_time": "2023-03-07T14:17:03.889Z"
   },
   {
    "duration": 21,
    "start_time": "2023-03-07T14:17:04.128Z"
   },
   {
    "duration": 17,
    "start_time": "2023-03-07T14:17:04.151Z"
   },
   {
    "duration": 8,
    "start_time": "2023-03-07T14:17:04.170Z"
   },
   {
    "duration": 5,
    "start_time": "2023-03-07T14:17:04.179Z"
   },
   {
    "duration": 6,
    "start_time": "2023-03-07T14:17:04.186Z"
   },
   {
    "duration": 84,
    "start_time": "2023-03-07T14:17:04.194Z"
   },
   {
    "duration": 8,
    "start_time": "2023-03-07T14:17:04.280Z"
   },
   {
    "duration": 200,
    "start_time": "2023-03-07T14:17:04.290Z"
   },
   {
    "duration": 7,
    "start_time": "2023-03-07T14:17:04.491Z"
   },
   {
    "duration": 167,
    "start_time": "2023-03-07T14:17:04.500Z"
   },
   {
    "duration": 13,
    "start_time": "2023-03-07T14:17:04.670Z"
   },
   {
    "duration": 18,
    "start_time": "2023-03-07T14:17:04.685Z"
   },
   {
    "duration": 3,
    "start_time": "2023-03-07T14:17:04.705Z"
   },
   {
    "duration": 39,
    "start_time": "2023-03-07T14:17:04.710Z"
   },
   {
    "duration": 12,
    "start_time": "2023-03-07T14:17:04.752Z"
   },
   {
    "duration": 5,
    "start_time": "2023-03-07T14:17:04.765Z"
   },
   {
    "duration": 11,
    "start_time": "2023-03-07T14:17:04.771Z"
   },
   {
    "duration": 5,
    "start_time": "2023-03-07T14:17:04.783Z"
   },
   {
    "duration": 8,
    "start_time": "2023-03-07T14:17:04.790Z"
   },
   {
    "duration": 44,
    "start_time": "2023-03-07T14:17:04.800Z"
   },
   {
    "duration": 33,
    "start_time": "2023-03-07T14:17:04.846Z"
   },
   {
    "duration": 11,
    "start_time": "2023-03-07T14:17:04.881Z"
   },
   {
    "duration": 20762,
    "start_time": "2023-03-07T14:17:04.893Z"
   },
   {
    "duration": 485,
    "start_time": "2023-03-07T14:17:25.658Z"
   },
   {
    "duration": 20,
    "start_time": "2023-03-07T14:17:26.152Z"
   },
   {
    "duration": 121,
    "start_time": "2023-03-07T14:17:26.244Z"
   },
   {
    "duration": 5,
    "start_time": "2023-03-07T14:17:26.367Z"
   },
   {
    "duration": 29,
    "start_time": "2023-03-07T14:17:26.374Z"
   },
   {
    "duration": 20,
    "start_time": "2023-03-07T14:17:26.405Z"
   },
   {
    "duration": 43,
    "start_time": "2023-03-07T14:17:26.426Z"
   },
   {
    "duration": 37,
    "start_time": "2023-03-07T14:17:26.471Z"
   },
   {
    "duration": 66,
    "start_time": "2023-03-07T14:17:26.510Z"
   },
   {
    "duration": 18849,
    "start_time": "2023-03-07T14:17:26.578Z"
   },
   {
    "duration": 1015,
    "start_time": "2023-03-07T14:17:45.429Z"
   },
   {
    "duration": 26247,
    "start_time": "2023-03-07T14:17:46.446Z"
   },
   {
    "duration": 251,
    "start_time": "2023-03-07T14:18:12.695Z"
   },
   {
    "duration": 26441,
    "start_time": "2023-03-07T14:18:12.948Z"
   },
   {
    "duration": 80,
    "start_time": "2023-03-07T14:18:39.391Z"
   },
   {
    "duration": 0,
    "start_time": "2023-03-07T14:18:39.473Z"
   },
   {
    "duration": 0,
    "start_time": "2023-03-07T14:18:39.474Z"
   },
   {
    "duration": 24,
    "start_time": "2023-03-07T14:19:05.120Z"
   },
   {
    "duration": 1829,
    "start_time": "2023-03-08T07:53:34.178Z"
   },
   {
    "duration": 193,
    "start_time": "2023-03-08T07:53:36.009Z"
   },
   {
    "duration": 26,
    "start_time": "2023-03-08T07:53:36.203Z"
   },
   {
    "duration": 20,
    "start_time": "2023-03-08T07:53:36.233Z"
   },
   {
    "duration": 9,
    "start_time": "2023-03-08T07:53:36.256Z"
   },
   {
    "duration": 7,
    "start_time": "2023-03-08T07:53:36.268Z"
   },
   {
    "duration": 10,
    "start_time": "2023-03-08T07:53:36.277Z"
   },
   {
    "duration": 76,
    "start_time": "2023-03-08T07:53:36.289Z"
   },
   {
    "duration": 8,
    "start_time": "2023-03-08T07:53:36.367Z"
   },
   {
    "duration": 219,
    "start_time": "2023-03-08T07:53:36.377Z"
   },
   {
    "duration": 3,
    "start_time": "2023-03-08T07:53:36.597Z"
   },
   {
    "duration": 17,
    "start_time": "2023-03-08T07:53:36.602Z"
   },
   {
    "duration": 251,
    "start_time": "2023-03-08T07:53:36.630Z"
   },
   {
    "duration": 14,
    "start_time": "2023-03-08T07:53:36.885Z"
   },
   {
    "duration": 47,
    "start_time": "2023-03-08T07:53:36.901Z"
   },
   {
    "duration": 1392,
    "start_time": "2023-03-08T07:53:36.951Z"
   },
   {
    "duration": 7,
    "start_time": "2023-03-08T07:53:38.345Z"
   },
   {
    "duration": 30,
    "start_time": "2023-03-08T07:53:38.354Z"
   },
   {
    "duration": 12,
    "start_time": "2023-03-08T07:53:38.386Z"
   },
   {
    "duration": 10,
    "start_time": "2023-03-08T07:53:38.399Z"
   },
   {
    "duration": 12,
    "start_time": "2023-03-08T07:53:38.411Z"
   },
   {
    "duration": 28,
    "start_time": "2023-03-08T07:53:38.424Z"
   },
   {
    "duration": 15,
    "start_time": "2023-03-08T07:53:38.454Z"
   },
   {
    "duration": 12,
    "start_time": "2023-03-08T07:53:38.471Z"
   },
   {
    "duration": 53,
    "start_time": "2023-03-08T07:53:38.485Z"
   },
   {
    "duration": 12,
    "start_time": "2023-03-08T07:53:38.546Z"
   },
   {
    "duration": 22396,
    "start_time": "2023-03-08T07:53:38.560Z"
   },
   {
    "duration": 394,
    "start_time": "2023-03-08T07:54:00.958Z"
   },
   {
    "duration": 184,
    "start_time": "2023-03-08T07:54:01.354Z"
   },
   {
    "duration": 104,
    "start_time": "2023-03-08T07:54:01.540Z"
   },
   {
    "duration": 4,
    "start_time": "2023-03-08T07:54:01.648Z"
   },
   {
    "duration": 29,
    "start_time": "2023-03-08T07:54:01.654Z"
   },
   {
    "duration": 9,
    "start_time": "2023-03-08T07:54:01.685Z"
   },
   {
    "duration": 29455,
    "start_time": "2023-03-08T07:54:01.697Z"
   },
   {
    "duration": 783,
    "start_time": "2023-03-08T07:54:31.154Z"
   },
   {
    "duration": 8,
    "start_time": "2023-03-08T07:54:31.940Z"
   },
   {
    "duration": 148,
    "start_time": "2023-03-08T07:54:31.955Z"
   },
   {
    "duration": 9,
    "start_time": "2023-03-08T07:54:32.105Z"
   },
   {
    "duration": 19824,
    "start_time": "2023-03-08T07:54:32.116Z"
   },
   {
    "duration": 688,
    "start_time": "2023-03-08T07:54:51.949Z"
   },
   {
    "duration": 23038,
    "start_time": "2023-03-08T07:54:52.647Z"
   },
   {
    "duration": 450,
    "start_time": "2023-03-08T07:55:15.687Z"
   },
   {
    "duration": 30270,
    "start_time": "2023-03-08T07:55:16.147Z"
   },
   {
    "duration": 2,
    "start_time": "2023-03-08T07:55:46.419Z"
   },
   {
    "duration": 18,
    "start_time": "2023-03-08T07:55:46.431Z"
   },
   {
    "duration": 197,
    "start_time": "2023-03-08T07:55:46.451Z"
   }
  ],
  "kernelspec": {
   "display_name": "Python 3 (ipykernel)",
   "language": "python",
   "name": "python3"
  },
  "language_info": {
   "codemirror_mode": {
    "name": "ipython",
    "version": 3
   },
   "file_extension": ".py",
   "mimetype": "text/x-python",
   "name": "python",
   "nbconvert_exporter": "python",
   "pygments_lexer": "ipython3",
   "version": "3.9.15"
  },
  "toc": {
   "base_numbering": 1,
   "nav_menu": {},
   "number_sections": true,
   "sideBar": true,
   "skip_h1_title": true,
   "title_cell": "Содержание",
   "title_sidebar": "Contents",
   "toc_cell": true,
   "toc_position": {
    "height": "calc(100% - 180px)",
    "left": "10px",
    "top": "150px",
    "width": "165.225px"
   },
   "toc_section_display": true,
   "toc_window_display": true
  }
 },
 "nbformat": 4,
 "nbformat_minor": 2
}
