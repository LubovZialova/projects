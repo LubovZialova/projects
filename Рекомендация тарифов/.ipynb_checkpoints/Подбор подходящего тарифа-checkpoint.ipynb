{
 "cells": [
  {
   "cell_type": "markdown",
   "metadata": {},
   "source": [
    "# Рекомендация тарифов"
   ]
  },
  {
   "cell_type": "markdown",
   "metadata": {},
   "source": [
    "Оператор мобильной связи \"Мегалайн\" хотят проанализировать поведение клиентов и предложить пользователям с архивными тарифами новый тариф: «Смарт» или «Ультра». В нашем распоряжении данные о поведении клиентов, которые уже перешли на эти тарифы.\n",
    "    \n",
    "    \n",
    "Цель исследования: построить модель, способную проанализировать поведение клиентов и предложить пользователям новый тариф: «Смарт» или «Ультра». \n",
    "    \n",
    "Задачи:\n",
    "1. Изучить исходные данные\n",
    "2. Разбить данные на выборки\n",
    "3. Определить какую задачу будем решать: с учителем / без учителя, классификации / регрессии и тд\n",
    "4. Выбрать подходящие модели, настроить гиперпараметры и исследовать модели на валидационной выборке\n",
    "5. Определить лучшую модель и проверить ее на тестовой выборке\n",
    "6. Сделать вывод по исследованию лучшей модели\n",
    "\n"
   ]
  },
  {
   "cell_type": "code",
   "execution_count": 1,
   "metadata": {},
   "outputs": [],
   "source": [
    "import pandas as pd\n",
    "import numpy as np\n",
    "\n",
    "from sklearn.dummy import DummyClassifier\n",
    "from sklearn.tree import DecisionTreeClassifier\n",
    "from sklearn.metrics import accuracy_score \n",
    "from sklearn.model_selection import train_test_split\n",
    "from sklearn.ensemble import RandomForestClassifier#случайный лес\n",
    "from sklearn.linear_model import LogisticRegression#логистическая регрессия \n"
   ]
  },
  {
   "cell_type": "markdown",
   "metadata": {},
   "source": [
    "# Откройте и изучите файл"
   ]
  },
  {
   "cell_type": "code",
   "execution_count": 2,
   "metadata": {},
   "outputs": [],
   "source": [
    "data = pd.read_csv('C:/Users/Lubov/jupyter/ds/users_behavior.csv')"
   ]
  },
  {
   "cell_type": "code",
   "execution_count": 3,
   "metadata": {},
   "outputs": [
    {
     "data": {
      "text/html": [
       "<div>\n",
       "<style scoped>\n",
       "    .dataframe tbody tr th:only-of-type {\n",
       "        vertical-align: middle;\n",
       "    }\n",
       "\n",
       "    .dataframe tbody tr th {\n",
       "        vertical-align: top;\n",
       "    }\n",
       "\n",
       "    .dataframe thead th {\n",
       "        text-align: right;\n",
       "    }\n",
       "</style>\n",
       "<table border=\"1\" class=\"dataframe\">\n",
       "  <thead>\n",
       "    <tr style=\"text-align: right;\">\n",
       "      <th></th>\n",
       "      <th>calls</th>\n",
       "      <th>minutes</th>\n",
       "      <th>messages</th>\n",
       "      <th>mb_used</th>\n",
       "      <th>is_ultra</th>\n",
       "    </tr>\n",
       "  </thead>\n",
       "  <tbody>\n",
       "    <tr>\n",
       "      <th>0</th>\n",
       "      <td>40.0</td>\n",
       "      <td>311.90</td>\n",
       "      <td>83.0</td>\n",
       "      <td>19915.42</td>\n",
       "      <td>0</td>\n",
       "    </tr>\n",
       "    <tr>\n",
       "      <th>1</th>\n",
       "      <td>85.0</td>\n",
       "      <td>516.75</td>\n",
       "      <td>56.0</td>\n",
       "      <td>22696.96</td>\n",
       "      <td>0</td>\n",
       "    </tr>\n",
       "    <tr>\n",
       "      <th>2</th>\n",
       "      <td>77.0</td>\n",
       "      <td>467.66</td>\n",
       "      <td>86.0</td>\n",
       "      <td>21060.45</td>\n",
       "      <td>0</td>\n",
       "    </tr>\n",
       "    <tr>\n",
       "      <th>3</th>\n",
       "      <td>106.0</td>\n",
       "      <td>745.53</td>\n",
       "      <td>81.0</td>\n",
       "      <td>8437.39</td>\n",
       "      <td>1</td>\n",
       "    </tr>\n",
       "    <tr>\n",
       "      <th>4</th>\n",
       "      <td>66.0</td>\n",
       "      <td>418.74</td>\n",
       "      <td>1.0</td>\n",
       "      <td>14502.75</td>\n",
       "      <td>0</td>\n",
       "    </tr>\n",
       "  </tbody>\n",
       "</table>\n",
       "</div>"
      ],
      "text/plain": [
       "   calls  minutes  messages   mb_used  is_ultra\n",
       "0   40.0   311.90      83.0  19915.42         0\n",
       "1   85.0   516.75      56.0  22696.96         0\n",
       "2   77.0   467.66      86.0  21060.45         0\n",
       "3  106.0   745.53      81.0   8437.39         1\n",
       "4   66.0   418.74       1.0  14502.75         0"
      ]
     },
     "execution_count": 3,
     "metadata": {},
     "output_type": "execute_result"
    }
   ],
   "source": [
    "data.head()"
   ]
  },
  {
   "cell_type": "code",
   "execution_count": 4,
   "metadata": {},
   "outputs": [
    {
     "name": "stdout",
     "output_type": "stream",
     "text": [
      "<class 'pandas.core.frame.DataFrame'>\n",
      "RangeIndex: 3214 entries, 0 to 3213\n",
      "Data columns (total 5 columns):\n",
      " #   Column    Non-Null Count  Dtype  \n",
      "---  ------    --------------  -----  \n",
      " 0   calls     3214 non-null   float64\n",
      " 1   minutes   3214 non-null   float64\n",
      " 2   messages  3214 non-null   float64\n",
      " 3   mb_used   3214 non-null   float64\n",
      " 4   is_ultra  3214 non-null   int64  \n",
      "dtypes: float64(4), int64(1)\n",
      "memory usage: 125.7 KB\n"
     ]
    }
   ],
   "source": [
    "data.info()"
   ]
  },
  {
   "cell_type": "code",
   "execution_count": 5,
   "metadata": {},
   "outputs": [
    {
     "data": {
      "text/html": [
       "<div>\n",
       "<style scoped>\n",
       "    .dataframe tbody tr th:only-of-type {\n",
       "        vertical-align: middle;\n",
       "    }\n",
       "\n",
       "    .dataframe tbody tr th {\n",
       "        vertical-align: top;\n",
       "    }\n",
       "\n",
       "    .dataframe thead th {\n",
       "        text-align: right;\n",
       "    }\n",
       "</style>\n",
       "<table border=\"1\" class=\"dataframe\">\n",
       "  <thead>\n",
       "    <tr style=\"text-align: right;\">\n",
       "      <th></th>\n",
       "      <th>calls</th>\n",
       "      <th>minutes</th>\n",
       "      <th>messages</th>\n",
       "      <th>mb_used</th>\n",
       "      <th>is_ultra</th>\n",
       "    </tr>\n",
       "  </thead>\n",
       "  <tbody>\n",
       "    <tr>\n",
       "      <th>count</th>\n",
       "      <td>3214.000000</td>\n",
       "      <td>3214.000000</td>\n",
       "      <td>3214.000000</td>\n",
       "      <td>3214.000000</td>\n",
       "      <td>3214.000000</td>\n",
       "    </tr>\n",
       "    <tr>\n",
       "      <th>mean</th>\n",
       "      <td>63.038892</td>\n",
       "      <td>438.208787</td>\n",
       "      <td>38.281269</td>\n",
       "      <td>17207.673836</td>\n",
       "      <td>0.306472</td>\n",
       "    </tr>\n",
       "    <tr>\n",
       "      <th>std</th>\n",
       "      <td>33.236368</td>\n",
       "      <td>234.569872</td>\n",
       "      <td>36.148326</td>\n",
       "      <td>7570.968246</td>\n",
       "      <td>0.461100</td>\n",
       "    </tr>\n",
       "    <tr>\n",
       "      <th>min</th>\n",
       "      <td>0.000000</td>\n",
       "      <td>0.000000</td>\n",
       "      <td>0.000000</td>\n",
       "      <td>0.000000</td>\n",
       "      <td>0.000000</td>\n",
       "    </tr>\n",
       "    <tr>\n",
       "      <th>25%</th>\n",
       "      <td>40.000000</td>\n",
       "      <td>274.575000</td>\n",
       "      <td>9.000000</td>\n",
       "      <td>12491.902500</td>\n",
       "      <td>0.000000</td>\n",
       "    </tr>\n",
       "    <tr>\n",
       "      <th>50%</th>\n",
       "      <td>62.000000</td>\n",
       "      <td>430.600000</td>\n",
       "      <td>30.000000</td>\n",
       "      <td>16943.235000</td>\n",
       "      <td>0.000000</td>\n",
       "    </tr>\n",
       "    <tr>\n",
       "      <th>75%</th>\n",
       "      <td>82.000000</td>\n",
       "      <td>571.927500</td>\n",
       "      <td>57.000000</td>\n",
       "      <td>21424.700000</td>\n",
       "      <td>1.000000</td>\n",
       "    </tr>\n",
       "    <tr>\n",
       "      <th>max</th>\n",
       "      <td>244.000000</td>\n",
       "      <td>1632.060000</td>\n",
       "      <td>224.000000</td>\n",
       "      <td>49745.730000</td>\n",
       "      <td>1.000000</td>\n",
       "    </tr>\n",
       "  </tbody>\n",
       "</table>\n",
       "</div>"
      ],
      "text/plain": [
       "             calls      minutes     messages       mb_used     is_ultra\n",
       "count  3214.000000  3214.000000  3214.000000   3214.000000  3214.000000\n",
       "mean     63.038892   438.208787    38.281269  17207.673836     0.306472\n",
       "std      33.236368   234.569872    36.148326   7570.968246     0.461100\n",
       "min       0.000000     0.000000     0.000000      0.000000     0.000000\n",
       "25%      40.000000   274.575000     9.000000  12491.902500     0.000000\n",
       "50%      62.000000   430.600000    30.000000  16943.235000     0.000000\n",
       "75%      82.000000   571.927500    57.000000  21424.700000     1.000000\n",
       "max     244.000000  1632.060000   224.000000  49745.730000     1.000000"
      ]
     },
     "execution_count": 5,
     "metadata": {},
     "output_type": "execute_result"
    }
   ],
   "source": [
    "data.describe()"
   ]
  },
  {
   "cell_type": "code",
   "execution_count": 6,
   "metadata": {},
   "outputs": [
    {
     "name": "stdout",
     "output_type": "stream",
     "text": [
      "<class 'pandas.core.frame.DataFrame'>\n",
      "RangeIndex: 3214 entries, 0 to 3213\n",
      "Data columns (total 5 columns):\n",
      " #   Column    Non-Null Count  Dtype  \n",
      "---  ------    --------------  -----  \n",
      " 0   calls     3214 non-null   int32  \n",
      " 1   minutes   3214 non-null   float64\n",
      " 2   messages  3214 non-null   int32  \n",
      " 3   mb_used   3214 non-null   float64\n",
      " 4   is_ultra  3214 non-null   int64  \n",
      "dtypes: float64(2), int32(2), int64(1)\n",
      "memory usage: 100.6 KB\n"
     ]
    }
   ],
   "source": [
    "data['calls'] = data['calls'].astype(int)#так как число звонков и сообщений целые числа, поменяю тип столбцов\n",
    "data['messages'] = data['messages'].astype(int)\n",
    "data.info()"
   ]
  },
  {
   "cell_type": "code",
   "execution_count": 6,
   "metadata": {},
   "outputs": [
    {
     "data": {
      "text/plain": [
       "calls       0\n",
       "minutes     0\n",
       "messages    0\n",
       "mb_used     0\n",
       "is_ultra    0\n",
       "dtype: int64"
      ]
     },
     "execution_count": 6,
     "metadata": {},
     "output_type": "execute_result"
    }
   ],
   "source": [
    "data.isna().sum()#посмотрю наличие пропусков"
   ]
  },
  {
   "cell_type": "code",
   "execution_count": 7,
   "metadata": {},
   "outputs": [
    {
     "data": {
      "text/plain": [
       "0"
      ]
     },
     "execution_count": 7,
     "metadata": {},
     "output_type": "execute_result"
    }
   ],
   "source": [
    "data.duplicated().sum()#проверю на полные дупликаты"
   ]
  },
  {
   "cell_type": "markdown",
   "metadata": {},
   "source": [
    "# Разбейте данные на выборки"
   ]
  },
  {
   "cell_type": "markdown",
   "metadata": {},
   "source": [
    "Так как я буду рассматривать модель линейной регрессии нужно избежать мультиколлинеарности (возникает, когда одна независимая переменная в регрессионной модели линейно коррелирует с другой независимой переменной).\n",
    "\n",
    "Для этого создам матрицу корреляции"
   ]
  },
  {
   "cell_type": "code",
   "execution_count": 7,
   "metadata": {},
   "outputs": [
    {
     "data": {
      "text/html": [
       "<div>\n",
       "<style scoped>\n",
       "    .dataframe tbody tr th:only-of-type {\n",
       "        vertical-align: middle;\n",
       "    }\n",
       "\n",
       "    .dataframe tbody tr th {\n",
       "        vertical-align: top;\n",
       "    }\n",
       "\n",
       "    .dataframe thead th {\n",
       "        text-align: right;\n",
       "    }\n",
       "</style>\n",
       "<table border=\"1\" class=\"dataframe\">\n",
       "  <thead>\n",
       "    <tr style=\"text-align: right;\">\n",
       "      <th></th>\n",
       "      <th>calls</th>\n",
       "      <th>minutes</th>\n",
       "      <th>messages</th>\n",
       "      <th>mb_used</th>\n",
       "      <th>is_ultra</th>\n",
       "    </tr>\n",
       "  </thead>\n",
       "  <tbody>\n",
       "    <tr>\n",
       "      <th>calls</th>\n",
       "      <td>1.000000</td>\n",
       "      <td>0.982083</td>\n",
       "      <td>0.177385</td>\n",
       "      <td>0.286442</td>\n",
       "      <td>0.207122</td>\n",
       "    </tr>\n",
       "    <tr>\n",
       "      <th>minutes</th>\n",
       "      <td>0.982083</td>\n",
       "      <td>1.000000</td>\n",
       "      <td>0.173110</td>\n",
       "      <td>0.280967</td>\n",
       "      <td>0.206955</td>\n",
       "    </tr>\n",
       "    <tr>\n",
       "      <th>messages</th>\n",
       "      <td>0.177385</td>\n",
       "      <td>0.173110</td>\n",
       "      <td>1.000000</td>\n",
       "      <td>0.195721</td>\n",
       "      <td>0.203830</td>\n",
       "    </tr>\n",
       "    <tr>\n",
       "      <th>mb_used</th>\n",
       "      <td>0.286442</td>\n",
       "      <td>0.280967</td>\n",
       "      <td>0.195721</td>\n",
       "      <td>1.000000</td>\n",
       "      <td>0.198568</td>\n",
       "    </tr>\n",
       "    <tr>\n",
       "      <th>is_ultra</th>\n",
       "      <td>0.207122</td>\n",
       "      <td>0.206955</td>\n",
       "      <td>0.203830</td>\n",
       "      <td>0.198568</td>\n",
       "      <td>1.000000</td>\n",
       "    </tr>\n",
       "  </tbody>\n",
       "</table>\n",
       "</div>"
      ],
      "text/plain": [
       "             calls   minutes  messages   mb_used  is_ultra\n",
       "calls     1.000000  0.982083  0.177385  0.286442  0.207122\n",
       "minutes   0.982083  1.000000  0.173110  0.280967  0.206955\n",
       "messages  0.177385  0.173110  1.000000  0.195721  0.203830\n",
       "mb_used   0.286442  0.280967  0.195721  1.000000  0.198568\n",
       "is_ultra  0.207122  0.206955  0.203830  0.198568  1.000000"
      ]
     },
     "execution_count": 7,
     "metadata": {},
     "output_type": "execute_result"
    }
   ],
   "source": [
    "data.corr()"
   ]
  },
  {
   "cell_type": "markdown",
   "metadata": {},
   "source": [
    "Получается между звонками и минутами связь очень сильная, поэтому для избежания мультиколлинеальности не буду использовать столбец минуты, между остальными параметрами связь очень слабая, это хорошо."
   ]
  },
  {
   "cell_type": "markdown",
   "metadata": {},
   "source": [
    "Объявлю две переменные: features  —  признаки и target  — целевой признак."
   ]
  },
  {
   "cell_type": "code",
   "execution_count": 12,
   "metadata": {},
   "outputs": [],
   "source": [
    "features = data.drop(['is_ultra', 'minutes'],axis=1)\n",
    "target = data['is_ultra']"
   ]
  },
  {
   "cell_type": "markdown",
   "metadata": {},
   "source": [
    "Разделю набор данных на обучающую (train) и валидационную (valid) выборки. В валидационной выборке — 40% исходных данных. В random_state значение 12345, stratify=target чтобы сохранить соотношение классов при разбиении."
   ]
  },
  {
   "cell_type": "code",
   "execution_count": 13,
   "metadata": {},
   "outputs": [],
   "source": [
    "features_train, features_valid, target_train, target_valid = train_test_split(features, target, test_size=0.4,random_state=12345, stratify=target)"
   ]
  },
  {
   "cell_type": "markdown",
   "metadata": {},
   "source": [
    "Разделю валидационную выборку на валидационную и тестову. В валидационной выборке — 50% валидационных данных. В random_state  значение 12345, stratify=target чтобы сохранить соотношение классов при разбиении. \n",
    "В итоге получается соотношение тренировочные/валидационные/тестовые=60/20/20"
   ]
  },
  {
   "cell_type": "code",
   "execution_count": 14,
   "metadata": {},
   "outputs": [],
   "source": [
    "features_valid, features_test, target_valid, target_test = train_test_split(features_valid, target_valid, test_size=0.5,random_state=12345, stratify=target_valid)"
   ]
  },
  {
   "cell_type": "code",
   "execution_count": 15,
   "metadata": {},
   "outputs": [
    {
     "data": {
      "text/plain": [
       "(1928, 3)"
      ]
     },
     "execution_count": 15,
     "metadata": {},
     "output_type": "execute_result"
    }
   ],
   "source": [
    "features_train.shape"
   ]
  },
  {
   "cell_type": "code",
   "execution_count": 16,
   "metadata": {},
   "outputs": [
    {
     "data": {
      "text/plain": [
       "(643, 3)"
      ]
     },
     "execution_count": 16,
     "metadata": {},
     "output_type": "execute_result"
    }
   ],
   "source": [
    "features_valid.shape"
   ]
  },
  {
   "cell_type": "code",
   "execution_count": 17,
   "metadata": {},
   "outputs": [
    {
     "data": {
      "text/plain": [
       "(1928,)"
      ]
     },
     "execution_count": 17,
     "metadata": {},
     "output_type": "execute_result"
    }
   ],
   "source": [
    "target_train.shape"
   ]
  },
  {
   "cell_type": "code",
   "execution_count": 18,
   "metadata": {},
   "outputs": [
    {
     "data": {
      "text/plain": [
       "(643,)"
      ]
     },
     "execution_count": 18,
     "metadata": {},
     "output_type": "execute_result"
    }
   ],
   "source": [
    "target_valid.shape"
   ]
  },
  {
   "cell_type": "code",
   "execution_count": 19,
   "metadata": {},
   "outputs": [
    {
     "data": {
      "text/plain": [
       "(643, 3)"
      ]
     },
     "execution_count": 19,
     "metadata": {},
     "output_type": "execute_result"
    }
   ],
   "source": [
    "features_test.shape "
   ]
  },
  {
   "cell_type": "code",
   "execution_count": 20,
   "metadata": {},
   "outputs": [
    {
     "data": {
      "text/plain": [
       "(643,)"
      ]
     },
     "execution_count": 20,
     "metadata": {},
     "output_type": "execute_result"
    }
   ],
   "source": [
    "target_test.shape"
   ]
  },
  {
   "cell_type": "markdown",
   "metadata": {},
   "source": [
    "# Исследуйте модели"
   ]
  },
  {
   "cell_type": "markdown",
   "metadata": {},
   "source": [
    "Рассмотрю первую модель - дерево решений.\n",
    "Попробую разные значения максимальной глубины, max_depth."
   ]
  },
  {
   "cell_type": "code",
   "execution_count": 21,
   "metadata": {},
   "outputs": [
    {
     "name": "stdout",
     "output_type": "stream",
     "text": [
      "Accuracy лучшей модели: 0.7900466562986003\n",
      "Лучшая глубина: 8\n"
     ]
    }
   ],
   "source": [
    "best_model = None\n",
    "best_result = 0\n",
    "best_depth = 1\n",
    "for depth in range(1, 81):\n",
    "\tmodel = DecisionTreeClassifier(random_state=12345, max_depth=depth) \n",
    "\tmodel.fit(features_train, target_train) \n",
    "\tresult = model.score(features_valid, target_valid)\n",
    "\tif result > best_result:\n",
    "\t\tbest_model = model\n",
    "\t\tbest_result = result\n",
    "\t\tbest_depth = depth\n",
    "        \n",
    "print(\"Accuracy лучшей модели:\", best_result)\n",
    "print(\"Лучшая глубина:\", best_depth)"
   ]
  },
  {
   "cell_type": "markdown",
   "metadata": {},
   "source": [
    "Рассмотрю вторую модель - Случайный лес (Random Forest).\n",
    "Попробую разные значения количества деревьев и мин.кол-во выборок, которые должен содержать внутренний узел для разделения на другие узлы."
   ]
  },
  {
   "cell_type": "code",
   "execution_count": 22,
   "metadata": {},
   "outputs": [
    {
     "name": "stdout",
     "output_type": "stream",
     "text": [
      "Accuracy наилучшей модели: 0.8102643856920684\n",
      "Лучшее количество: 40\n",
      "Мин.кол-во выборок, которые должен содержать внутренний узел для разделения на другие узлы: 5\n"
     ]
    }
   ],
   "source": [
    "best_model = None\n",
    "best_result = 0\n",
    "for est in range(1, 51):\n",
    "    for m in range(2, 7):\n",
    "        model = RandomForestClassifier(random_state=12345, n_estimators=est, min_samples_split=m) \n",
    "        model.fit(features_train, target_train)#обучу модель на тренировочной выборке\n",
    "        result = model.score(features_valid, target_valid)#посчитаю качество модели на валидационной выборке\n",
    "        if result > best_result:\n",
    "            best_model = model\n",
    "            best_result = result\n",
    "            best_est = est\n",
    "            best_m = m\n",
    "\n",
    "print(\"Accuracy наилучшей модели:\", best_result)\n",
    "print(\"Лучшее количество:\", best_est)\n",
    "print(\"Мин.кол-во выборок, которые должен содержать внутренний узел для разделения на другие узлы:\", best_m)"
   ]
  },
  {
   "cell_type": "markdown",
   "metadata": {},
   "source": [
    "Рассмотрю третью модель - Логистическая регрессия."
   ]
  },
  {
   "cell_type": "code",
   "execution_count": 23,
   "metadata": {},
   "outputs": [
    {
     "name": "stdout",
     "output_type": "stream",
     "text": [
      "Accuracy модели: 0.7402799377916018\n"
     ]
    }
   ],
   "source": [
    "model = LogisticRegression(random_state=12345, solver='lbfgs', max_iter=1000)\n",
    "model.fit(features_train, target_train)\n",
    "result = model.score(features_valid, target_valid)\n",
    "print(\"Accuracy модели:\", result)"
   ]
  },
  {
   "cell_type": "markdown",
   "metadata": {},
   "source": [
    "На остновании трех моделей можно сделать вывод, что лучшие результаты у модели случайного леса (Random Forest)."
   ]
  },
  {
   "cell_type": "markdown",
   "metadata": {},
   "source": [
    "# Проверка модели на тестовой выборке"
   ]
  },
  {
   "cell_type": "markdown",
   "metadata": {},
   "source": [
    "Посчитаю правильность лучшей модели (Random Forest) на тестовой выборке."
   ]
  },
  {
   "cell_type": "code",
   "execution_count": 24,
   "metadata": {},
   "outputs": [
    {
     "name": "stdout",
     "output_type": "stream",
     "text": [
      "Accuracy модели случайный лес: 0.8118195956454122\n"
     ]
    }
   ],
   "source": [
    "model = RandomForestClassifier(random_state=12345, n_estimators=best_est, min_samples_split=best_m) \n",
    "model.fit(features_train, target_train)#обучу модель на тренировочной выборке \n",
    "result2 = model.score(features_test, target_test)#посчитаю качество модели на тестовой выборке\n",
    "print(\"Accuracy модели случайный лес:\", result2)"
   ]
  },
  {
   "cell_type": "markdown",
   "metadata": {},
   "source": [
    "# Проверка модели на адекватность"
   ]
  },
  {
   "cell_type": "code",
   "execution_count": 26,
   "metadata": {},
   "outputs": [
    {
     "name": "stdout",
     "output_type": "stream",
     "text": [
      "Accuracy модели DummyClassifier: 0.6936236391912908\n"
     ]
    }
   ],
   "source": [
    "dummy_clf = DummyClassifier(strategy=\"most_frequent\")\n",
    "dummy_clf.fit(features_train, target_train)\n",
    "print(\"Accuracy модели DummyClassifier:\",dummy_clf.score(features_test, target_test))"
   ]
  },
  {
   "cell_type": "markdown",
   "metadata": {},
   "source": [
    "Это говорит о том, что модель выдает более высокое качество, нежели Dummy модель."
   ]
  },
  {
   "cell_type": "markdown",
   "metadata": {},
   "source": [
    "# Вывод\n",
    "Лучшие предсказания делает случайный лес (Random Forest), так как самая высокая точность предсказания Accuracy=0.81."
   ]
  }
 ],
 "metadata": {
  "ExecuteTimeLog": [
   {
    "duration": 1100,
    "start_time": "2023-02-20T11:51:43.005Z"
   },
   {
    "duration": 127,
    "start_time": "2023-02-20T11:51:44.107Z"
   },
   {
    "duration": 17,
    "start_time": "2023-02-20T11:51:44.235Z"
   },
   {
    "duration": 21,
    "start_time": "2023-02-20T11:51:44.255Z"
   },
   {
    "duration": 24,
    "start_time": "2023-02-20T11:51:44.278Z"
   },
   {
    "duration": 24,
    "start_time": "2023-02-20T11:51:44.303Z"
   },
   {
    "duration": 19,
    "start_time": "2023-02-20T11:51:44.329Z"
   },
   {
    "duration": 11,
    "start_time": "2023-02-20T11:51:44.350Z"
   },
   {
    "duration": 15,
    "start_time": "2023-02-20T11:51:44.363Z"
   },
   {
    "duration": 16,
    "start_time": "2023-02-20T11:51:44.382Z"
   },
   {
    "duration": 13,
    "start_time": "2023-02-20T11:51:44.400Z"
   },
   {
    "duration": 15,
    "start_time": "2023-02-20T11:51:44.414Z"
   },
   {
    "duration": 15,
    "start_time": "2023-02-20T11:51:44.431Z"
   },
   {
    "duration": 7,
    "start_time": "2023-02-20T11:51:44.448Z"
   },
   {
    "duration": 680,
    "start_time": "2023-02-20T11:51:44.457Z"
   },
   {
    "duration": 19542,
    "start_time": "2023-02-20T11:51:45.139Z"
   },
   {
    "duration": 868,
    "start_time": "2023-02-20T11:52:04.682Z"
   },
   {
    "duration": 606,
    "start_time": "2023-02-20T11:52:05.552Z"
   },
   {
    "duration": 3,
    "start_time": "2023-02-20T11:57:23.966Z"
   },
   {
    "duration": 86,
    "start_time": "2023-02-20T11:57:23.970Z"
   },
   {
    "duration": 9,
    "start_time": "2023-02-20T11:57:24.059Z"
   },
   {
    "duration": 19,
    "start_time": "2023-02-20T11:57:24.070Z"
   },
   {
    "duration": 15,
    "start_time": "2023-02-20T11:57:24.090Z"
   },
   {
    "duration": 8,
    "start_time": "2023-02-20T11:57:24.107Z"
   },
   {
    "duration": 12,
    "start_time": "2023-02-20T11:57:24.117Z"
   },
   {
    "duration": 22,
    "start_time": "2023-02-20T11:57:24.130Z"
   },
   {
    "duration": 24,
    "start_time": "2023-02-20T11:57:24.155Z"
   },
   {
    "duration": 8,
    "start_time": "2023-02-20T11:57:24.181Z"
   },
   {
    "duration": 9,
    "start_time": "2023-02-20T11:57:24.191Z"
   },
   {
    "duration": 6,
    "start_time": "2023-02-20T11:57:24.202Z"
   },
   {
    "duration": 11,
    "start_time": "2023-02-20T11:57:24.210Z"
   },
   {
    "duration": 6,
    "start_time": "2023-02-20T11:57:24.223Z"
   },
   {
    "duration": 650,
    "start_time": "2023-02-20T11:57:24.248Z"
   },
   {
    "duration": 18307,
    "start_time": "2023-02-20T11:57:24.900Z"
   },
   {
    "duration": 19639,
    "start_time": "2023-02-20T11:57:50.325Z"
   },
   {
    "duration": 1129,
    "start_time": "2023-02-20T19:46:18.731Z"
   },
   {
    "duration": 160,
    "start_time": "2023-02-20T19:46:19.862Z"
   },
   {
    "duration": 17,
    "start_time": "2023-02-20T19:46:20.024Z"
   },
   {
    "duration": 17,
    "start_time": "2023-02-20T19:46:20.043Z"
   },
   {
    "duration": 16,
    "start_time": "2023-02-20T19:46:20.063Z"
   },
   {
    "duration": 7,
    "start_time": "2023-02-20T19:46:20.081Z"
   },
   {
    "duration": 21,
    "start_time": "2023-02-20T19:46:20.090Z"
   },
   {
    "duration": 9,
    "start_time": "2023-02-20T19:46:20.113Z"
   },
   {
    "duration": 5,
    "start_time": "2023-02-20T19:46:20.124Z"
   },
   {
    "duration": 7,
    "start_time": "2023-02-20T19:46:20.131Z"
   },
   {
    "duration": 6,
    "start_time": "2023-02-20T19:46:20.140Z"
   },
   {
    "duration": 13,
    "start_time": "2023-02-20T19:46:20.148Z"
   },
   {
    "duration": 8,
    "start_time": "2023-02-20T19:46:20.163Z"
   },
   {
    "duration": 6,
    "start_time": "2023-02-20T19:46:20.174Z"
   },
   {
    "duration": 5,
    "start_time": "2023-02-20T19:46:20.203Z"
   },
   {
    "duration": 10,
    "start_time": "2023-02-20T19:46:20.209Z"
   },
   {
    "duration": 6,
    "start_time": "2023-02-20T19:46:20.220Z"
   },
   {
    "duration": 6,
    "start_time": "2023-02-20T19:46:20.227Z"
   },
   {
    "duration": 7,
    "start_time": "2023-02-20T19:46:20.235Z"
   },
   {
    "duration": 5,
    "start_time": "2023-02-20T19:46:20.243Z"
   },
   {
    "duration": 627,
    "start_time": "2023-02-20T19:46:20.249Z"
   },
   {
    "duration": 17655,
    "start_time": "2023-02-20T19:46:20.878Z"
   },
   {
    "duration": 30,
    "start_time": "2023-02-20T19:46:38.535Z"
   },
   {
    "duration": 124,
    "start_time": "2023-02-20T19:46:38.567Z"
   },
   {
    "duration": 11,
    "start_time": "2023-02-20T19:46:38.692Z"
   },
   {
    "duration": 1226,
    "start_time": "2023-02-21T06:15:01.207Z"
   },
   {
    "duration": 160,
    "start_time": "2023-02-21T06:15:02.436Z"
   },
   {
    "duration": 19,
    "start_time": "2023-02-21T06:15:02.598Z"
   },
   {
    "duration": 13,
    "start_time": "2023-02-21T06:15:02.619Z"
   },
   {
    "duration": 21,
    "start_time": "2023-02-21T06:15:02.634Z"
   },
   {
    "duration": 12,
    "start_time": "2023-02-21T06:15:02.657Z"
   },
   {
    "duration": 25,
    "start_time": "2023-02-21T06:15:02.671Z"
   },
   {
    "duration": 9,
    "start_time": "2023-02-21T06:15:02.698Z"
   },
   {
    "duration": 11,
    "start_time": "2023-02-21T06:15:02.708Z"
   },
   {
    "duration": 6,
    "start_time": "2023-02-21T06:15:02.722Z"
   },
   {
    "duration": 10,
    "start_time": "2023-02-21T06:15:02.729Z"
   },
   {
    "duration": 25,
    "start_time": "2023-02-21T06:15:02.741Z"
   },
   {
    "duration": 13,
    "start_time": "2023-02-21T06:15:02.768Z"
   },
   {
    "duration": 21,
    "start_time": "2023-02-21T06:15:02.783Z"
   },
   {
    "duration": 30,
    "start_time": "2023-02-21T06:15:02.806Z"
   },
   {
    "duration": 14,
    "start_time": "2023-02-21T06:15:02.837Z"
   },
   {
    "duration": 9,
    "start_time": "2023-02-21T06:15:02.852Z"
   },
   {
    "duration": 21,
    "start_time": "2023-02-21T06:15:02.863Z"
   },
   {
    "duration": 9,
    "start_time": "2023-02-21T06:15:02.886Z"
   },
   {
    "duration": 13,
    "start_time": "2023-02-21T06:15:02.896Z"
   },
   {
    "duration": 680,
    "start_time": "2023-02-21T06:15:02.911Z"
   },
   {
    "duration": 18566,
    "start_time": "2023-02-21T06:15:03.593Z"
   },
   {
    "duration": 30,
    "start_time": "2023-02-21T06:15:22.161Z"
   },
   {
    "duration": 137,
    "start_time": "2023-02-21T06:15:22.193Z"
   },
   {
    "duration": 6,
    "start_time": "2023-02-21T06:15:22.337Z"
   },
   {
    "duration": 5,
    "start_time": "2023-02-21T06:16:50.901Z"
   }
  ],
  "kernelspec": {
   "display_name": "Python 3 (ipykernel)",
   "language": "python",
   "name": "python3"
  },
  "language_info": {
   "codemirror_mode": {
    "name": "ipython",
    "version": 3
   },
   "file_extension": ".py",
   "mimetype": "text/x-python",
   "name": "python",
   "nbconvert_exporter": "python",
   "pygments_lexer": "ipython3",
   "version": "3.9.15"
  },
  "toc": {
   "base_numbering": 1,
   "nav_menu": {},
   "number_sections": true,
   "sideBar": true,
   "skip_h1_title": true,
   "title_cell": "Table of Contents",
   "title_sidebar": "Contents",
   "toc_cell": false,
   "toc_position": {},
   "toc_section_display": true,
   "toc_window_display": false
  }
 },
 "nbformat": 4,
 "nbformat_minor": 2
}
